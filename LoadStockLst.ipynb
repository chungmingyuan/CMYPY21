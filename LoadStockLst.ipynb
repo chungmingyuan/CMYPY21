{
 "cells": [
  {
   "cell_type": "code",
   "execution_count": null,
   "source": [
    "import os\n",
    "from dotenv import load_dotenv\n",
    "import sqlalchemy\n",
    "import pymysql\n",
    "import pandas as pd\n",
    "import yfinance as yf\n",
    "pymysql.install_as_MySQLdb()"
   ],
   "outputs": [],
   "metadata": {}
  },
  {
   "cell_type": "code",
   "execution_count": null,
   "source": [
    "class LoadStockLst:\n",
    "    def __init__(self, name, tkers):\n",
    "        self.name = name\n",
    "        self.tkers = tkers\n",
    "    \n",
    "    def getDbConn(self):\n",
    "        load_dotenv()\n",
    "        DB_ACCESS_KEY = os.getenv(\"DB_ACCESS_KEY\")\n",
    "        engine =\\\n",
    "            sqlalchemy.create_engine(DB_ACCESS_KEY+'/' \\\n",
    "                      +self.name)\n",
    "        return engine.connect()\n",
    "\n",
    "    def createStockLstSchema(self):\n",
    "        try:\n",
    "            load_dotenv()\n",
    "            DB_ACCESS_KEY = os.getenv(\"DB_ACCESS_KEY\")       \n",
    "            engine = sqlalchemy.create_engine(DB_ACCESS_KEY)\n",
    "            engine.execute(sqlalchemy.schema.CreateSchema(self.name))\n",
    "        except Exception as e:\n",
    "            pass\n",
    "            \n",
    "    def loadStockLstTables(self):\n",
    "        goodTkers = [x for x in self.tkers if x == x] #drop all nan\n",
    "        self.conn = self.getDbConn()\n",
    "        for symbol in goodTkers:\n",
    "            space_pos = symbol.find(' ')\n",
    "            if space_pos != -1: # drop char after space in some case\n",
    "                symbol = symbol[:space_pos]\n",
    "            print(symbol)\n",
    "            try:\n",
    "                df = yf.download(symbol, start='2020-01-01')\n",
    "                if len(df)>0:\n",
    "                    df = df.reset_index()\n",
    "                    try:\n",
    "                        df.to_sql(symbol, self.conn, if_exists='replace')\n",
    "                    except Exception as e:\n",
    "                        print(e)\n",
    "            except Exception as e:\n",
    "                pass\n",
    "            \n",
    "    def procStockLst(self):\n",
    "        print(self.tkers)\n",
    "        self.createStockLstSchema() # create schema if not exists\n",
    "        self.loadStockLstTables() #load tables"
   ],
   "outputs": [],
   "metadata": {}
  },
  {
   "cell_type": "code",
   "execution_count": null,
   "source": [
    "cmy1Lst = ['BAC', 'C', 'WFC', 'JPM', 'V']\n",
    "stkLst = LoadStockLst('CMY1', cmy1Lst)\n",
    "stkLst.procStockLst()"
   ],
   "outputs": [],
   "metadata": {}
  },
  {
   "cell_type": "markdown",
   "source": [
    "### Create schema"
   ],
   "metadata": {}
  },
  {
   "cell_type": "code",
   "execution_count": null,
   "source": [
    "# arkxEtfLst=['ARKF']\n",
    "# for etf in arkxEtfLst:\n",
    "#     arkx= loadArkxEtf(etf)\n",
    "#     arkx.procEtfx()"
   ],
   "outputs": [],
   "metadata": {}
  },
  {
   "cell_type": "markdown",
   "source": [
    "### Get symbols"
   ],
   "metadata": {}
  },
  {
   "cell_type": "code",
   "execution_count": null,
   "source": [
    "# arkk = ArkxEtf('ARKK')\n",
    "# arkkTks = arkk.get_tickerlist()\n",
    "# arkkTks = [x for x in arkkTks if x == x] #drop all nan\n",
    "# print(arkkTks)"
   ],
   "outputs": [],
   "metadata": {}
  },
  {
   "cell_type": "markdown",
   "source": [
    "### Create tables"
   ],
   "metadata": {}
  }
 ],
 "metadata": {
  "interpreter": {
   "hash": "dca0ade3e726a953b501b15e8e990130d2b7799f14cfd9f4271676035ebe5511"
  },
  "kernelspec": {
   "name": "python3",
   "display_name": "Python 3.8.8 64-bit ('base': conda)"
  },
  "language_info": {
   "codemirror_mode": {
    "name": "ipython",
    "version": 3
   },
   "file_extension": ".py",
   "mimetype": "text/x-python",
   "name": "python",
   "nbconvert_exporter": "python",
   "pygments_lexer": "ipython3",
   "version": "3.8.8"
  }
 },
 "nbformat": 4,
 "nbformat_minor": 2
}