{
 "cells": [
  {
   "cell_type": "code",
   "execution_count": 19,
   "metadata": {},
   "outputs": [],
   "source": [
    "import os\n",
    "from dotenv import load_dotenv\n",
    "import sqlalchemy\n",
    "import pymysql\n",
    "import ta\n",
    "import pandas as pd\n",
    "import numpy as np\n",
    "import yfinance as yf\n",
    "pymysql.install_as_MySQLdb()\n",
    "import smtplib\n",
    "from pretty_html_table import build_table\n",
    "from email.mime.text import MIMEText\n",
    "from email.mime.multipart import MIMEMultipart\n",
    "from email.mime.image import MIMEImage\n",
    "import datetime as dt\n",
    "\n",
    "import pandas_market_calendars as mcal\n",
    "import plotly.express as px\n",
    "import html\n",
    "import json\n"
   ]
  },
  {
   "cell_type": "code",
   "execution_count": 20,
   "metadata": {},
   "outputs": [],
   "source": [
    "class DbConn:\n",
    "    def __init__(self,name):\n",
    "        self.name = name\n",
    "        load_dotenv()\n",
    "        self.endpoint = os.getenv(\"DB_ACCESS_KEY\")\n",
    "        self.username = os.getenv(\"USERNAME\")\n",
    "        self.password = os.getenv(\"USERPASS\")\n",
    "       \n",
    "    def getDbConn(self):\n",
    "        db_connection_str = \"mysql+pymysql://\"+self.username+ \":\" +self.password +\"@\"+self.endpoint+\"/\"+ self.name\n",
    "        # print(db_connection_str)\n",
    "        return sqlalchemy.create_engine(db_connection_str).connect()\n",
    "\n",
    "    def getDb(self):\n",
    "        return pymysql.connect(host=self.endpoint, user=self.username,passwd=self.password, database= self.name)"
   ]
  },
  {
   "cell_type": "code",
   "execution_count": 21,
   "metadata": {},
   "outputs": [],
   "source": [
    "class GetTaReportParms:\n",
    "    def __init__(self, name):\n",
    "        self.name = name\n",
    "        dbconn = DbConn(name)\n",
    "        self.conn = dbconn.getDbConn()\n",
    "        self.stkGrpLst = self.getStkGrpLst()\n",
    "        self.chgDaylst = self.getChgDayLst()\n",
    "        \n",
    "    def getStkGrpLst(self):\n",
    "        req = self.name+'.'+f'`StockGroup`'\n",
    "        return pd.read_sql(f\"SELECT Name FROM {req}\",self.conn).Name.to_list()\n",
    "    def getChgDayLst(self):\n",
    "        req = self.name+'.'+f'`Property`'\n",
    "        return pd.read_sql(f\"SELECT CAST(value as SIGNED) value FROM {req} where Type = 2\",self.conn).value.to_list()\n"
   ]
  },
  {
   "cell_type": "code",
   "execution_count": 22,
   "metadata": {},
   "outputs": [],
   "source": [
    "class UpdStkGrpYfData:\n",
    "    def __init__(self, name):\n",
    "        self.name = name\n",
    "        dbconn = DbConn(name)\n",
    "        self.conn = dbconn.getDbConn()\n",
    "\n",
    "    def gettables(self):\n",
    "        query = f\"\"\"SELECT table_name FROM information_schema.tables\n",
    "        WHERE table_schema = '{self.name}'\"\"\"\n",
    "        df = pd.read_sql(query, self.conn)\n",
    "        df['Schema'] = self.name\n",
    "        return df\n",
    "\n",
    "    def maxdate(self):\n",
    "        tablesLst = self.gettables()\n",
    "        req = self.name+'.'+f'`{tablesLst.TABLE_NAME[len(tablesLst)-1]}`'\n",
    "        return pd.read_sql(f\"SELECT MAX(Date) FROM {req}\",self.conn)\n",
    "        \n",
    "    def updateDB(self):\n",
    "        maxdate=self.maxdate()['MAX(Date)'][0]\n",
    "        print('DB MaxDate =', maxdate)\n",
    "        for symbol in self.gettables().TABLE_NAME:\n",
    "            data = yf.download(symbol, start=maxdate)\n",
    "            data = data[data.index > maxdate]\n",
    "            data = data.reset_index()\n",
    "            data.to_sql(symbol, self.conn, if_exists='append')\n",
    "        print(f'{self.name} successfully updated')"
   ]
  },
  {
   "cell_type": "code",
   "execution_count": 23,
   "metadata": {},
   "outputs": [],
   "source": [
    "class StkSignals:\n",
    "    def __init__(self, name):\n",
    "        self.name = name\n",
    "        dbconn = DbConn(name)\n",
    "        self.conn = dbconn.getDbConn()\n",
    "    \n",
    "    def getTaResults(self,stockGrpName):\n",
    "        query = f\"\"\"SELECT sg.name StkGrp, r.* FROM `StockGroup` sg\n",
    "        inner join `GrpStkRel` gsr on sg.id = gsr.Gid\n",
    "        inner join `Stock` stk on gsr.Sid = stk.id\n",
    "        inner join `Result` r on stk.Symbol = r.Symbol and r.StkGrp = 'YfData'\n",
    "        where sg.Name ='{stockGrpName}' and r.Date = \n",
    "        (select max(Date) maxDate from `Result`)\"\"\"\n",
    "\n",
    "        dfTaResults = pd.read_sql(query, self.conn)\n",
    "        # print(dfTaResults.StkGrp,dfTaResults.Symbol)\n",
    "        # print(dfTaResults)\n",
    "        return dfTaResults\n",
    "    def createSingnals(self,dfTaResults):\n",
    "        sigColumns=['Name','Symbol','Price','MACD','GC','RSI/SMA']\n",
    "        dfSignals=pd.DataFrame(columns=sigColumns)\n",
    "        for ind in dfTaResults.index:\n",
    "            macd, gc, rsi, sig ='', '', '', ''\n",
    "            if dfTaResults['MACD'][ind] == True: \n",
    "                macd, sig = 'X', 'MACD'\n",
    "            if dfTaResults['GC'][ind] == True:\n",
    "                gc, sig = 'X', 'GC'\n",
    "            if dfTaResults['RSI/SMA'][ind] == True:\n",
    "                rsi, sig = 'X', 'RSI'\n",
    " \n",
    "            dfSignals = dfSignals.append(\n",
    "                {\n",
    "                'Name': 'TA',\n",
    "                'Symbol' : dfTaResults['Symbol'][ind],\n",
    "                'Price' : round(dfTaResults['Close'][ind],2),\n",
    "                'MACD' : macd,\n",
    "                'GC' : gc,\n",
    "                'RSI/SMA' : rsi,\n",
    "                'RSI' : dfTaResults['RSI'][ind],\n",
    "                'RSI2' : dfTaResults['RSI2'][ind],\n",
    "                'RSI3' : dfTaResults['RSI3'][ind],\n",
    "                'Signal' : sig\n",
    "                },ignore_index=True\n",
    "            )\n",
    "        return dfSignals.set_index('Name',drop = True)"
   ]
  },
  {
   "cell_type": "code",
   "execution_count": 24,
   "metadata": {},
   "outputs": [],
   "source": [
    "class ProcStock:\n",
    "    def __init__(self, name):\n",
    "        self.name = name\n",
    "        dbconn = DbConn(name)\n",
    "        self.conn = dbconn.getDbConn()\n",
    "\n",
    "    def gettables(self):\n",
    "        query = f\"\"\"SELECT table_name FROM information_schema.tables\n",
    "        WHERE table_schema = '{self.name}'\"\"\"\n",
    "        df = pd.read_sql(query, self.conn)\n",
    "        df['Schema'] = self.name\n",
    "        return df\n",
    "\n",
    "    def getprices(self):\n",
    "        prices = []\n",
    "        for table, schema in zip(self.gettables().TABLE_NAME, self.gettables().Schema):\n",
    "            req = schema+'.'+f'`{table}`'\n",
    "            prices.append(pd.read_sql(f\"SELECT * \\\n",
    "                FROM (SELECT Date, '{self.name}' as StkGrp, '{table}' as Symbol, Close FROM {req} ORDER BY Date desc Limit 201) SUB ORDER BY Date ASC\",self.conn))\n",
    "        return prices\n"
   ]
  },
  {
   "cell_type": "code",
   "execution_count": 25,
   "metadata": {},
   "outputs": [],
   "source": [
    "class Recommendor:\n",
    "    def __init__(self, name, prices):\n",
    "        self.name = name\n",
    "        self.prices = prices\n",
    "        dbconn = DbConn(name)\n",
    "        self.conn = dbconn.getDbConn()\n",
    "        self.db = dbconn.getDb()\n",
    "   \n",
    "    def MACDdecision(self,df):\n",
    "        df['MACD_diff'] = ta.trend.macd_diff(df.Close)\n",
    "        df['MACD'] = np.where((df.MACD_diff > 0) & (df.MACD_diff.shift(1) < 1), True, False)\n",
    "\n",
    "    def Goldencrossdecision(self,df):\n",
    "        df['SMA20'] = ta.trend.sma_indicator(df.Close, window=20)\n",
    "        df['SMA50'] = ta.trend.sma_indicator(df.Close, window=50)\n",
    "        df['GCSignal'] = np.where(df['SMA20'] > df['SMA50'], True, False)\n",
    "        df['GC'] = df.GCSignal.diff()\n",
    "\n",
    "    def RSI_SMAdecision(self,df):\n",
    "        df['RSI'] = round(ta.momentum.rsi(df.Close, window=10),2)\n",
    "        df['RSI2'] = df['RSI'].shift(1)\n",
    "        df['RSI3'] = df['RSI2'].shift(1)\n",
    "        df['SMA200'] = ta.trend.sma_indicator(df.Close, window=200)\n",
    "        df['RSI/SMA'] = np.where((df.Close > df.SMA200) & (df.RSI < 30), True, False)\n",
    "        print(df.tail(3)['RSI'],'\\nRSI----',df.iloc[-1]['RSI'],'\\nRSI2----',df.iloc[-1]['RSI2'],\n",
    "        '\\nRSI3----',df.iloc[-1]['RSI3'])\n",
    "\n",
    "    def applytechnicals(self):\n",
    "        for frame in self.prices:\n",
    "            self.MACDdecision(frame)\n",
    "            self.Goldencrossdecision(frame)\n",
    "            self.RSI_SMAdecision(frame)\n",
    " \n",
    "    def recommend(self):\n",
    "        indicators = ['MACD','GC','RSI/SMA']\n",
    "        self.applytechnicals()\n",
    "        mycursor = self.db.cursor()\n",
    "        \n",
    "        for frame in self.prices:\n",
    "            if frame.empty is False:\n",
    "                sig =''\n",
    "                for indicator in indicators:\n",
    "                    if frame[indicator].iloc[-1] == True: # only chk today's result in the last row\n",
    "                        if 'MACD' == indicator:\n",
    "                            sig = 'MACD'\n",
    "                        if 'GC' == indicator:\n",
    "                            sig = 'GC' \n",
    "                        if 'RSI/SMA' == indicator:\n",
    "                            sig = 'RSI'\n",
    "                if sig != '':\n",
    "                    dfDb = frame.tail(1)\n",
    "                    dfDb=dfDb.set_index('Date')\n",
    "                    print('\\n<<<<<<<<<<<<\\n',dfDb.head())\n",
    "                    # delete the row if already exists\n",
    "                    # print(type(dfDb),'@@@@@@',dfDb.index.values[0],'+++++++++++',dfDb.iloc[0][0],'-------',dfDb.iloc[0][1])\n",
    "                    sql = f\"DELETE FROM Result WHERE Date = '{dfDb.index.values[0]}' and StkGrp = '{dfDb.iloc[0][0]}' and Symbol = '{dfDb.iloc[0][1]}'\"\n",
    "                    # print('==========',sql)\n",
    "                    mycursor.execute(sql)\n",
    "                    self.db.commit()    \n",
    "                    # add to DB\n",
    "                    dfDb.to_sql('Result', self.conn, if_exists='append')"
   ]
  },
  {
   "cell_type": "code",
   "execution_count": 26,
   "metadata": {},
   "outputs": [],
   "source": [
    "class CreateEmails:\n",
    "    smtp_server ='smtp.gmail.com'\n",
    "    port = 587\n",
    "    def __init__(self, name, dfSignals, pdf):\n",
    "        self.name = name\n",
    "        self.dfSignals =dfSignals\n",
    "        self.pdf = pdf\n",
    "        self.sender = os.getenv(\"SENDER_EMAIL\")\n",
    "        self.receivers = os.getenv(\"RECEIVER_EMAILS\")\n",
    "        self.password = os.getenv(\"PASSWORD\")\n",
    "        self.dbconn = DbConn('TA')\n",
    "        self.conn = self.dbconn.getDbConn()\n",
    "    \n",
    "    def getTaEmails(self,name):\n",
    "        mydb = DbConn('TA')\n",
    "        mycursor = mydb.getDb().cursor()\n",
    "        sql= \"call GetStkGrpEmails(%s)\"\n",
    "        emailLst =[]\n",
    "        mycursor.execute(sql,name)\n",
    "        for emails in mycursor.fetchone():\n",
    "            if emails:\n",
    "                emailLst = json.loads(emails)\n",
    "        mycursor.close()\n",
    "        mydb.getDb().close()\n",
    "        # print(type(emailLst))\n",
    "        return emailLst\n",
    "\n",
    "        \n",
    "    def sendEmails(self):    \n",
    "        taEmails = self.getTaEmails(self.name)\n",
    "        # print('\\n',taEmails)\n",
    "        # print(type(taEmails)) \n",
    "        if len(taEmails) > 0:        \n",
    "            message = MIMEMultipart()\n",
    "            message['Subject'] = f'{self.name} buying signals report'\n",
    "            message['From'] = self.sender\n",
    " \n",
    "            now = dt.datetime.now().strftime(\"%m/%d/%Y %H:%M:%S\")\n",
    "            header = f'<h2>{self.name} buying signals report created at {now} UTC</h2>'\n",
    "            url = 'https://www.tradingview.com/chart/?symbol=' # link to tradeview web site \n",
    "            self.dfSignals['Symbol']= '<a href=\\\"' + url + self.dfSignals['Symbol']+'\\\">' + self.dfSignals['Symbol'] + '</a>'\n",
    "            body = html.unescape(build_table(self.dfSignals, \"green_light\",text_align =\"center\"))\n",
    "            # print(body)\n",
    "            footer = f'<h2>Good Luck!!!</h2>'\n",
    "            img = MIMEImage(self.pdf, \"pdf\" )\n",
    "            img.add_header('Content-Disposition', 'attachment', filename=self.name+\".pdf\")\n",
    "            body_content = header + body + footer\n",
    "            message.attach(MIMEText(body_content, \"html\"))\n",
    "            message.attach(img)\n",
    "            msg_body = message.as_string()\n",
    "            server =smtplib.SMTP(self.smtp_server, self.port)\n",
    "            server.starttls()\n",
    "            server.login(self.sender,self.password)\n",
    "            print('---- taEmails ---- :  ',taEmails)\n",
    "            message['To'] = ', '.join(taEmails)\n",
    "            server.sendmail(self.sender,taEmails,msg_body)\n",
    "            server.quit()\n",
    "        else:\n",
    "            print(\"No Email recipients found for \",self.name,'.')"
   ]
  },
  {
   "cell_type": "code",
   "execution_count": 27,
   "metadata": {},
   "outputs": [],
   "source": [
    "class DbQuoteData:\n",
    "    def __init__(self, name, tickers_lst):\n",
    "        self.name = name\n",
    "        self.tickers_lst = tickers_lst\n",
    "        self.conn = self.getDbConn(name)\n",
    "\n",
    "    def getDbConn(self,name):\n",
    "        dbconn = DbConn(name)\n",
    "        return dbconn.getDbConn()\n",
    "\n",
    "    def gettables(self):\n",
    "        query = f\"\"\"SELECT table_name FROM information_schema.tables\n",
    "        WHERE table_schema = '{self.name}'\"\"\"\n",
    "        df = pd.read_sql(query, self.conn)\n",
    "        df['Schema'] = self.name\n",
    "        return df\n",
    "\n",
    "        \n",
    "\n",
    "    # Step1: Calcualte the start and end dates based on the input days from the valid NYSC calendar\n",
    "    def get_start_end_dates(self,day):\n",
    "    # get the last valid NYSE bus dates for the last 40 calendar dates using market calendar\n",
    "        nyse = mcal.get_calendar('NYSE')\n",
    "        schedule_nyse = nyse.schedule(\n",
    "            (dt.datetime.today()-dt.timedelta(40)).strftime(\"%Y-%m-%d\"),\n",
    "            dt.datetime.today().strftime(\"%Y-%m-%d\"))\n",
    "    #check today's market closed or not\n",
    "        if dt.datetime.now(dt.timezone.utc).hour >= schedule_nyse.market_close[-1].hour:\n",
    "            market_closed_indicator = 0 # now is after 4PM ET- market closed-- we have today's data\n",
    "        else:\n",
    "            market_closed_indicator = 1  # else yesterday's data      \n",
    "        end = schedule_nyse.market_close[-1-market_closed_indicator].strftime(\"%Y-%m-%d\")\n",
    "        start = schedule_nyse.market_close[-day - market_closed_indicator].strftime(\"%Y-%m-%d\")\n",
    "        return start, end\n",
    "    def getDbCloseQuote(self, symbol, date):\n",
    "        req = self.name+'.'+f'`{symbol}`'\n",
    "        sql = f\"SELECT `Adj Close` FROM {req} where Date = '{date}'\"\n",
    "        result = self.conn.execute(sql)\n",
    "        adjCloseQ = 0.0\n",
    "        for row in result:\n",
    "            adjCloseQ = row['Adj Close']\n",
    "        return adjCloseQ\n",
    "    def calcChgs(self,symbol,start,end):\n",
    "        startQ= self.getDbCloseQuote(symbol,start)\n",
    "        endQ= self.getDbCloseQuote(symbol,end)\n",
    "        if (endQ == 0.0 or startQ == 0.0) :\n",
    "            return 0.0\n",
    "        else:\n",
    "            return (endQ-startQ)/startQ*100\n",
    "    # Step2: Get the quotes data from Database based on the input parm 'days'\n",
    "    def calc_percent_chgs(self,day):\n",
    "        start, end = self.get_start_end_dates(day) #call step1\n",
    "        # print(f'get quotes start---{dt.datetime.now().strftime(\"%d/%m/%Y %H:%M:%S\")}')\n",
    "        print(f'Start Date={start}  End Date={end}')\n",
    "        chgs=[]\n",
    "        for symbol in self.tickers_lst:\n",
    "            chg = self.calcChgs(symbol,start, end)\n",
    "            chgs.append(chg)\n",
    "        return chgs"
   ]
  },
  {
   "cell_type": "code",
   "execution_count": 28,
   "metadata": {},
   "outputs": [],
   "source": [
    "class TksChgsByDays:\n",
    "    #days_lst = (2,5,10) # 1D/1W/2W\n",
    "    def __init__(self, name, tks, days):\n",
    "        self.name = name\n",
    "        self.tks = tks\n",
    "        self.days =days    \n",
    "    def get_chgs(self):\n",
    "        tksChgsByDays = []\n",
    "        dbQuoteData =DbQuoteData(self.name, self.tks)\n",
    "        for day in self.days:\n",
    "            tkerChgs = dbQuoteData.calc_percent_chgs(day)\n",
    "            tksChgsByDays.append(tkerChgs) \n",
    "        return tksChgsByDays"
   ]
  },
  {
   "cell_type": "code",
   "execution_count": 29,
   "metadata": {},
   "outputs": [],
   "source": [
    "class PlotChgs:\n",
    "    def __init__(self, name, chgs):\n",
    "        self.name = name\n",
    "        self.chgs = chgs\n",
    "    def doPlot(self):\n",
    "        # print('^^^^^^^\\n',self.chgs.head(10))\n",
    "        \n",
    "        fig = px.bar(self.chgs,width=1000, height=400)\n",
    "        fig.update_layout(barmode = 'group', bargap = 0.2, bargroupgap = 0.0)\n",
    "        fig.update_layout(\n",
    "            title=self.name + \" Percentage Changes\",\n",
    "            title_x=0.5,\n",
    "            xaxis_tickangle=-45,\n",
    "            xaxis_showticklabels= True,\n",
    "            xaxis_type = 'category',\n",
    "            xaxis_title=\"Symbols\",\n",
    "            yaxis_title=\"Percentage\",\n",
    "            legend_title=\"Days\",\n",
    "            font=dict(\n",
    "                family=\"Courier New, monospace\",\n",
    "                size=18,\n",
    "                color=\"RebeccaPurple\"\n",
    "            )\n",
    "        )\n",
    "        fig.show()\n",
    "        pdf = fig.to_image(format=\"pdf\")  \n",
    "        return pdf"
   ]
  },
  {
   "cell_type": "code",
   "execution_count": 30,
   "metadata": {},
   "outputs": [],
   "source": [
    "class ApplyTechAnalysis:\n",
    "    def __init__(self, name):\n",
    "        self.name = name\n",
    "\n",
    "    # get stock data\n",
    "    def getStkprice(self):\n",
    "        stkData = ProcStock(self.name)\n",
    "        self.prices = stkData.getprices()\n",
    "    # create stock recommend results\n",
    "    def applyTa(self):\n",
    "        self.getStkprice()\n",
    "        stkRecommendor = Recommendor('TA',self.prices)\n",
    "        stkRecommendor.recommend()    "
   ]
  },
  {
   "cell_type": "code",
   "execution_count": 31,
   "metadata": {},
   "outputs": [],
   "source": [
    "class StockGrpBuyingReport:\n",
    "    def __init__(self,name, days):\n",
    "        self.name = name\n",
    "        self.days = days\n",
    "    def createBuyingRpt(self):\n",
    "     # create stock buying signals\n",
    "        stkSignals = StkSignals('TA')\n",
    "        dfTaResults = stkSignals.getTaResults(self.name)\n",
    "        dfStkGrpSignals = stkSignals.createSingnals(dfTaResults)\n",
    "        # print('aaaaaaaaaa\\n',dfStkGrpSignals.head(10)) \n",
    "    # create changes\n",
    "        if not dfStkGrpSignals.empty:\n",
    "            stkGrpSymbolLst =dfStkGrpSignals.Symbol.to_list()\n",
    "            stkGrpChgsByDays = TksChgsByDays('YfData', stkGrpSymbolLst, self.days)\n",
    "            stkGrpTksChgsByDays = stkGrpChgsByDays.get_chgs()\n",
    "            # print('!!!!!!\\n',dfStkGrpSignals.head(10)) \n",
    "            df = pd.DataFrame(stkGrpTksChgsByDays).transpose()\n",
    "            df['Symbol']= ('(' + dfStkGrpSignals.Signal +') ' + dfStkGrpSignals.Symbol).to_list() # remove signal col\n",
    "            df=df.set_index('Symbol',drop = True)\n",
    "            daysNames =[]\n",
    "            for day in self.days:\n",
    "                daysNames.append(str(day)+'days Chgs')\n",
    "            df.columns = daysNames\n",
    "            \n",
    "    # create plot\n",
    "            stkGrpchgsPlot=PlotChgs(self.name, df)\n",
    "            svg = stkGrpchgsPlot.doPlot()\n",
    "        \n",
    "    # create email\n",
    "            stkGrpEmails = CreateEmails(self.name,dfStkGrpSignals.drop(columns=['Signal']),svg) #remove signal col\n",
    "            stkGrpEmails.sendEmails()"
   ]
  },
  {
   "cell_type": "code",
   "execution_count": 32,
   "metadata": {},
   "outputs": [],
   "source": [
    "class ArkxEtfLstBuyingRpt:\n",
    "    def __init__(self,etfLst, days):\n",
    "        self.etfLst = etfLst\n",
    "        self.days = days\n",
    "    def createArkxEtfBuyingRpt(self):\n",
    "        for etf in self.etfLst:\n",
    "            print('Zzzzzzzzzzzzz  ',etf,'  Zzzzzzzzzzzzz')\n",
    "            etfStockGrpBuyingReport = StockGrpBuyingReport(etf, self.days)\n",
    "            etfStockGrpBuyingReport.createBuyingRpt()"
   ]
  },
  {
   "cell_type": "code",
   "execution_count": 33,
   "metadata": {},
   "outputs": [
    {
     "name": "stdout",
     "output_type": "stream",
     "text": [
      "Zzzzzzzzzzzzz   ARKK   Zzzzzzzzzzzzz\n",
      "Start Date=2021-10-27  End Date=2021-10-28\n",
      "Start Date=2021-10-22  End Date=2021-10-28\n",
      "Start Date=2021-10-15  End Date=2021-10-28\n"
     ]
    },
    {
     "data": {
      "application/vnd.plotly.v1+json": {
       "config": {
        "plotlyServerURL": "https://plot.ly"
       },
       "data": [
        {
         "alignmentgroup": "True",
         "hovertemplate": "variable=2days Chgs<br>Symbol=%{x}<br>value=%{y}<extra></extra>",
         "legendgroup": "2days Chgs",
         "marker": {
          "color": "#636efa",
          "pattern": {
           "shape": ""
          }
         },
         "name": "2days Chgs",
         "offsetgroup": "2days Chgs",
         "orientation": "v",
         "showlegend": true,
         "textposition": "auto",
         "type": "bar",
         "x": [
          "(MACD) U",
          "(MACD) PATH",
          "(MACD) EXAS",
          "(MACD) PLTR",
          "(MACD) Z",
          "(MACD) CRSP",
          "(MACD) DKNG",
          "(MACD) NVTA",
          "(MACD) BEAM",
          "(MACD) IRDM",
          "(MACD) PD",
          "(MACD) TSP",
          "(MACD) EDIT",
          "(MACD) PACB",
          "(MACD) VCYT",
          "(MACD) SGFY",
          "(MACD) SKLZ",
          "(MACD) TRMB",
          "(MACD) BLI",
          "(MACD) SSYS",
          "(MACD) MTLS",
          "(MACD) CERS",
          "(MACD) NSTG",
          "(MACD) CGEN",
          "(MACD) NTDOY"
         ],
         "xaxis": "x",
         "y": [
          2.769298613587375,
          0,
          2.7397280250829414,
          2.314445076083499,
          5.816696878293799,
          1.3149398973427866,
          -1.3589828580288248,
          3.0900964439523557,
          2.6909262404041394,
          0.6257822158339439,
          1.4695269453555393,
          11.132925512312454,
          3.668484556539879,
          4.625638159892339,
          8.551909101740089,
          3.1625492286850028,
          4.508566213890657,
          2.2979044840423026,
          3.588413116390904,
          1.5763531369776949,
          13.73701324361928,
          4.4728390213047176,
          3.0486512906246546,
          6.045749877089766,
          2.3974504475177962
         ],
         "yaxis": "y"
        },
        {
         "alignmentgroup": "True",
         "hovertemplate": "variable=5days Chgs<br>Symbol=%{x}<br>value=%{y}<extra></extra>",
         "legendgroup": "5days Chgs",
         "marker": {
          "color": "#EF553B",
          "pattern": {
           "shape": ""
          }
         },
         "name": "5days Chgs",
         "offsetgroup": "5days Chgs",
         "orientation": "v",
         "showlegend": true,
         "textposition": "auto",
         "type": "bar",
         "x": [
          "(MACD) U",
          "(MACD) PATH",
          "(MACD) EXAS",
          "(MACD) PLTR",
          "(MACD) Z",
          "(MACD) CRSP",
          "(MACD) DKNG",
          "(MACD) NVTA",
          "(MACD) BEAM",
          "(MACD) IRDM",
          "(MACD) PD",
          "(MACD) TSP",
          "(MACD) EDIT",
          "(MACD) PACB",
          "(MACD) VCYT",
          "(MACD) SGFY",
          "(MACD) SKLZ",
          "(MACD) TRMB",
          "(MACD) BLI",
          "(MACD) SSYS",
          "(MACD) MTLS",
          "(MACD) CERS",
          "(MACD) NSTG",
          "(MACD) CGEN",
          "(MACD) NTDOY"
         ],
         "xaxis": "x",
         "y": [
          2.933612124886792,
          0.7677153454835448,
          2.94743194735377,
          4.952922920006284,
          6.9298334812850655,
          -1.632479696995826,
          2.320537151725838,
          -1.0718086442076533,
          0.5547304078421778,
          -0.8386782064863402,
          0.3095909698061136,
          12.044111577256036,
          0.8725590526640042,
          4.789953881402152,
          6.142237888788753,
          -5.008739700234114,
          14.638976717800025,
          0.6657417164543318,
          -2.995958119876317,
          10.464286804199219,
          13.531799682796825,
          4.807695540685979,
          4.955333887013405,
          5.7003243036371725,
          -0.34634057472175517
         ],
         "yaxis": "y"
        },
        {
         "alignmentgroup": "True",
         "hovertemplate": "variable=10days Chgs<br>Symbol=%{x}<br>value=%{y}<extra></extra>",
         "legendgroup": "10days Chgs",
         "marker": {
          "color": "#00cc96",
          "pattern": {
           "shape": ""
          }
         },
         "name": "10days Chgs",
         "offsetgroup": "10days Chgs",
         "orientation": "v",
         "showlegend": true,
         "textposition": "auto",
         "type": "bar",
         "x": [
          "(MACD) U",
          "(MACD) PATH",
          "(MACD) EXAS",
          "(MACD) PLTR",
          "(MACD) Z",
          "(MACD) CRSP",
          "(MACD) DKNG",
          "(MACD) NVTA",
          "(MACD) BEAM",
          "(MACD) IRDM",
          "(MACD) PD",
          "(MACD) TSP",
          "(MACD) EDIT",
          "(MACD) PACB",
          "(MACD) VCYT",
          "(MACD) SGFY",
          "(MACD) SKLZ",
          "(MACD) TRMB",
          "(MACD) BLI",
          "(MACD) SSYS",
          "(MACD) MTLS",
          "(MACD) CERS",
          "(MACD) NSTG",
          "(MACD) CGEN",
          "(MACD) NTDOY"
         ],
         "xaxis": "x",
         "y": [
          5.014189591644504,
          2.400473910684197,
          -2.233224641186781,
          6.833330790201823,
          3.8222567197636748,
          -3.0927835051546393,
          -1.8718833020043661,
          0.6909110329367898,
          1.2024938307080428,
          2.4726006424210873,
          1.9361065899541996,
          2.668400608058815,
          0.34192810770650106,
          9.430099229052635,
          9.056687702407661,
          -7.957110056711332,
          32.76060435644568,
          3.2615055140858136,
          -6.0392192765778185,
          12.472728382457387,
          21.418237492052715,
          6.862746473002213,
          12.619805608876005,
          2.0440194162688585,
          -2.877958287854923
         ],
         "yaxis": "y"
        }
       ],
       "layout": {
        "bargap": 0.2,
        "bargroupgap": 0,
        "barmode": "group",
        "font": {
         "color": "RebeccaPurple",
         "family": "Courier New, monospace",
         "size": 18
        },
        "height": 400,
        "legend": {
         "title": {
          "text": "Days"
         },
         "tracegroupgap": 0
        },
        "margin": {
         "t": 60
        },
        "template": {
         "data": {
          "bar": [
           {
            "error_x": {
             "color": "#2a3f5f"
            },
            "error_y": {
             "color": "#2a3f5f"
            },
            "marker": {
             "line": {
              "color": "#E5ECF6",
              "width": 0.5
             },
             "pattern": {
              "fillmode": "overlay",
              "size": 10,
              "solidity": 0.2
             }
            },
            "type": "bar"
           }
          ],
          "barpolar": [
           {
            "marker": {
             "line": {
              "color": "#E5ECF6",
              "width": 0.5
             },
             "pattern": {
              "fillmode": "overlay",
              "size": 10,
              "solidity": 0.2
             }
            },
            "type": "barpolar"
           }
          ],
          "carpet": [
           {
            "aaxis": {
             "endlinecolor": "#2a3f5f",
             "gridcolor": "white",
             "linecolor": "white",
             "minorgridcolor": "white",
             "startlinecolor": "#2a3f5f"
            },
            "baxis": {
             "endlinecolor": "#2a3f5f",
             "gridcolor": "white",
             "linecolor": "white",
             "minorgridcolor": "white",
             "startlinecolor": "#2a3f5f"
            },
            "type": "carpet"
           }
          ],
          "choropleth": [
           {
            "colorbar": {
             "outlinewidth": 0,
             "ticks": ""
            },
            "type": "choropleth"
           }
          ],
          "contour": [
           {
            "colorbar": {
             "outlinewidth": 0,
             "ticks": ""
            },
            "colorscale": [
             [
              0,
              "#0d0887"
             ],
             [
              0.1111111111111111,
              "#46039f"
             ],
             [
              0.2222222222222222,
              "#7201a8"
             ],
             [
              0.3333333333333333,
              "#9c179e"
             ],
             [
              0.4444444444444444,
              "#bd3786"
             ],
             [
              0.5555555555555556,
              "#d8576b"
             ],
             [
              0.6666666666666666,
              "#ed7953"
             ],
             [
              0.7777777777777778,
              "#fb9f3a"
             ],
             [
              0.8888888888888888,
              "#fdca26"
             ],
             [
              1,
              "#f0f921"
             ]
            ],
            "type": "contour"
           }
          ],
          "contourcarpet": [
           {
            "colorbar": {
             "outlinewidth": 0,
             "ticks": ""
            },
            "type": "contourcarpet"
           }
          ],
          "heatmap": [
           {
            "colorbar": {
             "outlinewidth": 0,
             "ticks": ""
            },
            "colorscale": [
             [
              0,
              "#0d0887"
             ],
             [
              0.1111111111111111,
              "#46039f"
             ],
             [
              0.2222222222222222,
              "#7201a8"
             ],
             [
              0.3333333333333333,
              "#9c179e"
             ],
             [
              0.4444444444444444,
              "#bd3786"
             ],
             [
              0.5555555555555556,
              "#d8576b"
             ],
             [
              0.6666666666666666,
              "#ed7953"
             ],
             [
              0.7777777777777778,
              "#fb9f3a"
             ],
             [
              0.8888888888888888,
              "#fdca26"
             ],
             [
              1,
              "#f0f921"
             ]
            ],
            "type": "heatmap"
           }
          ],
          "heatmapgl": [
           {
            "colorbar": {
             "outlinewidth": 0,
             "ticks": ""
            },
            "colorscale": [
             [
              0,
              "#0d0887"
             ],
             [
              0.1111111111111111,
              "#46039f"
             ],
             [
              0.2222222222222222,
              "#7201a8"
             ],
             [
              0.3333333333333333,
              "#9c179e"
             ],
             [
              0.4444444444444444,
              "#bd3786"
             ],
             [
              0.5555555555555556,
              "#d8576b"
             ],
             [
              0.6666666666666666,
              "#ed7953"
             ],
             [
              0.7777777777777778,
              "#fb9f3a"
             ],
             [
              0.8888888888888888,
              "#fdca26"
             ],
             [
              1,
              "#f0f921"
             ]
            ],
            "type": "heatmapgl"
           }
          ],
          "histogram": [
           {
            "marker": {
             "pattern": {
              "fillmode": "overlay",
              "size": 10,
              "solidity": 0.2
             }
            },
            "type": "histogram"
           }
          ],
          "histogram2d": [
           {
            "colorbar": {
             "outlinewidth": 0,
             "ticks": ""
            },
            "colorscale": [
             [
              0,
              "#0d0887"
             ],
             [
              0.1111111111111111,
              "#46039f"
             ],
             [
              0.2222222222222222,
              "#7201a8"
             ],
             [
              0.3333333333333333,
              "#9c179e"
             ],
             [
              0.4444444444444444,
              "#bd3786"
             ],
             [
              0.5555555555555556,
              "#d8576b"
             ],
             [
              0.6666666666666666,
              "#ed7953"
             ],
             [
              0.7777777777777778,
              "#fb9f3a"
             ],
             [
              0.8888888888888888,
              "#fdca26"
             ],
             [
              1,
              "#f0f921"
             ]
            ],
            "type": "histogram2d"
           }
          ],
          "histogram2dcontour": [
           {
            "colorbar": {
             "outlinewidth": 0,
             "ticks": ""
            },
            "colorscale": [
             [
              0,
              "#0d0887"
             ],
             [
              0.1111111111111111,
              "#46039f"
             ],
             [
              0.2222222222222222,
              "#7201a8"
             ],
             [
              0.3333333333333333,
              "#9c179e"
             ],
             [
              0.4444444444444444,
              "#bd3786"
             ],
             [
              0.5555555555555556,
              "#d8576b"
             ],
             [
              0.6666666666666666,
              "#ed7953"
             ],
             [
              0.7777777777777778,
              "#fb9f3a"
             ],
             [
              0.8888888888888888,
              "#fdca26"
             ],
             [
              1,
              "#f0f921"
             ]
            ],
            "type": "histogram2dcontour"
           }
          ],
          "mesh3d": [
           {
            "colorbar": {
             "outlinewidth": 0,
             "ticks": ""
            },
            "type": "mesh3d"
           }
          ],
          "parcoords": [
           {
            "line": {
             "colorbar": {
              "outlinewidth": 0,
              "ticks": ""
             }
            },
            "type": "parcoords"
           }
          ],
          "pie": [
           {
            "automargin": true,
            "type": "pie"
           }
          ],
          "scatter": [
           {
            "marker": {
             "colorbar": {
              "outlinewidth": 0,
              "ticks": ""
             }
            },
            "type": "scatter"
           }
          ],
          "scatter3d": [
           {
            "line": {
             "colorbar": {
              "outlinewidth": 0,
              "ticks": ""
             }
            },
            "marker": {
             "colorbar": {
              "outlinewidth": 0,
              "ticks": ""
             }
            },
            "type": "scatter3d"
           }
          ],
          "scattercarpet": [
           {
            "marker": {
             "colorbar": {
              "outlinewidth": 0,
              "ticks": ""
             }
            },
            "type": "scattercarpet"
           }
          ],
          "scattergeo": [
           {
            "marker": {
             "colorbar": {
              "outlinewidth": 0,
              "ticks": ""
             }
            },
            "type": "scattergeo"
           }
          ],
          "scattergl": [
           {
            "marker": {
             "colorbar": {
              "outlinewidth": 0,
              "ticks": ""
             }
            },
            "type": "scattergl"
           }
          ],
          "scattermapbox": [
           {
            "marker": {
             "colorbar": {
              "outlinewidth": 0,
              "ticks": ""
             }
            },
            "type": "scattermapbox"
           }
          ],
          "scatterpolar": [
           {
            "marker": {
             "colorbar": {
              "outlinewidth": 0,
              "ticks": ""
             }
            },
            "type": "scatterpolar"
           }
          ],
          "scatterpolargl": [
           {
            "marker": {
             "colorbar": {
              "outlinewidth": 0,
              "ticks": ""
             }
            },
            "type": "scatterpolargl"
           }
          ],
          "scatterternary": [
           {
            "marker": {
             "colorbar": {
              "outlinewidth": 0,
              "ticks": ""
             }
            },
            "type": "scatterternary"
           }
          ],
          "surface": [
           {
            "colorbar": {
             "outlinewidth": 0,
             "ticks": ""
            },
            "colorscale": [
             [
              0,
              "#0d0887"
             ],
             [
              0.1111111111111111,
              "#46039f"
             ],
             [
              0.2222222222222222,
              "#7201a8"
             ],
             [
              0.3333333333333333,
              "#9c179e"
             ],
             [
              0.4444444444444444,
              "#bd3786"
             ],
             [
              0.5555555555555556,
              "#d8576b"
             ],
             [
              0.6666666666666666,
              "#ed7953"
             ],
             [
              0.7777777777777778,
              "#fb9f3a"
             ],
             [
              0.8888888888888888,
              "#fdca26"
             ],
             [
              1,
              "#f0f921"
             ]
            ],
            "type": "surface"
           }
          ],
          "table": [
           {
            "cells": {
             "fill": {
              "color": "#EBF0F8"
             },
             "line": {
              "color": "white"
             }
            },
            "header": {
             "fill": {
              "color": "#C8D4E3"
             },
             "line": {
              "color": "white"
             }
            },
            "type": "table"
           }
          ]
         },
         "layout": {
          "annotationdefaults": {
           "arrowcolor": "#2a3f5f",
           "arrowhead": 0,
           "arrowwidth": 1
          },
          "autotypenumbers": "strict",
          "coloraxis": {
           "colorbar": {
            "outlinewidth": 0,
            "ticks": ""
           }
          },
          "colorscale": {
           "diverging": [
            [
             0,
             "#8e0152"
            ],
            [
             0.1,
             "#c51b7d"
            ],
            [
             0.2,
             "#de77ae"
            ],
            [
             0.3,
             "#f1b6da"
            ],
            [
             0.4,
             "#fde0ef"
            ],
            [
             0.5,
             "#f7f7f7"
            ],
            [
             0.6,
             "#e6f5d0"
            ],
            [
             0.7,
             "#b8e186"
            ],
            [
             0.8,
             "#7fbc41"
            ],
            [
             0.9,
             "#4d9221"
            ],
            [
             1,
             "#276419"
            ]
           ],
           "sequential": [
            [
             0,
             "#0d0887"
            ],
            [
             0.1111111111111111,
             "#46039f"
            ],
            [
             0.2222222222222222,
             "#7201a8"
            ],
            [
             0.3333333333333333,
             "#9c179e"
            ],
            [
             0.4444444444444444,
             "#bd3786"
            ],
            [
             0.5555555555555556,
             "#d8576b"
            ],
            [
             0.6666666666666666,
             "#ed7953"
            ],
            [
             0.7777777777777778,
             "#fb9f3a"
            ],
            [
             0.8888888888888888,
             "#fdca26"
            ],
            [
             1,
             "#f0f921"
            ]
           ],
           "sequentialminus": [
            [
             0,
             "#0d0887"
            ],
            [
             0.1111111111111111,
             "#46039f"
            ],
            [
             0.2222222222222222,
             "#7201a8"
            ],
            [
             0.3333333333333333,
             "#9c179e"
            ],
            [
             0.4444444444444444,
             "#bd3786"
            ],
            [
             0.5555555555555556,
             "#d8576b"
            ],
            [
             0.6666666666666666,
             "#ed7953"
            ],
            [
             0.7777777777777778,
             "#fb9f3a"
            ],
            [
             0.8888888888888888,
             "#fdca26"
            ],
            [
             1,
             "#f0f921"
            ]
           ]
          },
          "colorway": [
           "#636efa",
           "#EF553B",
           "#00cc96",
           "#ab63fa",
           "#FFA15A",
           "#19d3f3",
           "#FF6692",
           "#B6E880",
           "#FF97FF",
           "#FECB52"
          ],
          "font": {
           "color": "#2a3f5f"
          },
          "geo": {
           "bgcolor": "white",
           "lakecolor": "white",
           "landcolor": "#E5ECF6",
           "showlakes": true,
           "showland": true,
           "subunitcolor": "white"
          },
          "hoverlabel": {
           "align": "left"
          },
          "hovermode": "closest",
          "mapbox": {
           "style": "light"
          },
          "paper_bgcolor": "white",
          "plot_bgcolor": "#E5ECF6",
          "polar": {
           "angularaxis": {
            "gridcolor": "white",
            "linecolor": "white",
            "ticks": ""
           },
           "bgcolor": "#E5ECF6",
           "radialaxis": {
            "gridcolor": "white",
            "linecolor": "white",
            "ticks": ""
           }
          },
          "scene": {
           "xaxis": {
            "backgroundcolor": "#E5ECF6",
            "gridcolor": "white",
            "gridwidth": 2,
            "linecolor": "white",
            "showbackground": true,
            "ticks": "",
            "zerolinecolor": "white"
           },
           "yaxis": {
            "backgroundcolor": "#E5ECF6",
            "gridcolor": "white",
            "gridwidth": 2,
            "linecolor": "white",
            "showbackground": true,
            "ticks": "",
            "zerolinecolor": "white"
           },
           "zaxis": {
            "backgroundcolor": "#E5ECF6",
            "gridcolor": "white",
            "gridwidth": 2,
            "linecolor": "white",
            "showbackground": true,
            "ticks": "",
            "zerolinecolor": "white"
           }
          },
          "shapedefaults": {
           "line": {
            "color": "#2a3f5f"
           }
          },
          "ternary": {
           "aaxis": {
            "gridcolor": "white",
            "linecolor": "white",
            "ticks": ""
           },
           "baxis": {
            "gridcolor": "white",
            "linecolor": "white",
            "ticks": ""
           },
           "bgcolor": "#E5ECF6",
           "caxis": {
            "gridcolor": "white",
            "linecolor": "white",
            "ticks": ""
           }
          },
          "title": {
           "x": 0.05
          },
          "xaxis": {
           "automargin": true,
           "gridcolor": "white",
           "linecolor": "white",
           "ticks": "",
           "title": {
            "standoff": 15
           },
           "zerolinecolor": "white",
           "zerolinewidth": 2
          },
          "yaxis": {
           "automargin": true,
           "gridcolor": "white",
           "linecolor": "white",
           "ticks": "",
           "title": {
            "standoff": 15
           },
           "zerolinecolor": "white",
           "zerolinewidth": 2
          }
         }
        },
        "title": {
         "text": "ARKK Percentage Changes",
         "x": 0.5
        },
        "width": 1000,
        "xaxis": {
         "anchor": "y",
         "domain": [
          0,
          1
         ],
         "showticklabels": true,
         "tickangle": -45,
         "title": {
          "text": "Symbols"
         },
         "type": "category"
        },
        "yaxis": {
         "anchor": "x",
         "domain": [
          0,
          1
         ],
         "title": {
          "text": "Percentage"
         }
        }
       }
      }
     },
     "metadata": {},
     "output_type": "display_data"
    },
    {
     "name": "stdout",
     "output_type": "stream",
     "text": [
      "No Email recipients found for  ARKK .\n",
      "Zzzzzzzzzzzzz   ARKF   Zzzzzzzzzzzzz\n",
      "Start Date=2021-10-27  End Date=2021-10-28\n",
      "Start Date=2021-10-22  End Date=2021-10-28\n",
      "Start Date=2021-10-15  End Date=2021-10-28\n"
     ]
    },
    {
     "data": {
      "application/vnd.plotly.v1+json": {
       "config": {
        "plotlyServerURL": "https://plot.ly"
       },
       "data": [
        {
         "alignmentgroup": "True",
         "hovertemplate": "variable=2days Chgs<br>Symbol=%{x}<br>value=%{y}<extra></extra>",
         "legendgroup": "2days Chgs",
         "marker": {
          "color": "#636efa",
          "pattern": {
           "shape": ""
          }
         },
         "name": "2days Chgs",
         "offsetgroup": "2days Chgs",
         "orientation": "v",
         "showlegend": true,
         "textposition": "auto",
         "type": "bar",
         "x": [
          "(MACD) Z",
          "(MACD) PATH",
          "(MACD) DKNG",
          "(MACD) STNE",
          "(MACD) LC",
          "(MACD) ICE",
          "(MACD) PLTR",
          "(MACD) FTCH"
         ],
         "xaxis": "x",
         "y": [
          5.816696878293799,
          0,
          -1.3589828580288248,
          2.3661615041888897,
          33.048698855898486,
          1.9028269039888719,
          2.314445076083499,
          2.1547196430267346
         ],
         "yaxis": "y"
        },
        {
         "alignmentgroup": "True",
         "hovertemplate": "variable=5days Chgs<br>Symbol=%{x}<br>value=%{y}<extra></extra>",
         "legendgroup": "5days Chgs",
         "marker": {
          "color": "#EF553B",
          "pattern": {
           "shape": ""
          }
         },
         "name": "5days Chgs",
         "offsetgroup": "5days Chgs",
         "orientation": "v",
         "showlegend": true,
         "textposition": "auto",
         "type": "bar",
         "x": [
          "(MACD) Z",
          "(MACD) PATH",
          "(MACD) DKNG",
          "(MACD) STNE",
          "(MACD) LC",
          "(MACD) ICE",
          "(MACD) PLTR",
          "(MACD) FTCH"
         ],
         "xaxis": "x",
         "y": [
          6.9298334812850655,
          0.7677153454835448,
          2.320537151725838,
          -6.05320177252952,
          22.403261571812926,
          2.955926450784958,
          4.952922920006284,
          -1.7723486640799222
         ],
         "yaxis": "y"
        },
        {
         "alignmentgroup": "True",
         "hovertemplate": "variable=10days Chgs<br>Symbol=%{x}<br>value=%{y}<extra></extra>",
         "legendgroup": "10days Chgs",
         "marker": {
          "color": "#00cc96",
          "pattern": {
           "shape": ""
          }
         },
         "name": "10days Chgs",
         "offsetgroup": "10days Chgs",
         "orientation": "v",
         "showlegend": true,
         "textposition": "auto",
         "type": "bar",
         "x": [
          "(MACD) Z",
          "(MACD) PATH",
          "(MACD) DKNG",
          "(MACD) STNE",
          "(MACD) LC",
          "(MACD) ICE",
          "(MACD) PLTR",
          "(MACD) FTCH"
         ],
         "xaxis": "x",
         "y": [
          3.8222567197636748,
          2.400473910684197,
          -1.8718833020043661,
          -7.236667551752742,
          23.011692269940017,
          4.71443398430346,
          6.833330790201823,
          3.935546327915644
         ],
         "yaxis": "y"
        }
       ],
       "layout": {
        "bargap": 0.2,
        "bargroupgap": 0,
        "barmode": "group",
        "font": {
         "color": "RebeccaPurple",
         "family": "Courier New, monospace",
         "size": 18
        },
        "height": 400,
        "legend": {
         "title": {
          "text": "Days"
         },
         "tracegroupgap": 0
        },
        "margin": {
         "t": 60
        },
        "template": {
         "data": {
          "bar": [
           {
            "error_x": {
             "color": "#2a3f5f"
            },
            "error_y": {
             "color": "#2a3f5f"
            },
            "marker": {
             "line": {
              "color": "#E5ECF6",
              "width": 0.5
             },
             "pattern": {
              "fillmode": "overlay",
              "size": 10,
              "solidity": 0.2
             }
            },
            "type": "bar"
           }
          ],
          "barpolar": [
           {
            "marker": {
             "line": {
              "color": "#E5ECF6",
              "width": 0.5
             },
             "pattern": {
              "fillmode": "overlay",
              "size": 10,
              "solidity": 0.2
             }
            },
            "type": "barpolar"
           }
          ],
          "carpet": [
           {
            "aaxis": {
             "endlinecolor": "#2a3f5f",
             "gridcolor": "white",
             "linecolor": "white",
             "minorgridcolor": "white",
             "startlinecolor": "#2a3f5f"
            },
            "baxis": {
             "endlinecolor": "#2a3f5f",
             "gridcolor": "white",
             "linecolor": "white",
             "minorgridcolor": "white",
             "startlinecolor": "#2a3f5f"
            },
            "type": "carpet"
           }
          ],
          "choropleth": [
           {
            "colorbar": {
             "outlinewidth": 0,
             "ticks": ""
            },
            "type": "choropleth"
           }
          ],
          "contour": [
           {
            "colorbar": {
             "outlinewidth": 0,
             "ticks": ""
            },
            "colorscale": [
             [
              0,
              "#0d0887"
             ],
             [
              0.1111111111111111,
              "#46039f"
             ],
             [
              0.2222222222222222,
              "#7201a8"
             ],
             [
              0.3333333333333333,
              "#9c179e"
             ],
             [
              0.4444444444444444,
              "#bd3786"
             ],
             [
              0.5555555555555556,
              "#d8576b"
             ],
             [
              0.6666666666666666,
              "#ed7953"
             ],
             [
              0.7777777777777778,
              "#fb9f3a"
             ],
             [
              0.8888888888888888,
              "#fdca26"
             ],
             [
              1,
              "#f0f921"
             ]
            ],
            "type": "contour"
           }
          ],
          "contourcarpet": [
           {
            "colorbar": {
             "outlinewidth": 0,
             "ticks": ""
            },
            "type": "contourcarpet"
           }
          ],
          "heatmap": [
           {
            "colorbar": {
             "outlinewidth": 0,
             "ticks": ""
            },
            "colorscale": [
             [
              0,
              "#0d0887"
             ],
             [
              0.1111111111111111,
              "#46039f"
             ],
             [
              0.2222222222222222,
              "#7201a8"
             ],
             [
              0.3333333333333333,
              "#9c179e"
             ],
             [
              0.4444444444444444,
              "#bd3786"
             ],
             [
              0.5555555555555556,
              "#d8576b"
             ],
             [
              0.6666666666666666,
              "#ed7953"
             ],
             [
              0.7777777777777778,
              "#fb9f3a"
             ],
             [
              0.8888888888888888,
              "#fdca26"
             ],
             [
              1,
              "#f0f921"
             ]
            ],
            "type": "heatmap"
           }
          ],
          "heatmapgl": [
           {
            "colorbar": {
             "outlinewidth": 0,
             "ticks": ""
            },
            "colorscale": [
             [
              0,
              "#0d0887"
             ],
             [
              0.1111111111111111,
              "#46039f"
             ],
             [
              0.2222222222222222,
              "#7201a8"
             ],
             [
              0.3333333333333333,
              "#9c179e"
             ],
             [
              0.4444444444444444,
              "#bd3786"
             ],
             [
              0.5555555555555556,
              "#d8576b"
             ],
             [
              0.6666666666666666,
              "#ed7953"
             ],
             [
              0.7777777777777778,
              "#fb9f3a"
             ],
             [
              0.8888888888888888,
              "#fdca26"
             ],
             [
              1,
              "#f0f921"
             ]
            ],
            "type": "heatmapgl"
           }
          ],
          "histogram": [
           {
            "marker": {
             "pattern": {
              "fillmode": "overlay",
              "size": 10,
              "solidity": 0.2
             }
            },
            "type": "histogram"
           }
          ],
          "histogram2d": [
           {
            "colorbar": {
             "outlinewidth": 0,
             "ticks": ""
            },
            "colorscale": [
             [
              0,
              "#0d0887"
             ],
             [
              0.1111111111111111,
              "#46039f"
             ],
             [
              0.2222222222222222,
              "#7201a8"
             ],
             [
              0.3333333333333333,
              "#9c179e"
             ],
             [
              0.4444444444444444,
              "#bd3786"
             ],
             [
              0.5555555555555556,
              "#d8576b"
             ],
             [
              0.6666666666666666,
              "#ed7953"
             ],
             [
              0.7777777777777778,
              "#fb9f3a"
             ],
             [
              0.8888888888888888,
              "#fdca26"
             ],
             [
              1,
              "#f0f921"
             ]
            ],
            "type": "histogram2d"
           }
          ],
          "histogram2dcontour": [
           {
            "colorbar": {
             "outlinewidth": 0,
             "ticks": ""
            },
            "colorscale": [
             [
              0,
              "#0d0887"
             ],
             [
              0.1111111111111111,
              "#46039f"
             ],
             [
              0.2222222222222222,
              "#7201a8"
             ],
             [
              0.3333333333333333,
              "#9c179e"
             ],
             [
              0.4444444444444444,
              "#bd3786"
             ],
             [
              0.5555555555555556,
              "#d8576b"
             ],
             [
              0.6666666666666666,
              "#ed7953"
             ],
             [
              0.7777777777777778,
              "#fb9f3a"
             ],
             [
              0.8888888888888888,
              "#fdca26"
             ],
             [
              1,
              "#f0f921"
             ]
            ],
            "type": "histogram2dcontour"
           }
          ],
          "mesh3d": [
           {
            "colorbar": {
             "outlinewidth": 0,
             "ticks": ""
            },
            "type": "mesh3d"
           }
          ],
          "parcoords": [
           {
            "line": {
             "colorbar": {
              "outlinewidth": 0,
              "ticks": ""
             }
            },
            "type": "parcoords"
           }
          ],
          "pie": [
           {
            "automargin": true,
            "type": "pie"
           }
          ],
          "scatter": [
           {
            "marker": {
             "colorbar": {
              "outlinewidth": 0,
              "ticks": ""
             }
            },
            "type": "scatter"
           }
          ],
          "scatter3d": [
           {
            "line": {
             "colorbar": {
              "outlinewidth": 0,
              "ticks": ""
             }
            },
            "marker": {
             "colorbar": {
              "outlinewidth": 0,
              "ticks": ""
             }
            },
            "type": "scatter3d"
           }
          ],
          "scattercarpet": [
           {
            "marker": {
             "colorbar": {
              "outlinewidth": 0,
              "ticks": ""
             }
            },
            "type": "scattercarpet"
           }
          ],
          "scattergeo": [
           {
            "marker": {
             "colorbar": {
              "outlinewidth": 0,
              "ticks": ""
             }
            },
            "type": "scattergeo"
           }
          ],
          "scattergl": [
           {
            "marker": {
             "colorbar": {
              "outlinewidth": 0,
              "ticks": ""
             }
            },
            "type": "scattergl"
           }
          ],
          "scattermapbox": [
           {
            "marker": {
             "colorbar": {
              "outlinewidth": 0,
              "ticks": ""
             }
            },
            "type": "scattermapbox"
           }
          ],
          "scatterpolar": [
           {
            "marker": {
             "colorbar": {
              "outlinewidth": 0,
              "ticks": ""
             }
            },
            "type": "scatterpolar"
           }
          ],
          "scatterpolargl": [
           {
            "marker": {
             "colorbar": {
              "outlinewidth": 0,
              "ticks": ""
             }
            },
            "type": "scatterpolargl"
           }
          ],
          "scatterternary": [
           {
            "marker": {
             "colorbar": {
              "outlinewidth": 0,
              "ticks": ""
             }
            },
            "type": "scatterternary"
           }
          ],
          "surface": [
           {
            "colorbar": {
             "outlinewidth": 0,
             "ticks": ""
            },
            "colorscale": [
             [
              0,
              "#0d0887"
             ],
             [
              0.1111111111111111,
              "#46039f"
             ],
             [
              0.2222222222222222,
              "#7201a8"
             ],
             [
              0.3333333333333333,
              "#9c179e"
             ],
             [
              0.4444444444444444,
              "#bd3786"
             ],
             [
              0.5555555555555556,
              "#d8576b"
             ],
             [
              0.6666666666666666,
              "#ed7953"
             ],
             [
              0.7777777777777778,
              "#fb9f3a"
             ],
             [
              0.8888888888888888,
              "#fdca26"
             ],
             [
              1,
              "#f0f921"
             ]
            ],
            "type": "surface"
           }
          ],
          "table": [
           {
            "cells": {
             "fill": {
              "color": "#EBF0F8"
             },
             "line": {
              "color": "white"
             }
            },
            "header": {
             "fill": {
              "color": "#C8D4E3"
             },
             "line": {
              "color": "white"
             }
            },
            "type": "table"
           }
          ]
         },
         "layout": {
          "annotationdefaults": {
           "arrowcolor": "#2a3f5f",
           "arrowhead": 0,
           "arrowwidth": 1
          },
          "autotypenumbers": "strict",
          "coloraxis": {
           "colorbar": {
            "outlinewidth": 0,
            "ticks": ""
           }
          },
          "colorscale": {
           "diverging": [
            [
             0,
             "#8e0152"
            ],
            [
             0.1,
             "#c51b7d"
            ],
            [
             0.2,
             "#de77ae"
            ],
            [
             0.3,
             "#f1b6da"
            ],
            [
             0.4,
             "#fde0ef"
            ],
            [
             0.5,
             "#f7f7f7"
            ],
            [
             0.6,
             "#e6f5d0"
            ],
            [
             0.7,
             "#b8e186"
            ],
            [
             0.8,
             "#7fbc41"
            ],
            [
             0.9,
             "#4d9221"
            ],
            [
             1,
             "#276419"
            ]
           ],
           "sequential": [
            [
             0,
             "#0d0887"
            ],
            [
             0.1111111111111111,
             "#46039f"
            ],
            [
             0.2222222222222222,
             "#7201a8"
            ],
            [
             0.3333333333333333,
             "#9c179e"
            ],
            [
             0.4444444444444444,
             "#bd3786"
            ],
            [
             0.5555555555555556,
             "#d8576b"
            ],
            [
             0.6666666666666666,
             "#ed7953"
            ],
            [
             0.7777777777777778,
             "#fb9f3a"
            ],
            [
             0.8888888888888888,
             "#fdca26"
            ],
            [
             1,
             "#f0f921"
            ]
           ],
           "sequentialminus": [
            [
             0,
             "#0d0887"
            ],
            [
             0.1111111111111111,
             "#46039f"
            ],
            [
             0.2222222222222222,
             "#7201a8"
            ],
            [
             0.3333333333333333,
             "#9c179e"
            ],
            [
             0.4444444444444444,
             "#bd3786"
            ],
            [
             0.5555555555555556,
             "#d8576b"
            ],
            [
             0.6666666666666666,
             "#ed7953"
            ],
            [
             0.7777777777777778,
             "#fb9f3a"
            ],
            [
             0.8888888888888888,
             "#fdca26"
            ],
            [
             1,
             "#f0f921"
            ]
           ]
          },
          "colorway": [
           "#636efa",
           "#EF553B",
           "#00cc96",
           "#ab63fa",
           "#FFA15A",
           "#19d3f3",
           "#FF6692",
           "#B6E880",
           "#FF97FF",
           "#FECB52"
          ],
          "font": {
           "color": "#2a3f5f"
          },
          "geo": {
           "bgcolor": "white",
           "lakecolor": "white",
           "landcolor": "#E5ECF6",
           "showlakes": true,
           "showland": true,
           "subunitcolor": "white"
          },
          "hoverlabel": {
           "align": "left"
          },
          "hovermode": "closest",
          "mapbox": {
           "style": "light"
          },
          "paper_bgcolor": "white",
          "plot_bgcolor": "#E5ECF6",
          "polar": {
           "angularaxis": {
            "gridcolor": "white",
            "linecolor": "white",
            "ticks": ""
           },
           "bgcolor": "#E5ECF6",
           "radialaxis": {
            "gridcolor": "white",
            "linecolor": "white",
            "ticks": ""
           }
          },
          "scene": {
           "xaxis": {
            "backgroundcolor": "#E5ECF6",
            "gridcolor": "white",
            "gridwidth": 2,
            "linecolor": "white",
            "showbackground": true,
            "ticks": "",
            "zerolinecolor": "white"
           },
           "yaxis": {
            "backgroundcolor": "#E5ECF6",
            "gridcolor": "white",
            "gridwidth": 2,
            "linecolor": "white",
            "showbackground": true,
            "ticks": "",
            "zerolinecolor": "white"
           },
           "zaxis": {
            "backgroundcolor": "#E5ECF6",
            "gridcolor": "white",
            "gridwidth": 2,
            "linecolor": "white",
            "showbackground": true,
            "ticks": "",
            "zerolinecolor": "white"
           }
          },
          "shapedefaults": {
           "line": {
            "color": "#2a3f5f"
           }
          },
          "ternary": {
           "aaxis": {
            "gridcolor": "white",
            "linecolor": "white",
            "ticks": ""
           },
           "baxis": {
            "gridcolor": "white",
            "linecolor": "white",
            "ticks": ""
           },
           "bgcolor": "#E5ECF6",
           "caxis": {
            "gridcolor": "white",
            "linecolor": "white",
            "ticks": ""
           }
          },
          "title": {
           "x": 0.05
          },
          "xaxis": {
           "automargin": true,
           "gridcolor": "white",
           "linecolor": "white",
           "ticks": "",
           "title": {
            "standoff": 15
           },
           "zerolinecolor": "white",
           "zerolinewidth": 2
          },
          "yaxis": {
           "automargin": true,
           "gridcolor": "white",
           "linecolor": "white",
           "ticks": "",
           "title": {
            "standoff": 15
           },
           "zerolinecolor": "white",
           "zerolinewidth": 2
          }
         }
        },
        "title": {
         "text": "ARKF Percentage Changes",
         "x": 0.5
        },
        "width": 1000,
        "xaxis": {
         "anchor": "y",
         "domain": [
          0,
          1
         ],
         "showticklabels": true,
         "tickangle": -45,
         "title": {
          "text": "Symbols"
         },
         "type": "category"
        },
        "yaxis": {
         "anchor": "x",
         "domain": [
          0,
          1
         ],
         "title": {
          "text": "Percentage"
         }
        }
       }
      }
     },
     "metadata": {},
     "output_type": "display_data"
    },
    {
     "name": "stdout",
     "output_type": "stream",
     "text": [
      "---- taEmails ---- :   ['cy627aws2@gmail.com']\n",
      "Zzzzzzzzzzzzz   ARKW   Zzzzzzzzzzzzz\n",
      "Start Date=2021-10-27  End Date=2021-10-28\n",
      "Start Date=2021-10-22  End Date=2021-10-28\n",
      "Start Date=2021-10-15  End Date=2021-10-28\n"
     ]
    },
    {
     "data": {
      "application/vnd.plotly.v1+json": {
       "config": {
        "plotlyServerURL": "https://plot.ly"
       },
       "data": [
        {
         "alignmentgroup": "True",
         "hovertemplate": "variable=2days Chgs<br>Symbol=%{x}<br>value=%{y}<extra></extra>",
         "legendgroup": "2days Chgs",
         "marker": {
          "color": "#636efa",
          "pattern": {
           "shape": ""
          }
         },
         "name": "2days Chgs",
         "offsetgroup": "2days Chgs",
         "orientation": "v",
         "showlegend": true,
         "textposition": "auto",
         "type": "bar",
         "x": [
          "(MACD) GBTC",
          "(MACD) U",
          "(MACD) DKNG",
          "(MACD) PLTR",
          "(MACD) PATH",
          "(MACD) Z",
          "(MACD) RBLX",
          "(MACD) SPLK",
          "(MACD) PD",
          "(MACD) SKLZ",
          "(MACD) FTCH",
          "(MACD) VUZI",
          "(MACD) GENI",
          "(MACD) VCYT",
          "(MACD) KVSB",
          "(MACD) ADYEY",
          "(MACD) NNDM",
          "(GC) CND",
          "(MACD) LC"
         ],
         "xaxis": "x",
         "y": [
          4.250536569427285,
          2.769298613587375,
          -1.3589828580288248,
          2.314445076083499,
          0,
          5.816696878293799,
          2.5656912332602264,
          0.7656967840735069,
          1.4695269453555393,
          4.508566213890657,
          2.1547196430267346,
          13.524586719968202,
          5.52147102213035,
          8.551909101740089,
          -0.8910905860262356,
          -0.32362583399437267,
          3.157900196473647,
          0.09215921526230438,
          33.048698855898486
         ],
         "yaxis": "y"
        },
        {
         "alignmentgroup": "True",
         "hovertemplate": "variable=5days Chgs<br>Symbol=%{x}<br>value=%{y}<extra></extra>",
         "legendgroup": "5days Chgs",
         "marker": {
          "color": "#EF553B",
          "pattern": {
           "shape": ""
          }
         },
         "name": "5days Chgs",
         "offsetgroup": "5days Chgs",
         "orientation": "v",
         "showlegend": true,
         "textposition": "auto",
         "type": "bar",
         "x": [
          "(MACD) GBTC",
          "(MACD) U",
          "(MACD) DKNG",
          "(MACD) PLTR",
          "(MACD) PATH",
          "(MACD) Z",
          "(MACD) RBLX",
          "(MACD) SPLK",
          "(MACD) PD",
          "(MACD) SKLZ",
          "(MACD) FTCH",
          "(MACD) VUZI",
          "(MACD) GENI",
          "(MACD) VCYT",
          "(MACD) KVSB",
          "(MACD) ADYEY",
          "(MACD) NNDM",
          "(GC) CND",
          "(MACD) LC"
         ],
         "xaxis": "x",
         "y": [
          -0.1333305163261218,
          2.933612124886792,
          2.320537151725838,
          4.952922920006284,
          0.7677153454835448,
          6.9298334812850655,
          -1.4646383755259063,
          -1.7734526775270394,
          0.3095909698061136,
          14.638976717800025,
          -1.7723486640799222,
          8.097560231278582,
          4.127682976614352,
          6.142237888788753,
          -0.39800956312322733,
          -1.1235967439997048,
          5.7553988301194705,
          7.845084268066778,
          22.403261571812926
         ],
         "yaxis": "y"
        },
        {
         "alignmentgroup": "True",
         "hovertemplate": "variable=10days Chgs<br>Symbol=%{x}<br>value=%{y}<extra></extra>",
         "legendgroup": "10days Chgs",
         "marker": {
          "color": "#00cc96",
          "pattern": {
           "shape": ""
          }
         },
         "name": "10days Chgs",
         "offsetgroup": "10days Chgs",
         "orientation": "v",
         "showlegend": true,
         "textposition": "auto",
         "type": "bar",
         "x": [
          "(MACD) GBTC",
          "(MACD) U",
          "(MACD) DKNG",
          "(MACD) PLTR",
          "(MACD) PATH",
          "(MACD) Z",
          "(MACD) RBLX",
          "(MACD) SPLK",
          "(MACD) PD",
          "(MACD) SKLZ",
          "(MACD) FTCH",
          "(MACD) VUZI",
          "(MACD) GENI",
          "(MACD) VCYT",
          "(MACD) KVSB",
          "(MACD) ADYEY",
          "(MACD) NNDM",
          "(GC) CND",
          "(MACD) LC"
         ],
         "xaxis": "x",
         "y": [
          2.689309280705477,
          5.014189591644504,
          -1.8718833020043661,
          6.833330790201823,
          2.400473910684197,
          3.8222567197636748,
          8.0569313416277,
          -0.30303030303030304,
          1.9361065899541996,
          32.76060435644568,
          3.935546327915644,
          11.693546758978238,
          3.162485926283992,
          9.056687702407661,
          0,
          0.1300357863494234,
          5.00000383172723,
          6.158359165509766,
          23.011692269940017
         ],
         "yaxis": "y"
        }
       ],
       "layout": {
        "bargap": 0.2,
        "bargroupgap": 0,
        "barmode": "group",
        "font": {
         "color": "RebeccaPurple",
         "family": "Courier New, monospace",
         "size": 18
        },
        "height": 400,
        "legend": {
         "title": {
          "text": "Days"
         },
         "tracegroupgap": 0
        },
        "margin": {
         "t": 60
        },
        "template": {
         "data": {
          "bar": [
           {
            "error_x": {
             "color": "#2a3f5f"
            },
            "error_y": {
             "color": "#2a3f5f"
            },
            "marker": {
             "line": {
              "color": "#E5ECF6",
              "width": 0.5
             },
             "pattern": {
              "fillmode": "overlay",
              "size": 10,
              "solidity": 0.2
             }
            },
            "type": "bar"
           }
          ],
          "barpolar": [
           {
            "marker": {
             "line": {
              "color": "#E5ECF6",
              "width": 0.5
             },
             "pattern": {
              "fillmode": "overlay",
              "size": 10,
              "solidity": 0.2
             }
            },
            "type": "barpolar"
           }
          ],
          "carpet": [
           {
            "aaxis": {
             "endlinecolor": "#2a3f5f",
             "gridcolor": "white",
             "linecolor": "white",
             "minorgridcolor": "white",
             "startlinecolor": "#2a3f5f"
            },
            "baxis": {
             "endlinecolor": "#2a3f5f",
             "gridcolor": "white",
             "linecolor": "white",
             "minorgridcolor": "white",
             "startlinecolor": "#2a3f5f"
            },
            "type": "carpet"
           }
          ],
          "choropleth": [
           {
            "colorbar": {
             "outlinewidth": 0,
             "ticks": ""
            },
            "type": "choropleth"
           }
          ],
          "contour": [
           {
            "colorbar": {
             "outlinewidth": 0,
             "ticks": ""
            },
            "colorscale": [
             [
              0,
              "#0d0887"
             ],
             [
              0.1111111111111111,
              "#46039f"
             ],
             [
              0.2222222222222222,
              "#7201a8"
             ],
             [
              0.3333333333333333,
              "#9c179e"
             ],
             [
              0.4444444444444444,
              "#bd3786"
             ],
             [
              0.5555555555555556,
              "#d8576b"
             ],
             [
              0.6666666666666666,
              "#ed7953"
             ],
             [
              0.7777777777777778,
              "#fb9f3a"
             ],
             [
              0.8888888888888888,
              "#fdca26"
             ],
             [
              1,
              "#f0f921"
             ]
            ],
            "type": "contour"
           }
          ],
          "contourcarpet": [
           {
            "colorbar": {
             "outlinewidth": 0,
             "ticks": ""
            },
            "type": "contourcarpet"
           }
          ],
          "heatmap": [
           {
            "colorbar": {
             "outlinewidth": 0,
             "ticks": ""
            },
            "colorscale": [
             [
              0,
              "#0d0887"
             ],
             [
              0.1111111111111111,
              "#46039f"
             ],
             [
              0.2222222222222222,
              "#7201a8"
             ],
             [
              0.3333333333333333,
              "#9c179e"
             ],
             [
              0.4444444444444444,
              "#bd3786"
             ],
             [
              0.5555555555555556,
              "#d8576b"
             ],
             [
              0.6666666666666666,
              "#ed7953"
             ],
             [
              0.7777777777777778,
              "#fb9f3a"
             ],
             [
              0.8888888888888888,
              "#fdca26"
             ],
             [
              1,
              "#f0f921"
             ]
            ],
            "type": "heatmap"
           }
          ],
          "heatmapgl": [
           {
            "colorbar": {
             "outlinewidth": 0,
             "ticks": ""
            },
            "colorscale": [
             [
              0,
              "#0d0887"
             ],
             [
              0.1111111111111111,
              "#46039f"
             ],
             [
              0.2222222222222222,
              "#7201a8"
             ],
             [
              0.3333333333333333,
              "#9c179e"
             ],
             [
              0.4444444444444444,
              "#bd3786"
             ],
             [
              0.5555555555555556,
              "#d8576b"
             ],
             [
              0.6666666666666666,
              "#ed7953"
             ],
             [
              0.7777777777777778,
              "#fb9f3a"
             ],
             [
              0.8888888888888888,
              "#fdca26"
             ],
             [
              1,
              "#f0f921"
             ]
            ],
            "type": "heatmapgl"
           }
          ],
          "histogram": [
           {
            "marker": {
             "pattern": {
              "fillmode": "overlay",
              "size": 10,
              "solidity": 0.2
             }
            },
            "type": "histogram"
           }
          ],
          "histogram2d": [
           {
            "colorbar": {
             "outlinewidth": 0,
             "ticks": ""
            },
            "colorscale": [
             [
              0,
              "#0d0887"
             ],
             [
              0.1111111111111111,
              "#46039f"
             ],
             [
              0.2222222222222222,
              "#7201a8"
             ],
             [
              0.3333333333333333,
              "#9c179e"
             ],
             [
              0.4444444444444444,
              "#bd3786"
             ],
             [
              0.5555555555555556,
              "#d8576b"
             ],
             [
              0.6666666666666666,
              "#ed7953"
             ],
             [
              0.7777777777777778,
              "#fb9f3a"
             ],
             [
              0.8888888888888888,
              "#fdca26"
             ],
             [
              1,
              "#f0f921"
             ]
            ],
            "type": "histogram2d"
           }
          ],
          "histogram2dcontour": [
           {
            "colorbar": {
             "outlinewidth": 0,
             "ticks": ""
            },
            "colorscale": [
             [
              0,
              "#0d0887"
             ],
             [
              0.1111111111111111,
              "#46039f"
             ],
             [
              0.2222222222222222,
              "#7201a8"
             ],
             [
              0.3333333333333333,
              "#9c179e"
             ],
             [
              0.4444444444444444,
              "#bd3786"
             ],
             [
              0.5555555555555556,
              "#d8576b"
             ],
             [
              0.6666666666666666,
              "#ed7953"
             ],
             [
              0.7777777777777778,
              "#fb9f3a"
             ],
             [
              0.8888888888888888,
              "#fdca26"
             ],
             [
              1,
              "#f0f921"
             ]
            ],
            "type": "histogram2dcontour"
           }
          ],
          "mesh3d": [
           {
            "colorbar": {
             "outlinewidth": 0,
             "ticks": ""
            },
            "type": "mesh3d"
           }
          ],
          "parcoords": [
           {
            "line": {
             "colorbar": {
              "outlinewidth": 0,
              "ticks": ""
             }
            },
            "type": "parcoords"
           }
          ],
          "pie": [
           {
            "automargin": true,
            "type": "pie"
           }
          ],
          "scatter": [
           {
            "marker": {
             "colorbar": {
              "outlinewidth": 0,
              "ticks": ""
             }
            },
            "type": "scatter"
           }
          ],
          "scatter3d": [
           {
            "line": {
             "colorbar": {
              "outlinewidth": 0,
              "ticks": ""
             }
            },
            "marker": {
             "colorbar": {
              "outlinewidth": 0,
              "ticks": ""
             }
            },
            "type": "scatter3d"
           }
          ],
          "scattercarpet": [
           {
            "marker": {
             "colorbar": {
              "outlinewidth": 0,
              "ticks": ""
             }
            },
            "type": "scattercarpet"
           }
          ],
          "scattergeo": [
           {
            "marker": {
             "colorbar": {
              "outlinewidth": 0,
              "ticks": ""
             }
            },
            "type": "scattergeo"
           }
          ],
          "scattergl": [
           {
            "marker": {
             "colorbar": {
              "outlinewidth": 0,
              "ticks": ""
             }
            },
            "type": "scattergl"
           }
          ],
          "scattermapbox": [
           {
            "marker": {
             "colorbar": {
              "outlinewidth": 0,
              "ticks": ""
             }
            },
            "type": "scattermapbox"
           }
          ],
          "scatterpolar": [
           {
            "marker": {
             "colorbar": {
              "outlinewidth": 0,
              "ticks": ""
             }
            },
            "type": "scatterpolar"
           }
          ],
          "scatterpolargl": [
           {
            "marker": {
             "colorbar": {
              "outlinewidth": 0,
              "ticks": ""
             }
            },
            "type": "scatterpolargl"
           }
          ],
          "scatterternary": [
           {
            "marker": {
             "colorbar": {
              "outlinewidth": 0,
              "ticks": ""
             }
            },
            "type": "scatterternary"
           }
          ],
          "surface": [
           {
            "colorbar": {
             "outlinewidth": 0,
             "ticks": ""
            },
            "colorscale": [
             [
              0,
              "#0d0887"
             ],
             [
              0.1111111111111111,
              "#46039f"
             ],
             [
              0.2222222222222222,
              "#7201a8"
             ],
             [
              0.3333333333333333,
              "#9c179e"
             ],
             [
              0.4444444444444444,
              "#bd3786"
             ],
             [
              0.5555555555555556,
              "#d8576b"
             ],
             [
              0.6666666666666666,
              "#ed7953"
             ],
             [
              0.7777777777777778,
              "#fb9f3a"
             ],
             [
              0.8888888888888888,
              "#fdca26"
             ],
             [
              1,
              "#f0f921"
             ]
            ],
            "type": "surface"
           }
          ],
          "table": [
           {
            "cells": {
             "fill": {
              "color": "#EBF0F8"
             },
             "line": {
              "color": "white"
             }
            },
            "header": {
             "fill": {
              "color": "#C8D4E3"
             },
             "line": {
              "color": "white"
             }
            },
            "type": "table"
           }
          ]
         },
         "layout": {
          "annotationdefaults": {
           "arrowcolor": "#2a3f5f",
           "arrowhead": 0,
           "arrowwidth": 1
          },
          "autotypenumbers": "strict",
          "coloraxis": {
           "colorbar": {
            "outlinewidth": 0,
            "ticks": ""
           }
          },
          "colorscale": {
           "diverging": [
            [
             0,
             "#8e0152"
            ],
            [
             0.1,
             "#c51b7d"
            ],
            [
             0.2,
             "#de77ae"
            ],
            [
             0.3,
             "#f1b6da"
            ],
            [
             0.4,
             "#fde0ef"
            ],
            [
             0.5,
             "#f7f7f7"
            ],
            [
             0.6,
             "#e6f5d0"
            ],
            [
             0.7,
             "#b8e186"
            ],
            [
             0.8,
             "#7fbc41"
            ],
            [
             0.9,
             "#4d9221"
            ],
            [
             1,
             "#276419"
            ]
           ],
           "sequential": [
            [
             0,
             "#0d0887"
            ],
            [
             0.1111111111111111,
             "#46039f"
            ],
            [
             0.2222222222222222,
             "#7201a8"
            ],
            [
             0.3333333333333333,
             "#9c179e"
            ],
            [
             0.4444444444444444,
             "#bd3786"
            ],
            [
             0.5555555555555556,
             "#d8576b"
            ],
            [
             0.6666666666666666,
             "#ed7953"
            ],
            [
             0.7777777777777778,
             "#fb9f3a"
            ],
            [
             0.8888888888888888,
             "#fdca26"
            ],
            [
             1,
             "#f0f921"
            ]
           ],
           "sequentialminus": [
            [
             0,
             "#0d0887"
            ],
            [
             0.1111111111111111,
             "#46039f"
            ],
            [
             0.2222222222222222,
             "#7201a8"
            ],
            [
             0.3333333333333333,
             "#9c179e"
            ],
            [
             0.4444444444444444,
             "#bd3786"
            ],
            [
             0.5555555555555556,
             "#d8576b"
            ],
            [
             0.6666666666666666,
             "#ed7953"
            ],
            [
             0.7777777777777778,
             "#fb9f3a"
            ],
            [
             0.8888888888888888,
             "#fdca26"
            ],
            [
             1,
             "#f0f921"
            ]
           ]
          },
          "colorway": [
           "#636efa",
           "#EF553B",
           "#00cc96",
           "#ab63fa",
           "#FFA15A",
           "#19d3f3",
           "#FF6692",
           "#B6E880",
           "#FF97FF",
           "#FECB52"
          ],
          "font": {
           "color": "#2a3f5f"
          },
          "geo": {
           "bgcolor": "white",
           "lakecolor": "white",
           "landcolor": "#E5ECF6",
           "showlakes": true,
           "showland": true,
           "subunitcolor": "white"
          },
          "hoverlabel": {
           "align": "left"
          },
          "hovermode": "closest",
          "mapbox": {
           "style": "light"
          },
          "paper_bgcolor": "white",
          "plot_bgcolor": "#E5ECF6",
          "polar": {
           "angularaxis": {
            "gridcolor": "white",
            "linecolor": "white",
            "ticks": ""
           },
           "bgcolor": "#E5ECF6",
           "radialaxis": {
            "gridcolor": "white",
            "linecolor": "white",
            "ticks": ""
           }
          },
          "scene": {
           "xaxis": {
            "backgroundcolor": "#E5ECF6",
            "gridcolor": "white",
            "gridwidth": 2,
            "linecolor": "white",
            "showbackground": true,
            "ticks": "",
            "zerolinecolor": "white"
           },
           "yaxis": {
            "backgroundcolor": "#E5ECF6",
            "gridcolor": "white",
            "gridwidth": 2,
            "linecolor": "white",
            "showbackground": true,
            "ticks": "",
            "zerolinecolor": "white"
           },
           "zaxis": {
            "backgroundcolor": "#E5ECF6",
            "gridcolor": "white",
            "gridwidth": 2,
            "linecolor": "white",
            "showbackground": true,
            "ticks": "",
            "zerolinecolor": "white"
           }
          },
          "shapedefaults": {
           "line": {
            "color": "#2a3f5f"
           }
          },
          "ternary": {
           "aaxis": {
            "gridcolor": "white",
            "linecolor": "white",
            "ticks": ""
           },
           "baxis": {
            "gridcolor": "white",
            "linecolor": "white",
            "ticks": ""
           },
           "bgcolor": "#E5ECF6",
           "caxis": {
            "gridcolor": "white",
            "linecolor": "white",
            "ticks": ""
           }
          },
          "title": {
           "x": 0.05
          },
          "xaxis": {
           "automargin": true,
           "gridcolor": "white",
           "linecolor": "white",
           "ticks": "",
           "title": {
            "standoff": 15
           },
           "zerolinecolor": "white",
           "zerolinewidth": 2
          },
          "yaxis": {
           "automargin": true,
           "gridcolor": "white",
           "linecolor": "white",
           "ticks": "",
           "title": {
            "standoff": 15
           },
           "zerolinecolor": "white",
           "zerolinewidth": 2
          }
         }
        },
        "title": {
         "text": "ARKW Percentage Changes",
         "x": 0.5
        },
        "width": 1000,
        "xaxis": {
         "anchor": "y",
         "domain": [
          0,
          1
         ],
         "showticklabels": true,
         "tickangle": -45,
         "title": {
          "text": "Symbols"
         },
         "type": "category"
        },
        "yaxis": {
         "anchor": "x",
         "domain": [
          0,
          1
         ],
         "title": {
          "text": "Percentage"
         }
        }
       }
      }
     },
     "metadata": {},
     "output_type": "display_data"
    },
    {
     "name": "stdout",
     "output_type": "stream",
     "text": [
      "No Email recipients found for  ARKW .\n",
      "Zzzzzzzzzzzzz   ARKQ   Zzzzzzzzzzzzz\n",
      "Start Date=2021-10-27  End Date=2021-10-28\n",
      "Start Date=2021-10-22  End Date=2021-10-28\n",
      "Start Date=2021-10-15  End Date=2021-10-28\n"
     ]
    },
    {
     "data": {
      "application/vnd.plotly.v1+json": {
       "config": {
        "plotlyServerURL": "https://plot.ly"
       },
       "data": [
        {
         "alignmentgroup": "True",
         "hovertemplate": "variable=2days Chgs<br>Symbol=%{x}<br>value=%{y}<extra></extra>",
         "legendgroup": "2days Chgs",
         "marker": {
          "color": "#636efa",
          "pattern": {
           "shape": ""
          }
         },
         "name": "2days Chgs",
         "offsetgroup": "2days Chgs",
         "orientation": "v",
         "showlegend": true,
         "textposition": "auto",
         "type": "bar",
         "x": [
          "(MACD) TRMB",
          "(MACD) PATH",
          "(MACD) U",
          "(MACD) IRDM",
          "(MACD) KMTUY",
          "(MACD) DDD",
          "(MACD) TSP",
          "(MACD) MKFG",
          "(MACD) NIU",
          "(MACD) AVAV",
          "(MACD) NNDM",
          "(MACD) CAT",
          "(MACD) MTLS",
          "(MACD) PLTR",
          "(MACD) VUZI",
          "(MACD) SSYS",
          "(MACD) BYDDY"
         ],
         "xaxis": "x",
         "y": [
          2.2979044840423026,
          0,
          2.769298613587375,
          0.6257822158339439,
          4.739882489687456,
          3.142330519200761,
          11.132925512312454,
          0.4470899076101363,
          3.71116633710597,
          -1.5011658729455122,
          3.157900196473647,
          4.0585281481200255,
          13.73701324361928,
          2.314445076083499,
          13.524586719968202,
          1.5763531369776949,
          -6.3906961841672505
         ],
         "yaxis": "y"
        },
        {
         "alignmentgroup": "True",
         "hovertemplate": "variable=5days Chgs<br>Symbol=%{x}<br>value=%{y}<extra></extra>",
         "legendgroup": "5days Chgs",
         "marker": {
          "color": "#EF553B",
          "pattern": {
           "shape": ""
          }
         },
         "name": "5days Chgs",
         "offsetgroup": "5days Chgs",
         "orientation": "v",
         "showlegend": true,
         "textposition": "auto",
         "type": "bar",
         "x": [
          "(MACD) TRMB",
          "(MACD) PATH",
          "(MACD) U",
          "(MACD) IRDM",
          "(MACD) KMTUY",
          "(MACD) DDD",
          "(MACD) TSP",
          "(MACD) MKFG",
          "(MACD) NIU",
          "(MACD) AVAV",
          "(MACD) NNDM",
          "(MACD) CAT",
          "(MACD) MTLS",
          "(MACD) PLTR",
          "(MACD) VUZI",
          "(MACD) SSYS",
          "(MACD) BYDDY"
         ],
         "xaxis": "x",
         "y": [
          0.6657417164543318,
          0.7677153454835448,
          2.933612124886792,
          -0.8386782064863402,
          6.923683019667526,
          4.182221445734615,
          12.044111577256036,
          4.173106486584846,
          6.1081286429926624,
          -2.5308048986288667,
          5.7553988301194705,
          1.714429377546332,
          13.531799682796825,
          4.952922920006284,
          8.097560231278582,
          10.464286804199219,
          -1.7200697544609316
         ],
         "yaxis": "y"
        },
        {
         "alignmentgroup": "True",
         "hovertemplate": "variable=10days Chgs<br>Symbol=%{x}<br>value=%{y}<extra></extra>",
         "legendgroup": "10days Chgs",
         "marker": {
          "color": "#00cc96",
          "pattern": {
           "shape": ""
          }
         },
         "name": "10days Chgs",
         "offsetgroup": "10days Chgs",
         "orientation": "v",
         "showlegend": true,
         "textposition": "auto",
         "type": "bar",
         "x": [
          "(MACD) TRMB",
          "(MACD) PATH",
          "(MACD) U",
          "(MACD) IRDM",
          "(MACD) KMTUY",
          "(MACD) DDD",
          "(MACD) TSP",
          "(MACD) MKFG",
          "(MACD) NIU",
          "(MACD) AVAV",
          "(MACD) NNDM",
          "(MACD) CAT",
          "(MACD) MTLS",
          "(MACD) PLTR",
          "(MACD) VUZI",
          "(MACD) SSYS",
          "(MACD) BYDDY"
         ],
         "xaxis": "x",
         "y": [
          3.2615055140858136,
          2.400473910684197,
          5.014189591644504,
          2.4726006424210873,
          10.12965951817963,
          6.896548700200389,
          2.668400608058815,
          -0.7363798382293063,
          5.933245156772738,
          -1.6760956468158432,
          5.00000383172723,
          2.547478623550225,
          21.418237492052715,
          6.833330790201823,
          11.693546758978238,
          12.472728382457387,
          5.989798305047208
         ],
         "yaxis": "y"
        }
       ],
       "layout": {
        "bargap": 0.2,
        "bargroupgap": 0,
        "barmode": "group",
        "font": {
         "color": "RebeccaPurple",
         "family": "Courier New, monospace",
         "size": 18
        },
        "height": 400,
        "legend": {
         "title": {
          "text": "Days"
         },
         "tracegroupgap": 0
        },
        "margin": {
         "t": 60
        },
        "template": {
         "data": {
          "bar": [
           {
            "error_x": {
             "color": "#2a3f5f"
            },
            "error_y": {
             "color": "#2a3f5f"
            },
            "marker": {
             "line": {
              "color": "#E5ECF6",
              "width": 0.5
             },
             "pattern": {
              "fillmode": "overlay",
              "size": 10,
              "solidity": 0.2
             }
            },
            "type": "bar"
           }
          ],
          "barpolar": [
           {
            "marker": {
             "line": {
              "color": "#E5ECF6",
              "width": 0.5
             },
             "pattern": {
              "fillmode": "overlay",
              "size": 10,
              "solidity": 0.2
             }
            },
            "type": "barpolar"
           }
          ],
          "carpet": [
           {
            "aaxis": {
             "endlinecolor": "#2a3f5f",
             "gridcolor": "white",
             "linecolor": "white",
             "minorgridcolor": "white",
             "startlinecolor": "#2a3f5f"
            },
            "baxis": {
             "endlinecolor": "#2a3f5f",
             "gridcolor": "white",
             "linecolor": "white",
             "minorgridcolor": "white",
             "startlinecolor": "#2a3f5f"
            },
            "type": "carpet"
           }
          ],
          "choropleth": [
           {
            "colorbar": {
             "outlinewidth": 0,
             "ticks": ""
            },
            "type": "choropleth"
           }
          ],
          "contour": [
           {
            "colorbar": {
             "outlinewidth": 0,
             "ticks": ""
            },
            "colorscale": [
             [
              0,
              "#0d0887"
             ],
             [
              0.1111111111111111,
              "#46039f"
             ],
             [
              0.2222222222222222,
              "#7201a8"
             ],
             [
              0.3333333333333333,
              "#9c179e"
             ],
             [
              0.4444444444444444,
              "#bd3786"
             ],
             [
              0.5555555555555556,
              "#d8576b"
             ],
             [
              0.6666666666666666,
              "#ed7953"
             ],
             [
              0.7777777777777778,
              "#fb9f3a"
             ],
             [
              0.8888888888888888,
              "#fdca26"
             ],
             [
              1,
              "#f0f921"
             ]
            ],
            "type": "contour"
           }
          ],
          "contourcarpet": [
           {
            "colorbar": {
             "outlinewidth": 0,
             "ticks": ""
            },
            "type": "contourcarpet"
           }
          ],
          "heatmap": [
           {
            "colorbar": {
             "outlinewidth": 0,
             "ticks": ""
            },
            "colorscale": [
             [
              0,
              "#0d0887"
             ],
             [
              0.1111111111111111,
              "#46039f"
             ],
             [
              0.2222222222222222,
              "#7201a8"
             ],
             [
              0.3333333333333333,
              "#9c179e"
             ],
             [
              0.4444444444444444,
              "#bd3786"
             ],
             [
              0.5555555555555556,
              "#d8576b"
             ],
             [
              0.6666666666666666,
              "#ed7953"
             ],
             [
              0.7777777777777778,
              "#fb9f3a"
             ],
             [
              0.8888888888888888,
              "#fdca26"
             ],
             [
              1,
              "#f0f921"
             ]
            ],
            "type": "heatmap"
           }
          ],
          "heatmapgl": [
           {
            "colorbar": {
             "outlinewidth": 0,
             "ticks": ""
            },
            "colorscale": [
             [
              0,
              "#0d0887"
             ],
             [
              0.1111111111111111,
              "#46039f"
             ],
             [
              0.2222222222222222,
              "#7201a8"
             ],
             [
              0.3333333333333333,
              "#9c179e"
             ],
             [
              0.4444444444444444,
              "#bd3786"
             ],
             [
              0.5555555555555556,
              "#d8576b"
             ],
             [
              0.6666666666666666,
              "#ed7953"
             ],
             [
              0.7777777777777778,
              "#fb9f3a"
             ],
             [
              0.8888888888888888,
              "#fdca26"
             ],
             [
              1,
              "#f0f921"
             ]
            ],
            "type": "heatmapgl"
           }
          ],
          "histogram": [
           {
            "marker": {
             "pattern": {
              "fillmode": "overlay",
              "size": 10,
              "solidity": 0.2
             }
            },
            "type": "histogram"
           }
          ],
          "histogram2d": [
           {
            "colorbar": {
             "outlinewidth": 0,
             "ticks": ""
            },
            "colorscale": [
             [
              0,
              "#0d0887"
             ],
             [
              0.1111111111111111,
              "#46039f"
             ],
             [
              0.2222222222222222,
              "#7201a8"
             ],
             [
              0.3333333333333333,
              "#9c179e"
             ],
             [
              0.4444444444444444,
              "#bd3786"
             ],
             [
              0.5555555555555556,
              "#d8576b"
             ],
             [
              0.6666666666666666,
              "#ed7953"
             ],
             [
              0.7777777777777778,
              "#fb9f3a"
             ],
             [
              0.8888888888888888,
              "#fdca26"
             ],
             [
              1,
              "#f0f921"
             ]
            ],
            "type": "histogram2d"
           }
          ],
          "histogram2dcontour": [
           {
            "colorbar": {
             "outlinewidth": 0,
             "ticks": ""
            },
            "colorscale": [
             [
              0,
              "#0d0887"
             ],
             [
              0.1111111111111111,
              "#46039f"
             ],
             [
              0.2222222222222222,
              "#7201a8"
             ],
             [
              0.3333333333333333,
              "#9c179e"
             ],
             [
              0.4444444444444444,
              "#bd3786"
             ],
             [
              0.5555555555555556,
              "#d8576b"
             ],
             [
              0.6666666666666666,
              "#ed7953"
             ],
             [
              0.7777777777777778,
              "#fb9f3a"
             ],
             [
              0.8888888888888888,
              "#fdca26"
             ],
             [
              1,
              "#f0f921"
             ]
            ],
            "type": "histogram2dcontour"
           }
          ],
          "mesh3d": [
           {
            "colorbar": {
             "outlinewidth": 0,
             "ticks": ""
            },
            "type": "mesh3d"
           }
          ],
          "parcoords": [
           {
            "line": {
             "colorbar": {
              "outlinewidth": 0,
              "ticks": ""
             }
            },
            "type": "parcoords"
           }
          ],
          "pie": [
           {
            "automargin": true,
            "type": "pie"
           }
          ],
          "scatter": [
           {
            "marker": {
             "colorbar": {
              "outlinewidth": 0,
              "ticks": ""
             }
            },
            "type": "scatter"
           }
          ],
          "scatter3d": [
           {
            "line": {
             "colorbar": {
              "outlinewidth": 0,
              "ticks": ""
             }
            },
            "marker": {
             "colorbar": {
              "outlinewidth": 0,
              "ticks": ""
             }
            },
            "type": "scatter3d"
           }
          ],
          "scattercarpet": [
           {
            "marker": {
             "colorbar": {
              "outlinewidth": 0,
              "ticks": ""
             }
            },
            "type": "scattercarpet"
           }
          ],
          "scattergeo": [
           {
            "marker": {
             "colorbar": {
              "outlinewidth": 0,
              "ticks": ""
             }
            },
            "type": "scattergeo"
           }
          ],
          "scattergl": [
           {
            "marker": {
             "colorbar": {
              "outlinewidth": 0,
              "ticks": ""
             }
            },
            "type": "scattergl"
           }
          ],
          "scattermapbox": [
           {
            "marker": {
             "colorbar": {
              "outlinewidth": 0,
              "ticks": ""
             }
            },
            "type": "scattermapbox"
           }
          ],
          "scatterpolar": [
           {
            "marker": {
             "colorbar": {
              "outlinewidth": 0,
              "ticks": ""
             }
            },
            "type": "scatterpolar"
           }
          ],
          "scatterpolargl": [
           {
            "marker": {
             "colorbar": {
              "outlinewidth": 0,
              "ticks": ""
             }
            },
            "type": "scatterpolargl"
           }
          ],
          "scatterternary": [
           {
            "marker": {
             "colorbar": {
              "outlinewidth": 0,
              "ticks": ""
             }
            },
            "type": "scatterternary"
           }
          ],
          "surface": [
           {
            "colorbar": {
             "outlinewidth": 0,
             "ticks": ""
            },
            "colorscale": [
             [
              0,
              "#0d0887"
             ],
             [
              0.1111111111111111,
              "#46039f"
             ],
             [
              0.2222222222222222,
              "#7201a8"
             ],
             [
              0.3333333333333333,
              "#9c179e"
             ],
             [
              0.4444444444444444,
              "#bd3786"
             ],
             [
              0.5555555555555556,
              "#d8576b"
             ],
             [
              0.6666666666666666,
              "#ed7953"
             ],
             [
              0.7777777777777778,
              "#fb9f3a"
             ],
             [
              0.8888888888888888,
              "#fdca26"
             ],
             [
              1,
              "#f0f921"
             ]
            ],
            "type": "surface"
           }
          ],
          "table": [
           {
            "cells": {
             "fill": {
              "color": "#EBF0F8"
             },
             "line": {
              "color": "white"
             }
            },
            "header": {
             "fill": {
              "color": "#C8D4E3"
             },
             "line": {
              "color": "white"
             }
            },
            "type": "table"
           }
          ]
         },
         "layout": {
          "annotationdefaults": {
           "arrowcolor": "#2a3f5f",
           "arrowhead": 0,
           "arrowwidth": 1
          },
          "autotypenumbers": "strict",
          "coloraxis": {
           "colorbar": {
            "outlinewidth": 0,
            "ticks": ""
           }
          },
          "colorscale": {
           "diverging": [
            [
             0,
             "#8e0152"
            ],
            [
             0.1,
             "#c51b7d"
            ],
            [
             0.2,
             "#de77ae"
            ],
            [
             0.3,
             "#f1b6da"
            ],
            [
             0.4,
             "#fde0ef"
            ],
            [
             0.5,
             "#f7f7f7"
            ],
            [
             0.6,
             "#e6f5d0"
            ],
            [
             0.7,
             "#b8e186"
            ],
            [
             0.8,
             "#7fbc41"
            ],
            [
             0.9,
             "#4d9221"
            ],
            [
             1,
             "#276419"
            ]
           ],
           "sequential": [
            [
             0,
             "#0d0887"
            ],
            [
             0.1111111111111111,
             "#46039f"
            ],
            [
             0.2222222222222222,
             "#7201a8"
            ],
            [
             0.3333333333333333,
             "#9c179e"
            ],
            [
             0.4444444444444444,
             "#bd3786"
            ],
            [
             0.5555555555555556,
             "#d8576b"
            ],
            [
             0.6666666666666666,
             "#ed7953"
            ],
            [
             0.7777777777777778,
             "#fb9f3a"
            ],
            [
             0.8888888888888888,
             "#fdca26"
            ],
            [
             1,
             "#f0f921"
            ]
           ],
           "sequentialminus": [
            [
             0,
             "#0d0887"
            ],
            [
             0.1111111111111111,
             "#46039f"
            ],
            [
             0.2222222222222222,
             "#7201a8"
            ],
            [
             0.3333333333333333,
             "#9c179e"
            ],
            [
             0.4444444444444444,
             "#bd3786"
            ],
            [
             0.5555555555555556,
             "#d8576b"
            ],
            [
             0.6666666666666666,
             "#ed7953"
            ],
            [
             0.7777777777777778,
             "#fb9f3a"
            ],
            [
             0.8888888888888888,
             "#fdca26"
            ],
            [
             1,
             "#f0f921"
            ]
           ]
          },
          "colorway": [
           "#636efa",
           "#EF553B",
           "#00cc96",
           "#ab63fa",
           "#FFA15A",
           "#19d3f3",
           "#FF6692",
           "#B6E880",
           "#FF97FF",
           "#FECB52"
          ],
          "font": {
           "color": "#2a3f5f"
          },
          "geo": {
           "bgcolor": "white",
           "lakecolor": "white",
           "landcolor": "#E5ECF6",
           "showlakes": true,
           "showland": true,
           "subunitcolor": "white"
          },
          "hoverlabel": {
           "align": "left"
          },
          "hovermode": "closest",
          "mapbox": {
           "style": "light"
          },
          "paper_bgcolor": "white",
          "plot_bgcolor": "#E5ECF6",
          "polar": {
           "angularaxis": {
            "gridcolor": "white",
            "linecolor": "white",
            "ticks": ""
           },
           "bgcolor": "#E5ECF6",
           "radialaxis": {
            "gridcolor": "white",
            "linecolor": "white",
            "ticks": ""
           }
          },
          "scene": {
           "xaxis": {
            "backgroundcolor": "#E5ECF6",
            "gridcolor": "white",
            "gridwidth": 2,
            "linecolor": "white",
            "showbackground": true,
            "ticks": "",
            "zerolinecolor": "white"
           },
           "yaxis": {
            "backgroundcolor": "#E5ECF6",
            "gridcolor": "white",
            "gridwidth": 2,
            "linecolor": "white",
            "showbackground": true,
            "ticks": "",
            "zerolinecolor": "white"
           },
           "zaxis": {
            "backgroundcolor": "#E5ECF6",
            "gridcolor": "white",
            "gridwidth": 2,
            "linecolor": "white",
            "showbackground": true,
            "ticks": "",
            "zerolinecolor": "white"
           }
          },
          "shapedefaults": {
           "line": {
            "color": "#2a3f5f"
           }
          },
          "ternary": {
           "aaxis": {
            "gridcolor": "white",
            "linecolor": "white",
            "ticks": ""
           },
           "baxis": {
            "gridcolor": "white",
            "linecolor": "white",
            "ticks": ""
           },
           "bgcolor": "#E5ECF6",
           "caxis": {
            "gridcolor": "white",
            "linecolor": "white",
            "ticks": ""
           }
          },
          "title": {
           "x": 0.05
          },
          "xaxis": {
           "automargin": true,
           "gridcolor": "white",
           "linecolor": "white",
           "ticks": "",
           "title": {
            "standoff": 15
           },
           "zerolinecolor": "white",
           "zerolinewidth": 2
          },
          "yaxis": {
           "automargin": true,
           "gridcolor": "white",
           "linecolor": "white",
           "ticks": "",
           "title": {
            "standoff": 15
           },
           "zerolinecolor": "white",
           "zerolinewidth": 2
          }
         }
        },
        "title": {
         "text": "ARKQ Percentage Changes",
         "x": 0.5
        },
        "width": 1000,
        "xaxis": {
         "anchor": "y",
         "domain": [
          0,
          1
         ],
         "showticklabels": true,
         "tickangle": -45,
         "title": {
          "text": "Symbols"
         },
         "type": "category"
        },
        "yaxis": {
         "anchor": "x",
         "domain": [
          0,
          1
         ],
         "title": {
          "text": "Percentage"
         }
        }
       }
      }
     },
     "metadata": {},
     "output_type": "display_data"
    },
    {
     "name": "stdout",
     "output_type": "stream",
     "text": [
      "No Email recipients found for  ARKQ .\n",
      "Zzzzzzzzzzzzz   ARKX   Zzzzzzzzzzzzz\n",
      "Start Date=2021-10-27  End Date=2021-10-28\n",
      "Start Date=2021-10-22  End Date=2021-10-28\n",
      "Start Date=2021-10-15  End Date=2021-10-28\n"
     ]
    },
    {
     "data": {
      "application/vnd.plotly.v1+json": {
       "config": {
        "plotlyServerURL": "https://plot.ly"
       },
       "data": [
        {
         "alignmentgroup": "True",
         "hovertemplate": "variable=2days Chgs<br>Symbol=%{x}<br>value=%{y}<extra></extra>",
         "legendgroup": "2days Chgs",
         "marker": {
          "color": "#636efa",
          "pattern": {
           "shape": ""
          }
         },
         "name": "2days Chgs",
         "offsetgroup": "2days Chgs",
         "orientation": "v",
         "showlegend": true,
         "textposition": "auto",
         "type": "bar",
         "x": [
          "(MACD) TRMB",
          "(MACD) PRNT",
          "(MACD) IRDM",
          "(MACD) U",
          "(MACD) AVAV",
          "(MACD) PATH",
          "(MACD) JOBY",
          "(MACD) MKFG",
          "(MACD) PLTR",
          "(MACD) HON",
          "(MACD) AIR"
         ],
         "xaxis": "x",
         "y": [
          2.2979044840423026,
          1.135754431697267,
          0.6257822158339439,
          2.769298613587375,
          -1.5011658729455122,
          0,
          -0.2272779242065186,
          0.4470899076101363,
          2.314445076083499,
          1.2794337526505886,
          2.417266626152203
         ],
         "yaxis": "y"
        },
        {
         "alignmentgroup": "True",
         "hovertemplate": "variable=5days Chgs<br>Symbol=%{x}<br>value=%{y}<extra></extra>",
         "legendgroup": "5days Chgs",
         "marker": {
          "color": "#EF553B",
          "pattern": {
           "shape": ""
          }
         },
         "name": "5days Chgs",
         "offsetgroup": "5days Chgs",
         "orientation": "v",
         "showlegend": true,
         "textposition": "auto",
         "type": "bar",
         "x": [
          "(MACD) TRMB",
          "(MACD) PRNT",
          "(MACD) IRDM",
          "(MACD) U",
          "(MACD) AVAV",
          "(MACD) PATH",
          "(MACD) JOBY",
          "(MACD) MKFG",
          "(MACD) PLTR",
          "(MACD) HON",
          "(MACD) AIR"
         ],
         "xaxis": "x",
         "y": [
          0.6657417164543318,
          0.835808498289763,
          -0.8386782064863402,
          2.933612124886792,
          -2.5308048986288667,
          0.7677153454835448,
          -2.335929293587214,
          4.173106486584846,
          4.952922920006284,
          0.4967809849934648,
          1.8020625990091825
         ],
         "yaxis": "y"
        },
        {
         "alignmentgroup": "True",
         "hovertemplate": "variable=10days Chgs<br>Symbol=%{x}<br>value=%{y}<extra></extra>",
         "legendgroup": "10days Chgs",
         "marker": {
          "color": "#00cc96",
          "pattern": {
           "shape": ""
          }
         },
         "name": "10days Chgs",
         "offsetgroup": "10days Chgs",
         "orientation": "v",
         "showlegend": true,
         "textposition": "auto",
         "type": "bar",
         "x": [
          "(MACD) TRMB",
          "(MACD) PRNT",
          "(MACD) IRDM",
          "(MACD) U",
          "(MACD) AVAV",
          "(MACD) PATH",
          "(MACD) JOBY",
          "(MACD) MKFG",
          "(MACD) PLTR",
          "(MACD) HON",
          "(MACD) AIR"
         ],
         "xaxis": "x",
         "y": [
          3.2615055140858136,
          3.0303093992776455,
          2.4726006424210873,
          5.014189591644504,
          -1.6760956468158432,
          2.400473910684197,
          1.3856799962293522,
          -0.7363798382293063,
          6.833330790201823,
          -1.0148629398222178,
          5.1713947757360454
         ],
         "yaxis": "y"
        }
       ],
       "layout": {
        "bargap": 0.2,
        "bargroupgap": 0,
        "barmode": "group",
        "font": {
         "color": "RebeccaPurple",
         "family": "Courier New, monospace",
         "size": 18
        },
        "height": 400,
        "legend": {
         "title": {
          "text": "Days"
         },
         "tracegroupgap": 0
        },
        "margin": {
         "t": 60
        },
        "template": {
         "data": {
          "bar": [
           {
            "error_x": {
             "color": "#2a3f5f"
            },
            "error_y": {
             "color": "#2a3f5f"
            },
            "marker": {
             "line": {
              "color": "#E5ECF6",
              "width": 0.5
             },
             "pattern": {
              "fillmode": "overlay",
              "size": 10,
              "solidity": 0.2
             }
            },
            "type": "bar"
           }
          ],
          "barpolar": [
           {
            "marker": {
             "line": {
              "color": "#E5ECF6",
              "width": 0.5
             },
             "pattern": {
              "fillmode": "overlay",
              "size": 10,
              "solidity": 0.2
             }
            },
            "type": "barpolar"
           }
          ],
          "carpet": [
           {
            "aaxis": {
             "endlinecolor": "#2a3f5f",
             "gridcolor": "white",
             "linecolor": "white",
             "minorgridcolor": "white",
             "startlinecolor": "#2a3f5f"
            },
            "baxis": {
             "endlinecolor": "#2a3f5f",
             "gridcolor": "white",
             "linecolor": "white",
             "minorgridcolor": "white",
             "startlinecolor": "#2a3f5f"
            },
            "type": "carpet"
           }
          ],
          "choropleth": [
           {
            "colorbar": {
             "outlinewidth": 0,
             "ticks": ""
            },
            "type": "choropleth"
           }
          ],
          "contour": [
           {
            "colorbar": {
             "outlinewidth": 0,
             "ticks": ""
            },
            "colorscale": [
             [
              0,
              "#0d0887"
             ],
             [
              0.1111111111111111,
              "#46039f"
             ],
             [
              0.2222222222222222,
              "#7201a8"
             ],
             [
              0.3333333333333333,
              "#9c179e"
             ],
             [
              0.4444444444444444,
              "#bd3786"
             ],
             [
              0.5555555555555556,
              "#d8576b"
             ],
             [
              0.6666666666666666,
              "#ed7953"
             ],
             [
              0.7777777777777778,
              "#fb9f3a"
             ],
             [
              0.8888888888888888,
              "#fdca26"
             ],
             [
              1,
              "#f0f921"
             ]
            ],
            "type": "contour"
           }
          ],
          "contourcarpet": [
           {
            "colorbar": {
             "outlinewidth": 0,
             "ticks": ""
            },
            "type": "contourcarpet"
           }
          ],
          "heatmap": [
           {
            "colorbar": {
             "outlinewidth": 0,
             "ticks": ""
            },
            "colorscale": [
             [
              0,
              "#0d0887"
             ],
             [
              0.1111111111111111,
              "#46039f"
             ],
             [
              0.2222222222222222,
              "#7201a8"
             ],
             [
              0.3333333333333333,
              "#9c179e"
             ],
             [
              0.4444444444444444,
              "#bd3786"
             ],
             [
              0.5555555555555556,
              "#d8576b"
             ],
             [
              0.6666666666666666,
              "#ed7953"
             ],
             [
              0.7777777777777778,
              "#fb9f3a"
             ],
             [
              0.8888888888888888,
              "#fdca26"
             ],
             [
              1,
              "#f0f921"
             ]
            ],
            "type": "heatmap"
           }
          ],
          "heatmapgl": [
           {
            "colorbar": {
             "outlinewidth": 0,
             "ticks": ""
            },
            "colorscale": [
             [
              0,
              "#0d0887"
             ],
             [
              0.1111111111111111,
              "#46039f"
             ],
             [
              0.2222222222222222,
              "#7201a8"
             ],
             [
              0.3333333333333333,
              "#9c179e"
             ],
             [
              0.4444444444444444,
              "#bd3786"
             ],
             [
              0.5555555555555556,
              "#d8576b"
             ],
             [
              0.6666666666666666,
              "#ed7953"
             ],
             [
              0.7777777777777778,
              "#fb9f3a"
             ],
             [
              0.8888888888888888,
              "#fdca26"
             ],
             [
              1,
              "#f0f921"
             ]
            ],
            "type": "heatmapgl"
           }
          ],
          "histogram": [
           {
            "marker": {
             "pattern": {
              "fillmode": "overlay",
              "size": 10,
              "solidity": 0.2
             }
            },
            "type": "histogram"
           }
          ],
          "histogram2d": [
           {
            "colorbar": {
             "outlinewidth": 0,
             "ticks": ""
            },
            "colorscale": [
             [
              0,
              "#0d0887"
             ],
             [
              0.1111111111111111,
              "#46039f"
             ],
             [
              0.2222222222222222,
              "#7201a8"
             ],
             [
              0.3333333333333333,
              "#9c179e"
             ],
             [
              0.4444444444444444,
              "#bd3786"
             ],
             [
              0.5555555555555556,
              "#d8576b"
             ],
             [
              0.6666666666666666,
              "#ed7953"
             ],
             [
              0.7777777777777778,
              "#fb9f3a"
             ],
             [
              0.8888888888888888,
              "#fdca26"
             ],
             [
              1,
              "#f0f921"
             ]
            ],
            "type": "histogram2d"
           }
          ],
          "histogram2dcontour": [
           {
            "colorbar": {
             "outlinewidth": 0,
             "ticks": ""
            },
            "colorscale": [
             [
              0,
              "#0d0887"
             ],
             [
              0.1111111111111111,
              "#46039f"
             ],
             [
              0.2222222222222222,
              "#7201a8"
             ],
             [
              0.3333333333333333,
              "#9c179e"
             ],
             [
              0.4444444444444444,
              "#bd3786"
             ],
             [
              0.5555555555555556,
              "#d8576b"
             ],
             [
              0.6666666666666666,
              "#ed7953"
             ],
             [
              0.7777777777777778,
              "#fb9f3a"
             ],
             [
              0.8888888888888888,
              "#fdca26"
             ],
             [
              1,
              "#f0f921"
             ]
            ],
            "type": "histogram2dcontour"
           }
          ],
          "mesh3d": [
           {
            "colorbar": {
             "outlinewidth": 0,
             "ticks": ""
            },
            "type": "mesh3d"
           }
          ],
          "parcoords": [
           {
            "line": {
             "colorbar": {
              "outlinewidth": 0,
              "ticks": ""
             }
            },
            "type": "parcoords"
           }
          ],
          "pie": [
           {
            "automargin": true,
            "type": "pie"
           }
          ],
          "scatter": [
           {
            "marker": {
             "colorbar": {
              "outlinewidth": 0,
              "ticks": ""
             }
            },
            "type": "scatter"
           }
          ],
          "scatter3d": [
           {
            "line": {
             "colorbar": {
              "outlinewidth": 0,
              "ticks": ""
             }
            },
            "marker": {
             "colorbar": {
              "outlinewidth": 0,
              "ticks": ""
             }
            },
            "type": "scatter3d"
           }
          ],
          "scattercarpet": [
           {
            "marker": {
             "colorbar": {
              "outlinewidth": 0,
              "ticks": ""
             }
            },
            "type": "scattercarpet"
           }
          ],
          "scattergeo": [
           {
            "marker": {
             "colorbar": {
              "outlinewidth": 0,
              "ticks": ""
             }
            },
            "type": "scattergeo"
           }
          ],
          "scattergl": [
           {
            "marker": {
             "colorbar": {
              "outlinewidth": 0,
              "ticks": ""
             }
            },
            "type": "scattergl"
           }
          ],
          "scattermapbox": [
           {
            "marker": {
             "colorbar": {
              "outlinewidth": 0,
              "ticks": ""
             }
            },
            "type": "scattermapbox"
           }
          ],
          "scatterpolar": [
           {
            "marker": {
             "colorbar": {
              "outlinewidth": 0,
              "ticks": ""
             }
            },
            "type": "scatterpolar"
           }
          ],
          "scatterpolargl": [
           {
            "marker": {
             "colorbar": {
              "outlinewidth": 0,
              "ticks": ""
             }
            },
            "type": "scatterpolargl"
           }
          ],
          "scatterternary": [
           {
            "marker": {
             "colorbar": {
              "outlinewidth": 0,
              "ticks": ""
             }
            },
            "type": "scatterternary"
           }
          ],
          "surface": [
           {
            "colorbar": {
             "outlinewidth": 0,
             "ticks": ""
            },
            "colorscale": [
             [
              0,
              "#0d0887"
             ],
             [
              0.1111111111111111,
              "#46039f"
             ],
             [
              0.2222222222222222,
              "#7201a8"
             ],
             [
              0.3333333333333333,
              "#9c179e"
             ],
             [
              0.4444444444444444,
              "#bd3786"
             ],
             [
              0.5555555555555556,
              "#d8576b"
             ],
             [
              0.6666666666666666,
              "#ed7953"
             ],
             [
              0.7777777777777778,
              "#fb9f3a"
             ],
             [
              0.8888888888888888,
              "#fdca26"
             ],
             [
              1,
              "#f0f921"
             ]
            ],
            "type": "surface"
           }
          ],
          "table": [
           {
            "cells": {
             "fill": {
              "color": "#EBF0F8"
             },
             "line": {
              "color": "white"
             }
            },
            "header": {
             "fill": {
              "color": "#C8D4E3"
             },
             "line": {
              "color": "white"
             }
            },
            "type": "table"
           }
          ]
         },
         "layout": {
          "annotationdefaults": {
           "arrowcolor": "#2a3f5f",
           "arrowhead": 0,
           "arrowwidth": 1
          },
          "autotypenumbers": "strict",
          "coloraxis": {
           "colorbar": {
            "outlinewidth": 0,
            "ticks": ""
           }
          },
          "colorscale": {
           "diverging": [
            [
             0,
             "#8e0152"
            ],
            [
             0.1,
             "#c51b7d"
            ],
            [
             0.2,
             "#de77ae"
            ],
            [
             0.3,
             "#f1b6da"
            ],
            [
             0.4,
             "#fde0ef"
            ],
            [
             0.5,
             "#f7f7f7"
            ],
            [
             0.6,
             "#e6f5d0"
            ],
            [
             0.7,
             "#b8e186"
            ],
            [
             0.8,
             "#7fbc41"
            ],
            [
             0.9,
             "#4d9221"
            ],
            [
             1,
             "#276419"
            ]
           ],
           "sequential": [
            [
             0,
             "#0d0887"
            ],
            [
             0.1111111111111111,
             "#46039f"
            ],
            [
             0.2222222222222222,
             "#7201a8"
            ],
            [
             0.3333333333333333,
             "#9c179e"
            ],
            [
             0.4444444444444444,
             "#bd3786"
            ],
            [
             0.5555555555555556,
             "#d8576b"
            ],
            [
             0.6666666666666666,
             "#ed7953"
            ],
            [
             0.7777777777777778,
             "#fb9f3a"
            ],
            [
             0.8888888888888888,
             "#fdca26"
            ],
            [
             1,
             "#f0f921"
            ]
           ],
           "sequentialminus": [
            [
             0,
             "#0d0887"
            ],
            [
             0.1111111111111111,
             "#46039f"
            ],
            [
             0.2222222222222222,
             "#7201a8"
            ],
            [
             0.3333333333333333,
             "#9c179e"
            ],
            [
             0.4444444444444444,
             "#bd3786"
            ],
            [
             0.5555555555555556,
             "#d8576b"
            ],
            [
             0.6666666666666666,
             "#ed7953"
            ],
            [
             0.7777777777777778,
             "#fb9f3a"
            ],
            [
             0.8888888888888888,
             "#fdca26"
            ],
            [
             1,
             "#f0f921"
            ]
           ]
          },
          "colorway": [
           "#636efa",
           "#EF553B",
           "#00cc96",
           "#ab63fa",
           "#FFA15A",
           "#19d3f3",
           "#FF6692",
           "#B6E880",
           "#FF97FF",
           "#FECB52"
          ],
          "font": {
           "color": "#2a3f5f"
          },
          "geo": {
           "bgcolor": "white",
           "lakecolor": "white",
           "landcolor": "#E5ECF6",
           "showlakes": true,
           "showland": true,
           "subunitcolor": "white"
          },
          "hoverlabel": {
           "align": "left"
          },
          "hovermode": "closest",
          "mapbox": {
           "style": "light"
          },
          "paper_bgcolor": "white",
          "plot_bgcolor": "#E5ECF6",
          "polar": {
           "angularaxis": {
            "gridcolor": "white",
            "linecolor": "white",
            "ticks": ""
           },
           "bgcolor": "#E5ECF6",
           "radialaxis": {
            "gridcolor": "white",
            "linecolor": "white",
            "ticks": ""
           }
          },
          "scene": {
           "xaxis": {
            "backgroundcolor": "#E5ECF6",
            "gridcolor": "white",
            "gridwidth": 2,
            "linecolor": "white",
            "showbackground": true,
            "ticks": "",
            "zerolinecolor": "white"
           },
           "yaxis": {
            "backgroundcolor": "#E5ECF6",
            "gridcolor": "white",
            "gridwidth": 2,
            "linecolor": "white",
            "showbackground": true,
            "ticks": "",
            "zerolinecolor": "white"
           },
           "zaxis": {
            "backgroundcolor": "#E5ECF6",
            "gridcolor": "white",
            "gridwidth": 2,
            "linecolor": "white",
            "showbackground": true,
            "ticks": "",
            "zerolinecolor": "white"
           }
          },
          "shapedefaults": {
           "line": {
            "color": "#2a3f5f"
           }
          },
          "ternary": {
           "aaxis": {
            "gridcolor": "white",
            "linecolor": "white",
            "ticks": ""
           },
           "baxis": {
            "gridcolor": "white",
            "linecolor": "white",
            "ticks": ""
           },
           "bgcolor": "#E5ECF6",
           "caxis": {
            "gridcolor": "white",
            "linecolor": "white",
            "ticks": ""
           }
          },
          "title": {
           "x": 0.05
          },
          "xaxis": {
           "automargin": true,
           "gridcolor": "white",
           "linecolor": "white",
           "ticks": "",
           "title": {
            "standoff": 15
           },
           "zerolinecolor": "white",
           "zerolinewidth": 2
          },
          "yaxis": {
           "automargin": true,
           "gridcolor": "white",
           "linecolor": "white",
           "ticks": "",
           "title": {
            "standoff": 15
           },
           "zerolinecolor": "white",
           "zerolinewidth": 2
          }
         }
        },
        "title": {
         "text": "ARKX Percentage Changes",
         "x": 0.5
        },
        "width": 1000,
        "xaxis": {
         "anchor": "y",
         "domain": [
          0,
          1
         ],
         "showticklabels": true,
         "tickangle": -45,
         "title": {
          "text": "Symbols"
         },
         "type": "category"
        },
        "yaxis": {
         "anchor": "x",
         "domain": [
          0,
          1
         ],
         "title": {
          "text": "Percentage"
         }
        }
       }
      }
     },
     "metadata": {},
     "output_type": "display_data"
    },
    {
     "name": "stdout",
     "output_type": "stream",
     "text": [
      "---- taEmails ---- :   ['cy627aws2@gmail.com']\n",
      "Zzzzzzzzzzzzz   ARKG   Zzzzzzzzzzzzz\n",
      "Start Date=2021-10-27  End Date=2021-10-28\n",
      "Start Date=2021-10-22  End Date=2021-10-28\n",
      "Start Date=2021-10-15  End Date=2021-10-28\n"
     ]
    },
    {
     "data": {
      "application/vnd.plotly.v1+json": {
       "config": {
        "plotlyServerURL": "https://plot.ly"
       },
       "data": [
        {
         "alignmentgroup": "True",
         "hovertemplate": "variable=2days Chgs<br>Symbol=%{x}<br>value=%{y}<extra></extra>",
         "legendgroup": "2days Chgs",
         "marker": {
          "color": "#636efa",
          "pattern": {
           "shape": ""
          }
         },
         "name": "2days Chgs",
         "offsetgroup": "2days Chgs",
         "orientation": "v",
         "showlegend": true,
         "textposition": "auto",
         "type": "bar",
         "x": [
          "(MACD) EXAS",
          "(MACD) PACB",
          "(MACD) VRTX",
          "(MACD) IONS",
          "(MACD) ACCD",
          "(MACD) CRSP",
          "(MACD) INCY",
          "(MACD) BEAM",
          "(MACD) NVTA",
          "(MACD) ADPT",
          "(MACD) SGFY",
          "(MACD) PATH",
          "(MACD) CSTL",
          "(MACD) CDXS",
          "(MACD) SDGR",
          "(MACD) PSNL",
          "(MACD) PFE",
          "(MACD) VCYT",
          "(MACD) MASS",
          "(MACD) BLI",
          "(MACD) RPTX",
          "(MACD) BFLY",
          "(MACD) SMFR",
          "(MACD) ONEM",
          "(MACD) EDIT",
          "(MACD) VERV",
          "(MACD) RXRX",
          "(MACD) SLGC",
          "(MACD) CLLS",
          "(MACD) PLTR",
          "(MACD) NSTG",
          "(MACD) CERS",
          "(MACD) AQB",
          "(MACD) CGEN",
          "(MACD) DYNS",
          "(MACD) EVGN",
          "(MACD) CRBU",
          "(MACD) NVS",
          "(MACD) BMY"
         ],
         "xaxis": "x",
         "y": [
          2.7397280250829414,
          4.625638159892339,
          0.5858281995641117,
          4.662869244882518,
          1.5486179736064394,
          1.3149398973427866,
          1.1851571934726108,
          2.6909262404041394,
          3.0900964439523557,
          6.767609967252073,
          3.1625492286850028,
          0,
          5.186034942600866,
          4.219041709641939,
          2.5870080057525042,
          7.112067525898476,
          0.48871091111693477,
          8.551909101740089,
          1.6562461853027344,
          3.588413116390904,
          5.959981405583603,
          1.188117633928445,
          5.761847495508969,
          4.037561695566731,
          3.668484556539879,
          5.5787414531676145,
          2.7055714512514584,
          5.48522867177879,
          3.3898273122089977,
          2.314445076083499,
          3.0486512906246546,
          4.4728390213047176,
          2.8350487590559115,
          6.045749877089766,
          0.2985048000182954,
          2.745095472618093,
          -2.9837660283395673,
          0.7010687515118382,
          1.132942769751052
         ],
         "yaxis": "y"
        },
        {
         "alignmentgroup": "True",
         "hovertemplate": "variable=5days Chgs<br>Symbol=%{x}<br>value=%{y}<extra></extra>",
         "legendgroup": "5days Chgs",
         "marker": {
          "color": "#EF553B",
          "pattern": {
           "shape": ""
          }
         },
         "name": "5days Chgs",
         "offsetgroup": "5days Chgs",
         "orientation": "v",
         "showlegend": true,
         "textposition": "auto",
         "type": "bar",
         "x": [
          "(MACD) EXAS",
          "(MACD) PACB",
          "(MACD) VRTX",
          "(MACD) IONS",
          "(MACD) ACCD",
          "(MACD) CRSP",
          "(MACD) INCY",
          "(MACD) BEAM",
          "(MACD) NVTA",
          "(MACD) ADPT",
          "(MACD) SGFY",
          "(MACD) PATH",
          "(MACD) CSTL",
          "(MACD) CDXS",
          "(MACD) SDGR",
          "(MACD) PSNL",
          "(MACD) PFE",
          "(MACD) VCYT",
          "(MACD) MASS",
          "(MACD) BLI",
          "(MACD) RPTX",
          "(MACD) BFLY",
          "(MACD) SMFR",
          "(MACD) ONEM",
          "(MACD) EDIT",
          "(MACD) VERV",
          "(MACD) RXRX",
          "(MACD) SLGC",
          "(MACD) CLLS",
          "(MACD) PLTR",
          "(MACD) NSTG",
          "(MACD) CERS",
          "(MACD) AQB",
          "(MACD) CGEN",
          "(MACD) DYNS",
          "(MACD) EVGN",
          "(MACD) CRBU",
          "(MACD) NVS",
          "(MACD) BMY"
         ],
         "xaxis": "x",
         "y": [
          2.94743194735377,
          4.789953881402152,
          -0.8282499112218197,
          2.4967155569905923,
          2.5378152295903176,
          -1.632479696995826,
          -0.07600402958196507,
          0.5547304078421778,
          -1.0718086442076533,
          2.70511255625091,
          -5.008739700234114,
          0.7677153454835448,
          1.8491947327866272,
          17.075636406906515,
          4.651605939078986,
          4.90764306271664,
          0.046340263749725455,
          6.142237888788753,
          -6.280611819868913,
          -2.995958119876317,
          1.7579735129620175,
          -1.3513455047095957,
          8.827405307304266,
          1.002731577025195,
          0.8725590526640042,
          12.523404310036296,
          8.947665231450364,
          8.790254560497232,
          1.9498521406401255,
          4.952922920006284,
          4.955333887013405,
          4.807695540685979,
          1.526716075326923,
          5.7003243036371725,
          1.204818123488759,
          -2.6022368093816026,
          6.811593214704239,
          -1.8959027850524957,
          -0.8159677403759358
         ],
         "yaxis": "y"
        },
        {
         "alignmentgroup": "True",
         "hovertemplate": "variable=10days Chgs<br>Symbol=%{x}<br>value=%{y}<extra></extra>",
         "legendgroup": "10days Chgs",
         "marker": {
          "color": "#00cc96",
          "pattern": {
           "shape": ""
          }
         },
         "name": "10days Chgs",
         "offsetgroup": "10days Chgs",
         "orientation": "v",
         "showlegend": true,
         "textposition": "auto",
         "type": "bar",
         "x": [
          "(MACD) EXAS",
          "(MACD) PACB",
          "(MACD) VRTX",
          "(MACD) IONS",
          "(MACD) ACCD",
          "(MACD) CRSP",
          "(MACD) INCY",
          "(MACD) BEAM",
          "(MACD) NVTA",
          "(MACD) ADPT",
          "(MACD) SGFY",
          "(MACD) PATH",
          "(MACD) CSTL",
          "(MACD) CDXS",
          "(MACD) SDGR",
          "(MACD) PSNL",
          "(MACD) PFE",
          "(MACD) VCYT",
          "(MACD) MASS",
          "(MACD) BLI",
          "(MACD) RPTX",
          "(MACD) BFLY",
          "(MACD) SMFR",
          "(MACD) ONEM",
          "(MACD) EDIT",
          "(MACD) VERV",
          "(MACD) RXRX",
          "(MACD) SLGC",
          "(MACD) CLLS",
          "(MACD) PLTR",
          "(MACD) NSTG",
          "(MACD) CERS",
          "(MACD) AQB",
          "(MACD) CGEN",
          "(MACD) DYNS",
          "(MACD) EVGN",
          "(MACD) CRBU",
          "(MACD) NVS",
          "(MACD) BMY"
         ],
         "xaxis": "x",
         "y": [
          -2.233224641186781,
          9.430099229052635,
          0.1265311779353399,
          -11.11110507328675,
          0,
          -3.0927835051546393,
          0.2745581328231554,
          1.2024938307080428,
          0.6909110329367898,
          3.1343260807777518,
          -7.957110056711332,
          2.400473910684197,
          0.4875708550897468,
          22.943882544487913,
          -0.43352903869354337,
          -0.30090958718146965,
          4.0732671929152735,
          9.056687702407661,
          1.52933161600525,
          -6.0392192765778185,
          12.828649103438044,
          -3.9473690107305384,
          6.0333795806207995,
          3.454714138573419,
          0.34192810770650106,
          9.424082314792672,
          1.6806705852795165,
          7.851594783706009,
          1.3850380386608827,
          6.833330790201823,
          12.619805608876005,
          6.862746473002213,
          2.04603380946112,
          2.0440194162688585,
          1.3065338385219447,
          -2.23881267550565,
          6.094052055973543,
          -0.024006086669114274,
          -2.1076071442298066
         ],
         "yaxis": "y"
        }
       ],
       "layout": {
        "bargap": 0.2,
        "bargroupgap": 0,
        "barmode": "group",
        "font": {
         "color": "RebeccaPurple",
         "family": "Courier New, monospace",
         "size": 18
        },
        "height": 400,
        "legend": {
         "title": {
          "text": "Days"
         },
         "tracegroupgap": 0
        },
        "margin": {
         "t": 60
        },
        "template": {
         "data": {
          "bar": [
           {
            "error_x": {
             "color": "#2a3f5f"
            },
            "error_y": {
             "color": "#2a3f5f"
            },
            "marker": {
             "line": {
              "color": "#E5ECF6",
              "width": 0.5
             },
             "pattern": {
              "fillmode": "overlay",
              "size": 10,
              "solidity": 0.2
             }
            },
            "type": "bar"
           }
          ],
          "barpolar": [
           {
            "marker": {
             "line": {
              "color": "#E5ECF6",
              "width": 0.5
             },
             "pattern": {
              "fillmode": "overlay",
              "size": 10,
              "solidity": 0.2
             }
            },
            "type": "barpolar"
           }
          ],
          "carpet": [
           {
            "aaxis": {
             "endlinecolor": "#2a3f5f",
             "gridcolor": "white",
             "linecolor": "white",
             "minorgridcolor": "white",
             "startlinecolor": "#2a3f5f"
            },
            "baxis": {
             "endlinecolor": "#2a3f5f",
             "gridcolor": "white",
             "linecolor": "white",
             "minorgridcolor": "white",
             "startlinecolor": "#2a3f5f"
            },
            "type": "carpet"
           }
          ],
          "choropleth": [
           {
            "colorbar": {
             "outlinewidth": 0,
             "ticks": ""
            },
            "type": "choropleth"
           }
          ],
          "contour": [
           {
            "colorbar": {
             "outlinewidth": 0,
             "ticks": ""
            },
            "colorscale": [
             [
              0,
              "#0d0887"
             ],
             [
              0.1111111111111111,
              "#46039f"
             ],
             [
              0.2222222222222222,
              "#7201a8"
             ],
             [
              0.3333333333333333,
              "#9c179e"
             ],
             [
              0.4444444444444444,
              "#bd3786"
             ],
             [
              0.5555555555555556,
              "#d8576b"
             ],
             [
              0.6666666666666666,
              "#ed7953"
             ],
             [
              0.7777777777777778,
              "#fb9f3a"
             ],
             [
              0.8888888888888888,
              "#fdca26"
             ],
             [
              1,
              "#f0f921"
             ]
            ],
            "type": "contour"
           }
          ],
          "contourcarpet": [
           {
            "colorbar": {
             "outlinewidth": 0,
             "ticks": ""
            },
            "type": "contourcarpet"
           }
          ],
          "heatmap": [
           {
            "colorbar": {
             "outlinewidth": 0,
             "ticks": ""
            },
            "colorscale": [
             [
              0,
              "#0d0887"
             ],
             [
              0.1111111111111111,
              "#46039f"
             ],
             [
              0.2222222222222222,
              "#7201a8"
             ],
             [
              0.3333333333333333,
              "#9c179e"
             ],
             [
              0.4444444444444444,
              "#bd3786"
             ],
             [
              0.5555555555555556,
              "#d8576b"
             ],
             [
              0.6666666666666666,
              "#ed7953"
             ],
             [
              0.7777777777777778,
              "#fb9f3a"
             ],
             [
              0.8888888888888888,
              "#fdca26"
             ],
             [
              1,
              "#f0f921"
             ]
            ],
            "type": "heatmap"
           }
          ],
          "heatmapgl": [
           {
            "colorbar": {
             "outlinewidth": 0,
             "ticks": ""
            },
            "colorscale": [
             [
              0,
              "#0d0887"
             ],
             [
              0.1111111111111111,
              "#46039f"
             ],
             [
              0.2222222222222222,
              "#7201a8"
             ],
             [
              0.3333333333333333,
              "#9c179e"
             ],
             [
              0.4444444444444444,
              "#bd3786"
             ],
             [
              0.5555555555555556,
              "#d8576b"
             ],
             [
              0.6666666666666666,
              "#ed7953"
             ],
             [
              0.7777777777777778,
              "#fb9f3a"
             ],
             [
              0.8888888888888888,
              "#fdca26"
             ],
             [
              1,
              "#f0f921"
             ]
            ],
            "type": "heatmapgl"
           }
          ],
          "histogram": [
           {
            "marker": {
             "pattern": {
              "fillmode": "overlay",
              "size": 10,
              "solidity": 0.2
             }
            },
            "type": "histogram"
           }
          ],
          "histogram2d": [
           {
            "colorbar": {
             "outlinewidth": 0,
             "ticks": ""
            },
            "colorscale": [
             [
              0,
              "#0d0887"
             ],
             [
              0.1111111111111111,
              "#46039f"
             ],
             [
              0.2222222222222222,
              "#7201a8"
             ],
             [
              0.3333333333333333,
              "#9c179e"
             ],
             [
              0.4444444444444444,
              "#bd3786"
             ],
             [
              0.5555555555555556,
              "#d8576b"
             ],
             [
              0.6666666666666666,
              "#ed7953"
             ],
             [
              0.7777777777777778,
              "#fb9f3a"
             ],
             [
              0.8888888888888888,
              "#fdca26"
             ],
             [
              1,
              "#f0f921"
             ]
            ],
            "type": "histogram2d"
           }
          ],
          "histogram2dcontour": [
           {
            "colorbar": {
             "outlinewidth": 0,
             "ticks": ""
            },
            "colorscale": [
             [
              0,
              "#0d0887"
             ],
             [
              0.1111111111111111,
              "#46039f"
             ],
             [
              0.2222222222222222,
              "#7201a8"
             ],
             [
              0.3333333333333333,
              "#9c179e"
             ],
             [
              0.4444444444444444,
              "#bd3786"
             ],
             [
              0.5555555555555556,
              "#d8576b"
             ],
             [
              0.6666666666666666,
              "#ed7953"
             ],
             [
              0.7777777777777778,
              "#fb9f3a"
             ],
             [
              0.8888888888888888,
              "#fdca26"
             ],
             [
              1,
              "#f0f921"
             ]
            ],
            "type": "histogram2dcontour"
           }
          ],
          "mesh3d": [
           {
            "colorbar": {
             "outlinewidth": 0,
             "ticks": ""
            },
            "type": "mesh3d"
           }
          ],
          "parcoords": [
           {
            "line": {
             "colorbar": {
              "outlinewidth": 0,
              "ticks": ""
             }
            },
            "type": "parcoords"
           }
          ],
          "pie": [
           {
            "automargin": true,
            "type": "pie"
           }
          ],
          "scatter": [
           {
            "marker": {
             "colorbar": {
              "outlinewidth": 0,
              "ticks": ""
             }
            },
            "type": "scatter"
           }
          ],
          "scatter3d": [
           {
            "line": {
             "colorbar": {
              "outlinewidth": 0,
              "ticks": ""
             }
            },
            "marker": {
             "colorbar": {
              "outlinewidth": 0,
              "ticks": ""
             }
            },
            "type": "scatter3d"
           }
          ],
          "scattercarpet": [
           {
            "marker": {
             "colorbar": {
              "outlinewidth": 0,
              "ticks": ""
             }
            },
            "type": "scattercarpet"
           }
          ],
          "scattergeo": [
           {
            "marker": {
             "colorbar": {
              "outlinewidth": 0,
              "ticks": ""
             }
            },
            "type": "scattergeo"
           }
          ],
          "scattergl": [
           {
            "marker": {
             "colorbar": {
              "outlinewidth": 0,
              "ticks": ""
             }
            },
            "type": "scattergl"
           }
          ],
          "scattermapbox": [
           {
            "marker": {
             "colorbar": {
              "outlinewidth": 0,
              "ticks": ""
             }
            },
            "type": "scattermapbox"
           }
          ],
          "scatterpolar": [
           {
            "marker": {
             "colorbar": {
              "outlinewidth": 0,
              "ticks": ""
             }
            },
            "type": "scatterpolar"
           }
          ],
          "scatterpolargl": [
           {
            "marker": {
             "colorbar": {
              "outlinewidth": 0,
              "ticks": ""
             }
            },
            "type": "scatterpolargl"
           }
          ],
          "scatterternary": [
           {
            "marker": {
             "colorbar": {
              "outlinewidth": 0,
              "ticks": ""
             }
            },
            "type": "scatterternary"
           }
          ],
          "surface": [
           {
            "colorbar": {
             "outlinewidth": 0,
             "ticks": ""
            },
            "colorscale": [
             [
              0,
              "#0d0887"
             ],
             [
              0.1111111111111111,
              "#46039f"
             ],
             [
              0.2222222222222222,
              "#7201a8"
             ],
             [
              0.3333333333333333,
              "#9c179e"
             ],
             [
              0.4444444444444444,
              "#bd3786"
             ],
             [
              0.5555555555555556,
              "#d8576b"
             ],
             [
              0.6666666666666666,
              "#ed7953"
             ],
             [
              0.7777777777777778,
              "#fb9f3a"
             ],
             [
              0.8888888888888888,
              "#fdca26"
             ],
             [
              1,
              "#f0f921"
             ]
            ],
            "type": "surface"
           }
          ],
          "table": [
           {
            "cells": {
             "fill": {
              "color": "#EBF0F8"
             },
             "line": {
              "color": "white"
             }
            },
            "header": {
             "fill": {
              "color": "#C8D4E3"
             },
             "line": {
              "color": "white"
             }
            },
            "type": "table"
           }
          ]
         },
         "layout": {
          "annotationdefaults": {
           "arrowcolor": "#2a3f5f",
           "arrowhead": 0,
           "arrowwidth": 1
          },
          "autotypenumbers": "strict",
          "coloraxis": {
           "colorbar": {
            "outlinewidth": 0,
            "ticks": ""
           }
          },
          "colorscale": {
           "diverging": [
            [
             0,
             "#8e0152"
            ],
            [
             0.1,
             "#c51b7d"
            ],
            [
             0.2,
             "#de77ae"
            ],
            [
             0.3,
             "#f1b6da"
            ],
            [
             0.4,
             "#fde0ef"
            ],
            [
             0.5,
             "#f7f7f7"
            ],
            [
             0.6,
             "#e6f5d0"
            ],
            [
             0.7,
             "#b8e186"
            ],
            [
             0.8,
             "#7fbc41"
            ],
            [
             0.9,
             "#4d9221"
            ],
            [
             1,
             "#276419"
            ]
           ],
           "sequential": [
            [
             0,
             "#0d0887"
            ],
            [
             0.1111111111111111,
             "#46039f"
            ],
            [
             0.2222222222222222,
             "#7201a8"
            ],
            [
             0.3333333333333333,
             "#9c179e"
            ],
            [
             0.4444444444444444,
             "#bd3786"
            ],
            [
             0.5555555555555556,
             "#d8576b"
            ],
            [
             0.6666666666666666,
             "#ed7953"
            ],
            [
             0.7777777777777778,
             "#fb9f3a"
            ],
            [
             0.8888888888888888,
             "#fdca26"
            ],
            [
             1,
             "#f0f921"
            ]
           ],
           "sequentialminus": [
            [
             0,
             "#0d0887"
            ],
            [
             0.1111111111111111,
             "#46039f"
            ],
            [
             0.2222222222222222,
             "#7201a8"
            ],
            [
             0.3333333333333333,
             "#9c179e"
            ],
            [
             0.4444444444444444,
             "#bd3786"
            ],
            [
             0.5555555555555556,
             "#d8576b"
            ],
            [
             0.6666666666666666,
             "#ed7953"
            ],
            [
             0.7777777777777778,
             "#fb9f3a"
            ],
            [
             0.8888888888888888,
             "#fdca26"
            ],
            [
             1,
             "#f0f921"
            ]
           ]
          },
          "colorway": [
           "#636efa",
           "#EF553B",
           "#00cc96",
           "#ab63fa",
           "#FFA15A",
           "#19d3f3",
           "#FF6692",
           "#B6E880",
           "#FF97FF",
           "#FECB52"
          ],
          "font": {
           "color": "#2a3f5f"
          },
          "geo": {
           "bgcolor": "white",
           "lakecolor": "white",
           "landcolor": "#E5ECF6",
           "showlakes": true,
           "showland": true,
           "subunitcolor": "white"
          },
          "hoverlabel": {
           "align": "left"
          },
          "hovermode": "closest",
          "mapbox": {
           "style": "light"
          },
          "paper_bgcolor": "white",
          "plot_bgcolor": "#E5ECF6",
          "polar": {
           "angularaxis": {
            "gridcolor": "white",
            "linecolor": "white",
            "ticks": ""
           },
           "bgcolor": "#E5ECF6",
           "radialaxis": {
            "gridcolor": "white",
            "linecolor": "white",
            "ticks": ""
           }
          },
          "scene": {
           "xaxis": {
            "backgroundcolor": "#E5ECF6",
            "gridcolor": "white",
            "gridwidth": 2,
            "linecolor": "white",
            "showbackground": true,
            "ticks": "",
            "zerolinecolor": "white"
           },
           "yaxis": {
            "backgroundcolor": "#E5ECF6",
            "gridcolor": "white",
            "gridwidth": 2,
            "linecolor": "white",
            "showbackground": true,
            "ticks": "",
            "zerolinecolor": "white"
           },
           "zaxis": {
            "backgroundcolor": "#E5ECF6",
            "gridcolor": "white",
            "gridwidth": 2,
            "linecolor": "white",
            "showbackground": true,
            "ticks": "",
            "zerolinecolor": "white"
           }
          },
          "shapedefaults": {
           "line": {
            "color": "#2a3f5f"
           }
          },
          "ternary": {
           "aaxis": {
            "gridcolor": "white",
            "linecolor": "white",
            "ticks": ""
           },
           "baxis": {
            "gridcolor": "white",
            "linecolor": "white",
            "ticks": ""
           },
           "bgcolor": "#E5ECF6",
           "caxis": {
            "gridcolor": "white",
            "linecolor": "white",
            "ticks": ""
           }
          },
          "title": {
           "x": 0.05
          },
          "xaxis": {
           "automargin": true,
           "gridcolor": "white",
           "linecolor": "white",
           "ticks": "",
           "title": {
            "standoff": 15
           },
           "zerolinecolor": "white",
           "zerolinewidth": 2
          },
          "yaxis": {
           "automargin": true,
           "gridcolor": "white",
           "linecolor": "white",
           "ticks": "",
           "title": {
            "standoff": 15
           },
           "zerolinecolor": "white",
           "zerolinewidth": 2
          }
         }
        },
        "title": {
         "text": "ARKG Percentage Changes",
         "x": 0.5
        },
        "width": 1000,
        "xaxis": {
         "anchor": "y",
         "domain": [
          0,
          1
         ],
         "showticklabels": true,
         "tickangle": -45,
         "title": {
          "text": "Symbols"
         },
         "type": "category"
        },
        "yaxis": {
         "anchor": "x",
         "domain": [
          0,
          1
         ],
         "title": {
          "text": "Percentage"
         }
        }
       }
      }
     },
     "metadata": {},
     "output_type": "display_data"
    },
    {
     "name": "stdout",
     "output_type": "stream",
     "text": [
      "No Email recipients found for  ARKG .\n",
      "Zzzzzzzzzzzzz   DJIA   Zzzzzzzzzzzzz\n",
      "Start Date=2021-10-27  End Date=2021-10-28\n",
      "Start Date=2021-10-22  End Date=2021-10-28\n",
      "Start Date=2021-10-15  End Date=2021-10-28\n"
     ]
    },
    {
     "data": {
      "application/vnd.plotly.v1+json": {
       "config": {
        "plotlyServerURL": "https://plot.ly"
       },
       "data": [
        {
         "alignmentgroup": "True",
         "hovertemplate": "variable=2days Chgs<br>Symbol=%{x}<br>value=%{y}<extra></extra>",
         "legendgroup": "2days Chgs",
         "marker": {
          "color": "#636efa",
          "pattern": {
           "shape": ""
          }
         },
         "name": "2days Chgs",
         "offsetgroup": "2days Chgs",
         "orientation": "v",
         "showlegend": true,
         "textposition": "auto",
         "type": "bar",
         "x": [
          "(MACD) MMM",
          "(MACD) AMGN",
          "(MACD) AAPL",
          "(MACD) CAT",
          "(MACD) CVX",
          "(MACD) CSCO",
          "(MACD) KO",
          "(GC) GS",
          "(MACD) HON",
          "(MACD) JNJ",
          "(MACD) MCD",
          "(MACD) MRK",
          "(MACD) PG",
          "(MACD) CRM",
          "(GC) TRV",
          "(MACD) VZ"
         ],
         "xaxis": "x",
         "y": [
          0.9144914574668545,
          0.2856018649729396,
          2.4991609460305315,
          4.0585281481200255,
          0.9369171541153357,
          0.10680201666977882,
          0.9366002404111242,
          0.9319003335481744,
          1.2794337526505886,
          -0.5435442529563087,
          1.1411874598186158,
          6.144226244761341,
          0.5993025690989245,
          1.0943625455269232,
          1.1202957557875581,
          0.32300620462708346
         ],
         "yaxis": "y"
        },
        {
         "alignmentgroup": "True",
         "hovertemplate": "variable=5days Chgs<br>Symbol=%{x}<br>value=%{y}<extra></extra>",
         "legendgroup": "5days Chgs",
         "marker": {
          "color": "#EF553B",
          "pattern": {
           "shape": ""
          }
         },
         "name": "5days Chgs",
         "offsetgroup": "5days Chgs",
         "orientation": "v",
         "showlegend": true,
         "textposition": "auto",
         "type": "bar",
         "x": [
          "(MACD) MMM",
          "(MACD) AMGN",
          "(MACD) AAPL",
          "(MACD) CAT",
          "(MACD) CVX",
          "(MACD) CSCO",
          "(MACD) KO",
          "(GC) GS",
          "(MACD) HON",
          "(MACD) JNJ",
          "(MACD) MCD",
          "(MACD) MRK",
          "(MACD) PG",
          "(MACD) CRM",
          "(GC) TRV",
          "(MACD) VZ"
         ],
         "xaxis": "x",
         "y": [
          -0.5143849108808245,
          -0.9892980643638808,
          2.609459156032686,
          1.714429377546332,
          0.2836876650414524,
          2.0504464808570173,
          2.9201104321565032,
          0.12067966575621678,
          0.4967809849934648,
          -0.5313920783659787,
          2.9609115443322724,
          6.654345562959521,
          1.3136340415204182,
          1.989338041012638,
          -0.492694350573438,
          -0.24560942256885301
         ],
         "yaxis": "y"
        },
        {
         "alignmentgroup": "True",
         "hovertemplate": "variable=10days Chgs<br>Symbol=%{x}<br>value=%{y}<extra></extra>",
         "legendgroup": "10days Chgs",
         "marker": {
          "color": "#00cc96",
          "pattern": {
           "shape": ""
          }
         },
         "name": "10days Chgs",
         "offsetgroup": "10days Chgs",
         "orientation": "v",
         "showlegend": true,
         "textposition": "auto",
         "type": "bar",
         "x": [
          "(MACD) MMM",
          "(MACD) AMGN",
          "(MACD) AAPL",
          "(MACD) CAT",
          "(MACD) CVX",
          "(MACD) CSCO",
          "(MACD) KO",
          "(GC) GS",
          "(MACD) HON",
          "(MACD) JNJ",
          "(MACD) MCD",
          "(MACD) MRK",
          "(MACD) PG",
          "(MACD) CRM",
          "(GC) TRV",
          "(MACD) VZ"
         ],
         "xaxis": "x",
         "y": [
          -1.1377417260865408,
          -0.32236248111555965,
          5.3369312218809615,
          2.547478623550225,
          3.2022644983901083,
          1.791858241568863,
          2.8634386681328885,
          2.1548008575313795,
          -1.0148629398222178,
          0.9609442172548804,
          1.3415892672858616,
          10.494064890273277,
          -0.5923734666950586,
          2.3040530536673463,
          3.810079643938058,
          1.0139636017893974
         ],
         "yaxis": "y"
        }
       ],
       "layout": {
        "bargap": 0.2,
        "bargroupgap": 0,
        "barmode": "group",
        "font": {
         "color": "RebeccaPurple",
         "family": "Courier New, monospace",
         "size": 18
        },
        "height": 400,
        "legend": {
         "title": {
          "text": "Days"
         },
         "tracegroupgap": 0
        },
        "margin": {
         "t": 60
        },
        "template": {
         "data": {
          "bar": [
           {
            "error_x": {
             "color": "#2a3f5f"
            },
            "error_y": {
             "color": "#2a3f5f"
            },
            "marker": {
             "line": {
              "color": "#E5ECF6",
              "width": 0.5
             },
             "pattern": {
              "fillmode": "overlay",
              "size": 10,
              "solidity": 0.2
             }
            },
            "type": "bar"
           }
          ],
          "barpolar": [
           {
            "marker": {
             "line": {
              "color": "#E5ECF6",
              "width": 0.5
             },
             "pattern": {
              "fillmode": "overlay",
              "size": 10,
              "solidity": 0.2
             }
            },
            "type": "barpolar"
           }
          ],
          "carpet": [
           {
            "aaxis": {
             "endlinecolor": "#2a3f5f",
             "gridcolor": "white",
             "linecolor": "white",
             "minorgridcolor": "white",
             "startlinecolor": "#2a3f5f"
            },
            "baxis": {
             "endlinecolor": "#2a3f5f",
             "gridcolor": "white",
             "linecolor": "white",
             "minorgridcolor": "white",
             "startlinecolor": "#2a3f5f"
            },
            "type": "carpet"
           }
          ],
          "choropleth": [
           {
            "colorbar": {
             "outlinewidth": 0,
             "ticks": ""
            },
            "type": "choropleth"
           }
          ],
          "contour": [
           {
            "colorbar": {
             "outlinewidth": 0,
             "ticks": ""
            },
            "colorscale": [
             [
              0,
              "#0d0887"
             ],
             [
              0.1111111111111111,
              "#46039f"
             ],
             [
              0.2222222222222222,
              "#7201a8"
             ],
             [
              0.3333333333333333,
              "#9c179e"
             ],
             [
              0.4444444444444444,
              "#bd3786"
             ],
             [
              0.5555555555555556,
              "#d8576b"
             ],
             [
              0.6666666666666666,
              "#ed7953"
             ],
             [
              0.7777777777777778,
              "#fb9f3a"
             ],
             [
              0.8888888888888888,
              "#fdca26"
             ],
             [
              1,
              "#f0f921"
             ]
            ],
            "type": "contour"
           }
          ],
          "contourcarpet": [
           {
            "colorbar": {
             "outlinewidth": 0,
             "ticks": ""
            },
            "type": "contourcarpet"
           }
          ],
          "heatmap": [
           {
            "colorbar": {
             "outlinewidth": 0,
             "ticks": ""
            },
            "colorscale": [
             [
              0,
              "#0d0887"
             ],
             [
              0.1111111111111111,
              "#46039f"
             ],
             [
              0.2222222222222222,
              "#7201a8"
             ],
             [
              0.3333333333333333,
              "#9c179e"
             ],
             [
              0.4444444444444444,
              "#bd3786"
             ],
             [
              0.5555555555555556,
              "#d8576b"
             ],
             [
              0.6666666666666666,
              "#ed7953"
             ],
             [
              0.7777777777777778,
              "#fb9f3a"
             ],
             [
              0.8888888888888888,
              "#fdca26"
             ],
             [
              1,
              "#f0f921"
             ]
            ],
            "type": "heatmap"
           }
          ],
          "heatmapgl": [
           {
            "colorbar": {
             "outlinewidth": 0,
             "ticks": ""
            },
            "colorscale": [
             [
              0,
              "#0d0887"
             ],
             [
              0.1111111111111111,
              "#46039f"
             ],
             [
              0.2222222222222222,
              "#7201a8"
             ],
             [
              0.3333333333333333,
              "#9c179e"
             ],
             [
              0.4444444444444444,
              "#bd3786"
             ],
             [
              0.5555555555555556,
              "#d8576b"
             ],
             [
              0.6666666666666666,
              "#ed7953"
             ],
             [
              0.7777777777777778,
              "#fb9f3a"
             ],
             [
              0.8888888888888888,
              "#fdca26"
             ],
             [
              1,
              "#f0f921"
             ]
            ],
            "type": "heatmapgl"
           }
          ],
          "histogram": [
           {
            "marker": {
             "pattern": {
              "fillmode": "overlay",
              "size": 10,
              "solidity": 0.2
             }
            },
            "type": "histogram"
           }
          ],
          "histogram2d": [
           {
            "colorbar": {
             "outlinewidth": 0,
             "ticks": ""
            },
            "colorscale": [
             [
              0,
              "#0d0887"
             ],
             [
              0.1111111111111111,
              "#46039f"
             ],
             [
              0.2222222222222222,
              "#7201a8"
             ],
             [
              0.3333333333333333,
              "#9c179e"
             ],
             [
              0.4444444444444444,
              "#bd3786"
             ],
             [
              0.5555555555555556,
              "#d8576b"
             ],
             [
              0.6666666666666666,
              "#ed7953"
             ],
             [
              0.7777777777777778,
              "#fb9f3a"
             ],
             [
              0.8888888888888888,
              "#fdca26"
             ],
             [
              1,
              "#f0f921"
             ]
            ],
            "type": "histogram2d"
           }
          ],
          "histogram2dcontour": [
           {
            "colorbar": {
             "outlinewidth": 0,
             "ticks": ""
            },
            "colorscale": [
             [
              0,
              "#0d0887"
             ],
             [
              0.1111111111111111,
              "#46039f"
             ],
             [
              0.2222222222222222,
              "#7201a8"
             ],
             [
              0.3333333333333333,
              "#9c179e"
             ],
             [
              0.4444444444444444,
              "#bd3786"
             ],
             [
              0.5555555555555556,
              "#d8576b"
             ],
             [
              0.6666666666666666,
              "#ed7953"
             ],
             [
              0.7777777777777778,
              "#fb9f3a"
             ],
             [
              0.8888888888888888,
              "#fdca26"
             ],
             [
              1,
              "#f0f921"
             ]
            ],
            "type": "histogram2dcontour"
           }
          ],
          "mesh3d": [
           {
            "colorbar": {
             "outlinewidth": 0,
             "ticks": ""
            },
            "type": "mesh3d"
           }
          ],
          "parcoords": [
           {
            "line": {
             "colorbar": {
              "outlinewidth": 0,
              "ticks": ""
             }
            },
            "type": "parcoords"
           }
          ],
          "pie": [
           {
            "automargin": true,
            "type": "pie"
           }
          ],
          "scatter": [
           {
            "marker": {
             "colorbar": {
              "outlinewidth": 0,
              "ticks": ""
             }
            },
            "type": "scatter"
           }
          ],
          "scatter3d": [
           {
            "line": {
             "colorbar": {
              "outlinewidth": 0,
              "ticks": ""
             }
            },
            "marker": {
             "colorbar": {
              "outlinewidth": 0,
              "ticks": ""
             }
            },
            "type": "scatter3d"
           }
          ],
          "scattercarpet": [
           {
            "marker": {
             "colorbar": {
              "outlinewidth": 0,
              "ticks": ""
             }
            },
            "type": "scattercarpet"
           }
          ],
          "scattergeo": [
           {
            "marker": {
             "colorbar": {
              "outlinewidth": 0,
              "ticks": ""
             }
            },
            "type": "scattergeo"
           }
          ],
          "scattergl": [
           {
            "marker": {
             "colorbar": {
              "outlinewidth": 0,
              "ticks": ""
             }
            },
            "type": "scattergl"
           }
          ],
          "scattermapbox": [
           {
            "marker": {
             "colorbar": {
              "outlinewidth": 0,
              "ticks": ""
             }
            },
            "type": "scattermapbox"
           }
          ],
          "scatterpolar": [
           {
            "marker": {
             "colorbar": {
              "outlinewidth": 0,
              "ticks": ""
             }
            },
            "type": "scatterpolar"
           }
          ],
          "scatterpolargl": [
           {
            "marker": {
             "colorbar": {
              "outlinewidth": 0,
              "ticks": ""
             }
            },
            "type": "scatterpolargl"
           }
          ],
          "scatterternary": [
           {
            "marker": {
             "colorbar": {
              "outlinewidth": 0,
              "ticks": ""
             }
            },
            "type": "scatterternary"
           }
          ],
          "surface": [
           {
            "colorbar": {
             "outlinewidth": 0,
             "ticks": ""
            },
            "colorscale": [
             [
              0,
              "#0d0887"
             ],
             [
              0.1111111111111111,
              "#46039f"
             ],
             [
              0.2222222222222222,
              "#7201a8"
             ],
             [
              0.3333333333333333,
              "#9c179e"
             ],
             [
              0.4444444444444444,
              "#bd3786"
             ],
             [
              0.5555555555555556,
              "#d8576b"
             ],
             [
              0.6666666666666666,
              "#ed7953"
             ],
             [
              0.7777777777777778,
              "#fb9f3a"
             ],
             [
              0.8888888888888888,
              "#fdca26"
             ],
             [
              1,
              "#f0f921"
             ]
            ],
            "type": "surface"
           }
          ],
          "table": [
           {
            "cells": {
             "fill": {
              "color": "#EBF0F8"
             },
             "line": {
              "color": "white"
             }
            },
            "header": {
             "fill": {
              "color": "#C8D4E3"
             },
             "line": {
              "color": "white"
             }
            },
            "type": "table"
           }
          ]
         },
         "layout": {
          "annotationdefaults": {
           "arrowcolor": "#2a3f5f",
           "arrowhead": 0,
           "arrowwidth": 1
          },
          "autotypenumbers": "strict",
          "coloraxis": {
           "colorbar": {
            "outlinewidth": 0,
            "ticks": ""
           }
          },
          "colorscale": {
           "diverging": [
            [
             0,
             "#8e0152"
            ],
            [
             0.1,
             "#c51b7d"
            ],
            [
             0.2,
             "#de77ae"
            ],
            [
             0.3,
             "#f1b6da"
            ],
            [
             0.4,
             "#fde0ef"
            ],
            [
             0.5,
             "#f7f7f7"
            ],
            [
             0.6,
             "#e6f5d0"
            ],
            [
             0.7,
             "#b8e186"
            ],
            [
             0.8,
             "#7fbc41"
            ],
            [
             0.9,
             "#4d9221"
            ],
            [
             1,
             "#276419"
            ]
           ],
           "sequential": [
            [
             0,
             "#0d0887"
            ],
            [
             0.1111111111111111,
             "#46039f"
            ],
            [
             0.2222222222222222,
             "#7201a8"
            ],
            [
             0.3333333333333333,
             "#9c179e"
            ],
            [
             0.4444444444444444,
             "#bd3786"
            ],
            [
             0.5555555555555556,
             "#d8576b"
            ],
            [
             0.6666666666666666,
             "#ed7953"
            ],
            [
             0.7777777777777778,
             "#fb9f3a"
            ],
            [
             0.8888888888888888,
             "#fdca26"
            ],
            [
             1,
             "#f0f921"
            ]
           ],
           "sequentialminus": [
            [
             0,
             "#0d0887"
            ],
            [
             0.1111111111111111,
             "#46039f"
            ],
            [
             0.2222222222222222,
             "#7201a8"
            ],
            [
             0.3333333333333333,
             "#9c179e"
            ],
            [
             0.4444444444444444,
             "#bd3786"
            ],
            [
             0.5555555555555556,
             "#d8576b"
            ],
            [
             0.6666666666666666,
             "#ed7953"
            ],
            [
             0.7777777777777778,
             "#fb9f3a"
            ],
            [
             0.8888888888888888,
             "#fdca26"
            ],
            [
             1,
             "#f0f921"
            ]
           ]
          },
          "colorway": [
           "#636efa",
           "#EF553B",
           "#00cc96",
           "#ab63fa",
           "#FFA15A",
           "#19d3f3",
           "#FF6692",
           "#B6E880",
           "#FF97FF",
           "#FECB52"
          ],
          "font": {
           "color": "#2a3f5f"
          },
          "geo": {
           "bgcolor": "white",
           "lakecolor": "white",
           "landcolor": "#E5ECF6",
           "showlakes": true,
           "showland": true,
           "subunitcolor": "white"
          },
          "hoverlabel": {
           "align": "left"
          },
          "hovermode": "closest",
          "mapbox": {
           "style": "light"
          },
          "paper_bgcolor": "white",
          "plot_bgcolor": "#E5ECF6",
          "polar": {
           "angularaxis": {
            "gridcolor": "white",
            "linecolor": "white",
            "ticks": ""
           },
           "bgcolor": "#E5ECF6",
           "radialaxis": {
            "gridcolor": "white",
            "linecolor": "white",
            "ticks": ""
           }
          },
          "scene": {
           "xaxis": {
            "backgroundcolor": "#E5ECF6",
            "gridcolor": "white",
            "gridwidth": 2,
            "linecolor": "white",
            "showbackground": true,
            "ticks": "",
            "zerolinecolor": "white"
           },
           "yaxis": {
            "backgroundcolor": "#E5ECF6",
            "gridcolor": "white",
            "gridwidth": 2,
            "linecolor": "white",
            "showbackground": true,
            "ticks": "",
            "zerolinecolor": "white"
           },
           "zaxis": {
            "backgroundcolor": "#E5ECF6",
            "gridcolor": "white",
            "gridwidth": 2,
            "linecolor": "white",
            "showbackground": true,
            "ticks": "",
            "zerolinecolor": "white"
           }
          },
          "shapedefaults": {
           "line": {
            "color": "#2a3f5f"
           }
          },
          "ternary": {
           "aaxis": {
            "gridcolor": "white",
            "linecolor": "white",
            "ticks": ""
           },
           "baxis": {
            "gridcolor": "white",
            "linecolor": "white",
            "ticks": ""
           },
           "bgcolor": "#E5ECF6",
           "caxis": {
            "gridcolor": "white",
            "linecolor": "white",
            "ticks": ""
           }
          },
          "title": {
           "x": 0.05
          },
          "xaxis": {
           "automargin": true,
           "gridcolor": "white",
           "linecolor": "white",
           "ticks": "",
           "title": {
            "standoff": 15
           },
           "zerolinecolor": "white",
           "zerolinewidth": 2
          },
          "yaxis": {
           "automargin": true,
           "gridcolor": "white",
           "linecolor": "white",
           "ticks": "",
           "title": {
            "standoff": 15
           },
           "zerolinecolor": "white",
           "zerolinewidth": 2
          }
         }
        },
        "title": {
         "text": "DJIA Percentage Changes",
         "x": 0.5
        },
        "width": 1000,
        "xaxis": {
         "anchor": "y",
         "domain": [
          0,
          1
         ],
         "showticklabels": true,
         "tickangle": -45,
         "title": {
          "text": "Symbols"
         },
         "type": "category"
        },
        "yaxis": {
         "anchor": "x",
         "domain": [
          0,
          1
         ],
         "title": {
          "text": "Percentage"
         }
        }
       }
      }
     },
     "metadata": {},
     "output_type": "display_data"
    },
    {
     "name": "stdout",
     "output_type": "stream",
     "text": [
      "---- taEmails ---- :   ['cy627aws1@gmail.com', 'cy627aws2.gmaild.com', 'cy627aws3.gmail.com']\n",
      "Zzzzzzzzzzzzz   SP100   Zzzzzzzzzzzzz\n",
      "Start Date=2021-10-27  End Date=2021-10-28\n",
      "Start Date=2021-10-22  End Date=2021-10-28\n",
      "Start Date=2021-10-15  End Date=2021-10-28\n"
     ]
    },
    {
     "data": {
      "application/vnd.plotly.v1+json": {
       "config": {
        "plotlyServerURL": "https://plot.ly"
       },
       "data": [
        {
         "alignmentgroup": "True",
         "hovertemplate": "variable=2days Chgs<br>Symbol=%{x}<br>value=%{y}<extra></extra>",
         "legendgroup": "2days Chgs",
         "marker": {
          "color": "#636efa",
          "pattern": {
           "shape": ""
          }
         },
         "name": "2days Chgs",
         "offsetgroup": "2days Chgs",
         "orientation": "v",
         "showlegend": true,
         "textposition": "auto",
         "type": "bar",
         "x": [
          "(MACD) AAPL",
          "(MACD) ABBV",
          "(MACD) AMGN",
          "(MACD) BAC",
          "(MACD) BIIB",
          "(MACD) BK",
          "(MACD) BMY",
          "(MACD) CAT",
          "(MACD) CL",
          "(RSI) COF",
          "(MACD) CRM",
          "(MACD) CSCO",
          "(MACD) CVS",
          "(MACD) CVX",
          "(MACD) DHR",
          "(MACD) DUK",
          "(MACD) EMR",
          "(MACD) EXC",
          "(MACD) F",
          "(MACD) GE",
          "(GC) GS",
          "(MACD) HON",
          "(MACD) JNJ",
          "(MACD) KO",
          "(GC) MA",
          "(MACD) MCD",
          "(MACD) MDLZ",
          "(MACD) MMM",
          "(MACD) MRK",
          "(MACD) MS",
          "(MACD) NEE",
          "(MACD) PEP",
          "(MACD) PFE",
          "(MACD) PG",
          "(MACD) QCOM",
          "(MACD) SO",
          "(MACD) SPG",
          "(GC) TGT",
          "(MACD) TMUS",
          "(MACD) VZ",
          "(MACD) WFC",
          "(MACD) XOM"
         ],
         "xaxis": "x",
         "y": [
          2.4991609460305315,
          1.1715836025733017,
          0.2856018649729396,
          1.5731246797770932,
          1.892665004469337,
          1.6937516695418848,
          1.132942769751052,
          4.0585281481200255,
          1.2911669404972574,
          0,
          1.0943625455269232,
          0.10680201666977882,
          0.6016646960211437,
          0.9369171541153357,
          -0.21949381850058747,
          -0.2627523032774842,
          1.4144571906070291,
          1.4813398702283718,
          8.704064226613182,
          1.3577310378687593,
          0.9319003335481744,
          1.2794337526505886,
          -0.5435442529563087,
          0.9366002404111242,
          -0.8012636815278206,
          1.1411874598186158,
          0.9273081287478976,
          0.9144914574668545,
          6.144226244761341,
          1.3146207918613355,
          1.6586236881341243,
          0.6288490772665135,
          0.48871091111693477,
          0.5993025690989245,
          1.89787008466651,
          0.15964605650185437,
          2.216356981683515,
          0.6548657596567719,
          -0.49734335225068116,
          0.32300620462708346,
          2.6173854011190443,
          0.2806803569076836
         ],
         "yaxis": "y"
        },
        {
         "alignmentgroup": "True",
         "hovertemplate": "variable=5days Chgs<br>Symbol=%{x}<br>value=%{y}<extra></extra>",
         "legendgroup": "5days Chgs",
         "marker": {
          "color": "#EF553B",
          "pattern": {
           "shape": ""
          }
         },
         "name": "5days Chgs",
         "offsetgroup": "5days Chgs",
         "orientation": "v",
         "showlegend": true,
         "textposition": "auto",
         "type": "bar",
         "x": [
          "(MACD) AAPL",
          "(MACD) ABBV",
          "(MACD) AMGN",
          "(MACD) BAC",
          "(MACD) BIIB",
          "(MACD) BK",
          "(MACD) BMY",
          "(MACD) CAT",
          "(MACD) CL",
          "(RSI) COF",
          "(MACD) CRM",
          "(MACD) CSCO",
          "(MACD) CVS",
          "(MACD) CVX",
          "(MACD) DHR",
          "(MACD) DUK",
          "(MACD) EMR",
          "(MACD) EXC",
          "(MACD) F",
          "(MACD) GE",
          "(GC) GS",
          "(MACD) HON",
          "(MACD) JNJ",
          "(MACD) KO",
          "(GC) MA",
          "(MACD) MCD",
          "(MACD) MDLZ",
          "(MACD) MMM",
          "(MACD) MRK",
          "(MACD) MS",
          "(MACD) NEE",
          "(MACD) PEP",
          "(MACD) PFE",
          "(MACD) PG",
          "(MACD) QCOM",
          "(MACD) SO",
          "(MACD) SPG",
          "(GC) TGT",
          "(MACD) TMUS",
          "(MACD) VZ",
          "(MACD) WFC",
          "(MACD) XOM"
         ],
         "xaxis": "x",
         "y": [
          2.609459156032686,
          0.4856136909115134,
          -0.9892980643638808,
          0.4414527765815918,
          0.026437812479615574,
          -0.45218633713542356,
          -0.8159677403759358,
          1.714429377546332,
          1.8278109316794289,
          -9.139654833528827,
          1.989338041012638,
          2.0504464808570173,
          1.2568625979292365,
          0.2836876650414524,
          -2.811282603013623,
          -1.2430149650229971,
          0.9002511921323764,
          2.8064677220191294,
          3.562652943754658,
          1.1629015367455242,
          0.12067966575621678,
          0.4967809849934648,
          -0.5313920783659787,
          2.9201104321565032,
          -7.148636264125131,
          2.9609115443322724,
          0.7105094215520938,
          -0.5143849108808245,
          6.654345562959521,
          1.3842870836245595,
          2.3691068981042918,
          1.0314395723532912,
          0.046340263749725455,
          1.3136340415204182,
          1.5727149377081535,
          -0.33359663530979494,
          1.3641971447329897,
          0.8947792796692324,
          -0.7101923603565258,
          -0.24560942256885301,
          1.3817622681560502,
          1.8852957015939718
         ],
         "yaxis": "y"
        },
        {
         "alignmentgroup": "True",
         "hovertemplate": "variable=10days Chgs<br>Symbol=%{x}<br>value=%{y}<extra></extra>",
         "legendgroup": "10days Chgs",
         "marker": {
          "color": "#00cc96",
          "pattern": {
           "shape": ""
          }
         },
         "name": "10days Chgs",
         "offsetgroup": "10days Chgs",
         "orientation": "v",
         "showlegend": true,
         "textposition": "auto",
         "type": "bar",
         "x": [
          "(MACD) AAPL",
          "(MACD) ABBV",
          "(MACD) AMGN",
          "(MACD) BAC",
          "(MACD) BIIB",
          "(MACD) BK",
          "(MACD) BMY",
          "(MACD) CAT",
          "(MACD) CL",
          "(RSI) COF",
          "(MACD) CRM",
          "(MACD) CSCO",
          "(MACD) CVS",
          "(MACD) CVX",
          "(MACD) DHR",
          "(MACD) DUK",
          "(MACD) EMR",
          "(MACD) EXC",
          "(MACD) F",
          "(MACD) GE",
          "(GC) GS",
          "(MACD) HON",
          "(MACD) JNJ",
          "(MACD) KO",
          "(GC) MA",
          "(MACD) MCD",
          "(MACD) MDLZ",
          "(MACD) MMM",
          "(MACD) MRK",
          "(MACD) MS",
          "(MACD) NEE",
          "(MACD) PEP",
          "(MACD) PFE",
          "(MACD) PG",
          "(MACD) QCOM",
          "(MACD) SO",
          "(MACD) SPG",
          "(GC) TGT",
          "(MACD) TMUS",
          "(MACD) VZ",
          "(MACD) WFC",
          "(MACD) XOM"
         ],
         "xaxis": "x",
         "y": [
          5.3369312218809615,
          0.31098173620815817,
          -0.32236248111555965,
          3.0407588524712486,
          -5.803907387361497,
          3.9888012340505643,
          -2.1076071442298066,
          2.547478623550225,
          1.4366377299680353,
          -9.43105144453732,
          2.3040530536673463,
          1.791858241568863,
          3.838463066440126,
          3.2022644983901083,
          1.0584651900336384,
          2.1325355477711487,
          1.8593948781763543,
          5.902426311285875,
          7.3885402240697315,
          0.814096776465836,
          2.1548008575313795,
          -1.0148629398222178,
          0.9609442172548804,
          2.8634386681328885,
          -6.452247533905372,
          1.3415892672858616,
          1.3300070104177064,
          -1.1377417260865408,
          10.494064890273277,
          1.0468046060004363,
          5.816089269616475,
          1.7694084766653229,
          4.0732671929152735,
          -0.5923734666950586,
          2.6804958333074524,
          -0.6177718724060225,
          4.920834286418198,
          5.091365497948158,
          -1.2929539593676975,
          1.0139636017893974,
          6.159568988104658,
          2.7480386672195
         ],
         "yaxis": "y"
        }
       ],
       "layout": {
        "bargap": 0.2,
        "bargroupgap": 0,
        "barmode": "group",
        "font": {
         "color": "RebeccaPurple",
         "family": "Courier New, monospace",
         "size": 18
        },
        "height": 400,
        "legend": {
         "title": {
          "text": "Days"
         },
         "tracegroupgap": 0
        },
        "margin": {
         "t": 60
        },
        "template": {
         "data": {
          "bar": [
           {
            "error_x": {
             "color": "#2a3f5f"
            },
            "error_y": {
             "color": "#2a3f5f"
            },
            "marker": {
             "line": {
              "color": "#E5ECF6",
              "width": 0.5
             },
             "pattern": {
              "fillmode": "overlay",
              "size": 10,
              "solidity": 0.2
             }
            },
            "type": "bar"
           }
          ],
          "barpolar": [
           {
            "marker": {
             "line": {
              "color": "#E5ECF6",
              "width": 0.5
             },
             "pattern": {
              "fillmode": "overlay",
              "size": 10,
              "solidity": 0.2
             }
            },
            "type": "barpolar"
           }
          ],
          "carpet": [
           {
            "aaxis": {
             "endlinecolor": "#2a3f5f",
             "gridcolor": "white",
             "linecolor": "white",
             "minorgridcolor": "white",
             "startlinecolor": "#2a3f5f"
            },
            "baxis": {
             "endlinecolor": "#2a3f5f",
             "gridcolor": "white",
             "linecolor": "white",
             "minorgridcolor": "white",
             "startlinecolor": "#2a3f5f"
            },
            "type": "carpet"
           }
          ],
          "choropleth": [
           {
            "colorbar": {
             "outlinewidth": 0,
             "ticks": ""
            },
            "type": "choropleth"
           }
          ],
          "contour": [
           {
            "colorbar": {
             "outlinewidth": 0,
             "ticks": ""
            },
            "colorscale": [
             [
              0,
              "#0d0887"
             ],
             [
              0.1111111111111111,
              "#46039f"
             ],
             [
              0.2222222222222222,
              "#7201a8"
             ],
             [
              0.3333333333333333,
              "#9c179e"
             ],
             [
              0.4444444444444444,
              "#bd3786"
             ],
             [
              0.5555555555555556,
              "#d8576b"
             ],
             [
              0.6666666666666666,
              "#ed7953"
             ],
             [
              0.7777777777777778,
              "#fb9f3a"
             ],
             [
              0.8888888888888888,
              "#fdca26"
             ],
             [
              1,
              "#f0f921"
             ]
            ],
            "type": "contour"
           }
          ],
          "contourcarpet": [
           {
            "colorbar": {
             "outlinewidth": 0,
             "ticks": ""
            },
            "type": "contourcarpet"
           }
          ],
          "heatmap": [
           {
            "colorbar": {
             "outlinewidth": 0,
             "ticks": ""
            },
            "colorscale": [
             [
              0,
              "#0d0887"
             ],
             [
              0.1111111111111111,
              "#46039f"
             ],
             [
              0.2222222222222222,
              "#7201a8"
             ],
             [
              0.3333333333333333,
              "#9c179e"
             ],
             [
              0.4444444444444444,
              "#bd3786"
             ],
             [
              0.5555555555555556,
              "#d8576b"
             ],
             [
              0.6666666666666666,
              "#ed7953"
             ],
             [
              0.7777777777777778,
              "#fb9f3a"
             ],
             [
              0.8888888888888888,
              "#fdca26"
             ],
             [
              1,
              "#f0f921"
             ]
            ],
            "type": "heatmap"
           }
          ],
          "heatmapgl": [
           {
            "colorbar": {
             "outlinewidth": 0,
             "ticks": ""
            },
            "colorscale": [
             [
              0,
              "#0d0887"
             ],
             [
              0.1111111111111111,
              "#46039f"
             ],
             [
              0.2222222222222222,
              "#7201a8"
             ],
             [
              0.3333333333333333,
              "#9c179e"
             ],
             [
              0.4444444444444444,
              "#bd3786"
             ],
             [
              0.5555555555555556,
              "#d8576b"
             ],
             [
              0.6666666666666666,
              "#ed7953"
             ],
             [
              0.7777777777777778,
              "#fb9f3a"
             ],
             [
              0.8888888888888888,
              "#fdca26"
             ],
             [
              1,
              "#f0f921"
             ]
            ],
            "type": "heatmapgl"
           }
          ],
          "histogram": [
           {
            "marker": {
             "pattern": {
              "fillmode": "overlay",
              "size": 10,
              "solidity": 0.2
             }
            },
            "type": "histogram"
           }
          ],
          "histogram2d": [
           {
            "colorbar": {
             "outlinewidth": 0,
             "ticks": ""
            },
            "colorscale": [
             [
              0,
              "#0d0887"
             ],
             [
              0.1111111111111111,
              "#46039f"
             ],
             [
              0.2222222222222222,
              "#7201a8"
             ],
             [
              0.3333333333333333,
              "#9c179e"
             ],
             [
              0.4444444444444444,
              "#bd3786"
             ],
             [
              0.5555555555555556,
              "#d8576b"
             ],
             [
              0.6666666666666666,
              "#ed7953"
             ],
             [
              0.7777777777777778,
              "#fb9f3a"
             ],
             [
              0.8888888888888888,
              "#fdca26"
             ],
             [
              1,
              "#f0f921"
             ]
            ],
            "type": "histogram2d"
           }
          ],
          "histogram2dcontour": [
           {
            "colorbar": {
             "outlinewidth": 0,
             "ticks": ""
            },
            "colorscale": [
             [
              0,
              "#0d0887"
             ],
             [
              0.1111111111111111,
              "#46039f"
             ],
             [
              0.2222222222222222,
              "#7201a8"
             ],
             [
              0.3333333333333333,
              "#9c179e"
             ],
             [
              0.4444444444444444,
              "#bd3786"
             ],
             [
              0.5555555555555556,
              "#d8576b"
             ],
             [
              0.6666666666666666,
              "#ed7953"
             ],
             [
              0.7777777777777778,
              "#fb9f3a"
             ],
             [
              0.8888888888888888,
              "#fdca26"
             ],
             [
              1,
              "#f0f921"
             ]
            ],
            "type": "histogram2dcontour"
           }
          ],
          "mesh3d": [
           {
            "colorbar": {
             "outlinewidth": 0,
             "ticks": ""
            },
            "type": "mesh3d"
           }
          ],
          "parcoords": [
           {
            "line": {
             "colorbar": {
              "outlinewidth": 0,
              "ticks": ""
             }
            },
            "type": "parcoords"
           }
          ],
          "pie": [
           {
            "automargin": true,
            "type": "pie"
           }
          ],
          "scatter": [
           {
            "marker": {
             "colorbar": {
              "outlinewidth": 0,
              "ticks": ""
             }
            },
            "type": "scatter"
           }
          ],
          "scatter3d": [
           {
            "line": {
             "colorbar": {
              "outlinewidth": 0,
              "ticks": ""
             }
            },
            "marker": {
             "colorbar": {
              "outlinewidth": 0,
              "ticks": ""
             }
            },
            "type": "scatter3d"
           }
          ],
          "scattercarpet": [
           {
            "marker": {
             "colorbar": {
              "outlinewidth": 0,
              "ticks": ""
             }
            },
            "type": "scattercarpet"
           }
          ],
          "scattergeo": [
           {
            "marker": {
             "colorbar": {
              "outlinewidth": 0,
              "ticks": ""
             }
            },
            "type": "scattergeo"
           }
          ],
          "scattergl": [
           {
            "marker": {
             "colorbar": {
              "outlinewidth": 0,
              "ticks": ""
             }
            },
            "type": "scattergl"
           }
          ],
          "scattermapbox": [
           {
            "marker": {
             "colorbar": {
              "outlinewidth": 0,
              "ticks": ""
             }
            },
            "type": "scattermapbox"
           }
          ],
          "scatterpolar": [
           {
            "marker": {
             "colorbar": {
              "outlinewidth": 0,
              "ticks": ""
             }
            },
            "type": "scatterpolar"
           }
          ],
          "scatterpolargl": [
           {
            "marker": {
             "colorbar": {
              "outlinewidth": 0,
              "ticks": ""
             }
            },
            "type": "scatterpolargl"
           }
          ],
          "scatterternary": [
           {
            "marker": {
             "colorbar": {
              "outlinewidth": 0,
              "ticks": ""
             }
            },
            "type": "scatterternary"
           }
          ],
          "surface": [
           {
            "colorbar": {
             "outlinewidth": 0,
             "ticks": ""
            },
            "colorscale": [
             [
              0,
              "#0d0887"
             ],
             [
              0.1111111111111111,
              "#46039f"
             ],
             [
              0.2222222222222222,
              "#7201a8"
             ],
             [
              0.3333333333333333,
              "#9c179e"
             ],
             [
              0.4444444444444444,
              "#bd3786"
             ],
             [
              0.5555555555555556,
              "#d8576b"
             ],
             [
              0.6666666666666666,
              "#ed7953"
             ],
             [
              0.7777777777777778,
              "#fb9f3a"
             ],
             [
              0.8888888888888888,
              "#fdca26"
             ],
             [
              1,
              "#f0f921"
             ]
            ],
            "type": "surface"
           }
          ],
          "table": [
           {
            "cells": {
             "fill": {
              "color": "#EBF0F8"
             },
             "line": {
              "color": "white"
             }
            },
            "header": {
             "fill": {
              "color": "#C8D4E3"
             },
             "line": {
              "color": "white"
             }
            },
            "type": "table"
           }
          ]
         },
         "layout": {
          "annotationdefaults": {
           "arrowcolor": "#2a3f5f",
           "arrowhead": 0,
           "arrowwidth": 1
          },
          "autotypenumbers": "strict",
          "coloraxis": {
           "colorbar": {
            "outlinewidth": 0,
            "ticks": ""
           }
          },
          "colorscale": {
           "diverging": [
            [
             0,
             "#8e0152"
            ],
            [
             0.1,
             "#c51b7d"
            ],
            [
             0.2,
             "#de77ae"
            ],
            [
             0.3,
             "#f1b6da"
            ],
            [
             0.4,
             "#fde0ef"
            ],
            [
             0.5,
             "#f7f7f7"
            ],
            [
             0.6,
             "#e6f5d0"
            ],
            [
             0.7,
             "#b8e186"
            ],
            [
             0.8,
             "#7fbc41"
            ],
            [
             0.9,
             "#4d9221"
            ],
            [
             1,
             "#276419"
            ]
           ],
           "sequential": [
            [
             0,
             "#0d0887"
            ],
            [
             0.1111111111111111,
             "#46039f"
            ],
            [
             0.2222222222222222,
             "#7201a8"
            ],
            [
             0.3333333333333333,
             "#9c179e"
            ],
            [
             0.4444444444444444,
             "#bd3786"
            ],
            [
             0.5555555555555556,
             "#d8576b"
            ],
            [
             0.6666666666666666,
             "#ed7953"
            ],
            [
             0.7777777777777778,
             "#fb9f3a"
            ],
            [
             0.8888888888888888,
             "#fdca26"
            ],
            [
             1,
             "#f0f921"
            ]
           ],
           "sequentialminus": [
            [
             0,
             "#0d0887"
            ],
            [
             0.1111111111111111,
             "#46039f"
            ],
            [
             0.2222222222222222,
             "#7201a8"
            ],
            [
             0.3333333333333333,
             "#9c179e"
            ],
            [
             0.4444444444444444,
             "#bd3786"
            ],
            [
             0.5555555555555556,
             "#d8576b"
            ],
            [
             0.6666666666666666,
             "#ed7953"
            ],
            [
             0.7777777777777778,
             "#fb9f3a"
            ],
            [
             0.8888888888888888,
             "#fdca26"
            ],
            [
             1,
             "#f0f921"
            ]
           ]
          },
          "colorway": [
           "#636efa",
           "#EF553B",
           "#00cc96",
           "#ab63fa",
           "#FFA15A",
           "#19d3f3",
           "#FF6692",
           "#B6E880",
           "#FF97FF",
           "#FECB52"
          ],
          "font": {
           "color": "#2a3f5f"
          },
          "geo": {
           "bgcolor": "white",
           "lakecolor": "white",
           "landcolor": "#E5ECF6",
           "showlakes": true,
           "showland": true,
           "subunitcolor": "white"
          },
          "hoverlabel": {
           "align": "left"
          },
          "hovermode": "closest",
          "mapbox": {
           "style": "light"
          },
          "paper_bgcolor": "white",
          "plot_bgcolor": "#E5ECF6",
          "polar": {
           "angularaxis": {
            "gridcolor": "white",
            "linecolor": "white",
            "ticks": ""
           },
           "bgcolor": "#E5ECF6",
           "radialaxis": {
            "gridcolor": "white",
            "linecolor": "white",
            "ticks": ""
           }
          },
          "scene": {
           "xaxis": {
            "backgroundcolor": "#E5ECF6",
            "gridcolor": "white",
            "gridwidth": 2,
            "linecolor": "white",
            "showbackground": true,
            "ticks": "",
            "zerolinecolor": "white"
           },
           "yaxis": {
            "backgroundcolor": "#E5ECF6",
            "gridcolor": "white",
            "gridwidth": 2,
            "linecolor": "white",
            "showbackground": true,
            "ticks": "",
            "zerolinecolor": "white"
           },
           "zaxis": {
            "backgroundcolor": "#E5ECF6",
            "gridcolor": "white",
            "gridwidth": 2,
            "linecolor": "white",
            "showbackground": true,
            "ticks": "",
            "zerolinecolor": "white"
           }
          },
          "shapedefaults": {
           "line": {
            "color": "#2a3f5f"
           }
          },
          "ternary": {
           "aaxis": {
            "gridcolor": "white",
            "linecolor": "white",
            "ticks": ""
           },
           "baxis": {
            "gridcolor": "white",
            "linecolor": "white",
            "ticks": ""
           },
           "bgcolor": "#E5ECF6",
           "caxis": {
            "gridcolor": "white",
            "linecolor": "white",
            "ticks": ""
           }
          },
          "title": {
           "x": 0.05
          },
          "xaxis": {
           "automargin": true,
           "gridcolor": "white",
           "linecolor": "white",
           "ticks": "",
           "title": {
            "standoff": 15
           },
           "zerolinecolor": "white",
           "zerolinewidth": 2
          },
          "yaxis": {
           "automargin": true,
           "gridcolor": "white",
           "linecolor": "white",
           "ticks": "",
           "title": {
            "standoff": 15
           },
           "zerolinecolor": "white",
           "zerolinewidth": 2
          }
         }
        },
        "title": {
         "text": "SP100 Percentage Changes",
         "x": 0.5
        },
        "width": 1000,
        "xaxis": {
         "anchor": "y",
         "domain": [
          0,
          1
         ],
         "showticklabels": true,
         "tickangle": -45,
         "title": {
          "text": "Symbols"
         },
         "type": "category"
        },
        "yaxis": {
         "anchor": "x",
         "domain": [
          0,
          1
         ],
         "title": {
          "text": "Percentage"
         }
        }
       }
      }
     },
     "metadata": {},
     "output_type": "display_data"
    },
    {
     "name": "stdout",
     "output_type": "stream",
     "text": [
      "---- taEmails ---- :   ['cy627aws1@gmail.com']\n",
      "Zzzzzzzzzzzzz   CMY1   Zzzzzzzzzzzzz\n",
      "Start Date=2021-10-27  End Date=2021-10-28\n",
      "Start Date=2021-10-22  End Date=2021-10-28\n",
      "Start Date=2021-10-15  End Date=2021-10-28\n"
     ]
    },
    {
     "data": {
      "application/vnd.plotly.v1+json": {
       "config": {
        "plotlyServerURL": "https://plot.ly"
       },
       "data": [
        {
         "alignmentgroup": "True",
         "hovertemplate": "variable=2days Chgs<br>Symbol=%{x}<br>value=%{y}<extra></extra>",
         "legendgroup": "2days Chgs",
         "marker": {
          "color": "#636efa",
          "pattern": {
           "shape": ""
          }
         },
         "name": "2days Chgs",
         "offsetgroup": "2days Chgs",
         "orientation": "v",
         "showlegend": true,
         "textposition": "auto",
         "type": "bar",
         "x": [
          "(MACD) BAC",
          "(MACD) WFC",
          "(MACD) TSM"
         ],
         "xaxis": "x",
         "y": [
          1.5731246797770932,
          2.6173854011190443,
          1.9868150648179945
         ],
         "yaxis": "y"
        },
        {
         "alignmentgroup": "True",
         "hovertemplate": "variable=5days Chgs<br>Symbol=%{x}<br>value=%{y}<extra></extra>",
         "legendgroup": "5days Chgs",
         "marker": {
          "color": "#EF553B",
          "pattern": {
           "shape": ""
          }
         },
         "name": "5days Chgs",
         "offsetgroup": "5days Chgs",
         "orientation": "v",
         "showlegend": true,
         "textposition": "auto",
         "type": "bar",
         "x": [
          "(MACD) BAC",
          "(MACD) WFC",
          "(MACD) TSM"
         ],
         "xaxis": "x",
         "y": [
          0.4414527765815918,
          1.3817622681560502,
          1.5582585371506352
         ],
         "yaxis": "y"
        },
        {
         "alignmentgroup": "True",
         "hovertemplate": "variable=10days Chgs<br>Symbol=%{x}<br>value=%{y}<extra></extra>",
         "legendgroup": "10days Chgs",
         "marker": {
          "color": "#00cc96",
          "pattern": {
           "shape": ""
          }
         },
         "name": "10days Chgs",
         "offsetgroup": "10days Chgs",
         "orientation": "v",
         "showlegend": true,
         "textposition": "auto",
         "type": "bar",
         "x": [
          "(MACD) BAC",
          "(MACD) WFC",
          "(MACD) TSM"
         ],
         "xaxis": "x",
         "y": [
          3.0407588524712486,
          6.159568988104658,
          1.0012201983004902
         ],
         "yaxis": "y"
        }
       ],
       "layout": {
        "bargap": 0.2,
        "bargroupgap": 0,
        "barmode": "group",
        "font": {
         "color": "RebeccaPurple",
         "family": "Courier New, monospace",
         "size": 18
        },
        "height": 400,
        "legend": {
         "title": {
          "text": "Days"
         },
         "tracegroupgap": 0
        },
        "margin": {
         "t": 60
        },
        "template": {
         "data": {
          "bar": [
           {
            "error_x": {
             "color": "#2a3f5f"
            },
            "error_y": {
             "color": "#2a3f5f"
            },
            "marker": {
             "line": {
              "color": "#E5ECF6",
              "width": 0.5
             },
             "pattern": {
              "fillmode": "overlay",
              "size": 10,
              "solidity": 0.2
             }
            },
            "type": "bar"
           }
          ],
          "barpolar": [
           {
            "marker": {
             "line": {
              "color": "#E5ECF6",
              "width": 0.5
             },
             "pattern": {
              "fillmode": "overlay",
              "size": 10,
              "solidity": 0.2
             }
            },
            "type": "barpolar"
           }
          ],
          "carpet": [
           {
            "aaxis": {
             "endlinecolor": "#2a3f5f",
             "gridcolor": "white",
             "linecolor": "white",
             "minorgridcolor": "white",
             "startlinecolor": "#2a3f5f"
            },
            "baxis": {
             "endlinecolor": "#2a3f5f",
             "gridcolor": "white",
             "linecolor": "white",
             "minorgridcolor": "white",
             "startlinecolor": "#2a3f5f"
            },
            "type": "carpet"
           }
          ],
          "choropleth": [
           {
            "colorbar": {
             "outlinewidth": 0,
             "ticks": ""
            },
            "type": "choropleth"
           }
          ],
          "contour": [
           {
            "colorbar": {
             "outlinewidth": 0,
             "ticks": ""
            },
            "colorscale": [
             [
              0,
              "#0d0887"
             ],
             [
              0.1111111111111111,
              "#46039f"
             ],
             [
              0.2222222222222222,
              "#7201a8"
             ],
             [
              0.3333333333333333,
              "#9c179e"
             ],
             [
              0.4444444444444444,
              "#bd3786"
             ],
             [
              0.5555555555555556,
              "#d8576b"
             ],
             [
              0.6666666666666666,
              "#ed7953"
             ],
             [
              0.7777777777777778,
              "#fb9f3a"
             ],
             [
              0.8888888888888888,
              "#fdca26"
             ],
             [
              1,
              "#f0f921"
             ]
            ],
            "type": "contour"
           }
          ],
          "contourcarpet": [
           {
            "colorbar": {
             "outlinewidth": 0,
             "ticks": ""
            },
            "type": "contourcarpet"
           }
          ],
          "heatmap": [
           {
            "colorbar": {
             "outlinewidth": 0,
             "ticks": ""
            },
            "colorscale": [
             [
              0,
              "#0d0887"
             ],
             [
              0.1111111111111111,
              "#46039f"
             ],
             [
              0.2222222222222222,
              "#7201a8"
             ],
             [
              0.3333333333333333,
              "#9c179e"
             ],
             [
              0.4444444444444444,
              "#bd3786"
             ],
             [
              0.5555555555555556,
              "#d8576b"
             ],
             [
              0.6666666666666666,
              "#ed7953"
             ],
             [
              0.7777777777777778,
              "#fb9f3a"
             ],
             [
              0.8888888888888888,
              "#fdca26"
             ],
             [
              1,
              "#f0f921"
             ]
            ],
            "type": "heatmap"
           }
          ],
          "heatmapgl": [
           {
            "colorbar": {
             "outlinewidth": 0,
             "ticks": ""
            },
            "colorscale": [
             [
              0,
              "#0d0887"
             ],
             [
              0.1111111111111111,
              "#46039f"
             ],
             [
              0.2222222222222222,
              "#7201a8"
             ],
             [
              0.3333333333333333,
              "#9c179e"
             ],
             [
              0.4444444444444444,
              "#bd3786"
             ],
             [
              0.5555555555555556,
              "#d8576b"
             ],
             [
              0.6666666666666666,
              "#ed7953"
             ],
             [
              0.7777777777777778,
              "#fb9f3a"
             ],
             [
              0.8888888888888888,
              "#fdca26"
             ],
             [
              1,
              "#f0f921"
             ]
            ],
            "type": "heatmapgl"
           }
          ],
          "histogram": [
           {
            "marker": {
             "pattern": {
              "fillmode": "overlay",
              "size": 10,
              "solidity": 0.2
             }
            },
            "type": "histogram"
           }
          ],
          "histogram2d": [
           {
            "colorbar": {
             "outlinewidth": 0,
             "ticks": ""
            },
            "colorscale": [
             [
              0,
              "#0d0887"
             ],
             [
              0.1111111111111111,
              "#46039f"
             ],
             [
              0.2222222222222222,
              "#7201a8"
             ],
             [
              0.3333333333333333,
              "#9c179e"
             ],
             [
              0.4444444444444444,
              "#bd3786"
             ],
             [
              0.5555555555555556,
              "#d8576b"
             ],
             [
              0.6666666666666666,
              "#ed7953"
             ],
             [
              0.7777777777777778,
              "#fb9f3a"
             ],
             [
              0.8888888888888888,
              "#fdca26"
             ],
             [
              1,
              "#f0f921"
             ]
            ],
            "type": "histogram2d"
           }
          ],
          "histogram2dcontour": [
           {
            "colorbar": {
             "outlinewidth": 0,
             "ticks": ""
            },
            "colorscale": [
             [
              0,
              "#0d0887"
             ],
             [
              0.1111111111111111,
              "#46039f"
             ],
             [
              0.2222222222222222,
              "#7201a8"
             ],
             [
              0.3333333333333333,
              "#9c179e"
             ],
             [
              0.4444444444444444,
              "#bd3786"
             ],
             [
              0.5555555555555556,
              "#d8576b"
             ],
             [
              0.6666666666666666,
              "#ed7953"
             ],
             [
              0.7777777777777778,
              "#fb9f3a"
             ],
             [
              0.8888888888888888,
              "#fdca26"
             ],
             [
              1,
              "#f0f921"
             ]
            ],
            "type": "histogram2dcontour"
           }
          ],
          "mesh3d": [
           {
            "colorbar": {
             "outlinewidth": 0,
             "ticks": ""
            },
            "type": "mesh3d"
           }
          ],
          "parcoords": [
           {
            "line": {
             "colorbar": {
              "outlinewidth": 0,
              "ticks": ""
             }
            },
            "type": "parcoords"
           }
          ],
          "pie": [
           {
            "automargin": true,
            "type": "pie"
           }
          ],
          "scatter": [
           {
            "marker": {
             "colorbar": {
              "outlinewidth": 0,
              "ticks": ""
             }
            },
            "type": "scatter"
           }
          ],
          "scatter3d": [
           {
            "line": {
             "colorbar": {
              "outlinewidth": 0,
              "ticks": ""
             }
            },
            "marker": {
             "colorbar": {
              "outlinewidth": 0,
              "ticks": ""
             }
            },
            "type": "scatter3d"
           }
          ],
          "scattercarpet": [
           {
            "marker": {
             "colorbar": {
              "outlinewidth": 0,
              "ticks": ""
             }
            },
            "type": "scattercarpet"
           }
          ],
          "scattergeo": [
           {
            "marker": {
             "colorbar": {
              "outlinewidth": 0,
              "ticks": ""
             }
            },
            "type": "scattergeo"
           }
          ],
          "scattergl": [
           {
            "marker": {
             "colorbar": {
              "outlinewidth": 0,
              "ticks": ""
             }
            },
            "type": "scattergl"
           }
          ],
          "scattermapbox": [
           {
            "marker": {
             "colorbar": {
              "outlinewidth": 0,
              "ticks": ""
             }
            },
            "type": "scattermapbox"
           }
          ],
          "scatterpolar": [
           {
            "marker": {
             "colorbar": {
              "outlinewidth": 0,
              "ticks": ""
             }
            },
            "type": "scatterpolar"
           }
          ],
          "scatterpolargl": [
           {
            "marker": {
             "colorbar": {
              "outlinewidth": 0,
              "ticks": ""
             }
            },
            "type": "scatterpolargl"
           }
          ],
          "scatterternary": [
           {
            "marker": {
             "colorbar": {
              "outlinewidth": 0,
              "ticks": ""
             }
            },
            "type": "scatterternary"
           }
          ],
          "surface": [
           {
            "colorbar": {
             "outlinewidth": 0,
             "ticks": ""
            },
            "colorscale": [
             [
              0,
              "#0d0887"
             ],
             [
              0.1111111111111111,
              "#46039f"
             ],
             [
              0.2222222222222222,
              "#7201a8"
             ],
             [
              0.3333333333333333,
              "#9c179e"
             ],
             [
              0.4444444444444444,
              "#bd3786"
             ],
             [
              0.5555555555555556,
              "#d8576b"
             ],
             [
              0.6666666666666666,
              "#ed7953"
             ],
             [
              0.7777777777777778,
              "#fb9f3a"
             ],
             [
              0.8888888888888888,
              "#fdca26"
             ],
             [
              1,
              "#f0f921"
             ]
            ],
            "type": "surface"
           }
          ],
          "table": [
           {
            "cells": {
             "fill": {
              "color": "#EBF0F8"
             },
             "line": {
              "color": "white"
             }
            },
            "header": {
             "fill": {
              "color": "#C8D4E3"
             },
             "line": {
              "color": "white"
             }
            },
            "type": "table"
           }
          ]
         },
         "layout": {
          "annotationdefaults": {
           "arrowcolor": "#2a3f5f",
           "arrowhead": 0,
           "arrowwidth": 1
          },
          "autotypenumbers": "strict",
          "coloraxis": {
           "colorbar": {
            "outlinewidth": 0,
            "ticks": ""
           }
          },
          "colorscale": {
           "diverging": [
            [
             0,
             "#8e0152"
            ],
            [
             0.1,
             "#c51b7d"
            ],
            [
             0.2,
             "#de77ae"
            ],
            [
             0.3,
             "#f1b6da"
            ],
            [
             0.4,
             "#fde0ef"
            ],
            [
             0.5,
             "#f7f7f7"
            ],
            [
             0.6,
             "#e6f5d0"
            ],
            [
             0.7,
             "#b8e186"
            ],
            [
             0.8,
             "#7fbc41"
            ],
            [
             0.9,
             "#4d9221"
            ],
            [
             1,
             "#276419"
            ]
           ],
           "sequential": [
            [
             0,
             "#0d0887"
            ],
            [
             0.1111111111111111,
             "#46039f"
            ],
            [
             0.2222222222222222,
             "#7201a8"
            ],
            [
             0.3333333333333333,
             "#9c179e"
            ],
            [
             0.4444444444444444,
             "#bd3786"
            ],
            [
             0.5555555555555556,
             "#d8576b"
            ],
            [
             0.6666666666666666,
             "#ed7953"
            ],
            [
             0.7777777777777778,
             "#fb9f3a"
            ],
            [
             0.8888888888888888,
             "#fdca26"
            ],
            [
             1,
             "#f0f921"
            ]
           ],
           "sequentialminus": [
            [
             0,
             "#0d0887"
            ],
            [
             0.1111111111111111,
             "#46039f"
            ],
            [
             0.2222222222222222,
             "#7201a8"
            ],
            [
             0.3333333333333333,
             "#9c179e"
            ],
            [
             0.4444444444444444,
             "#bd3786"
            ],
            [
             0.5555555555555556,
             "#d8576b"
            ],
            [
             0.6666666666666666,
             "#ed7953"
            ],
            [
             0.7777777777777778,
             "#fb9f3a"
            ],
            [
             0.8888888888888888,
             "#fdca26"
            ],
            [
             1,
             "#f0f921"
            ]
           ]
          },
          "colorway": [
           "#636efa",
           "#EF553B",
           "#00cc96",
           "#ab63fa",
           "#FFA15A",
           "#19d3f3",
           "#FF6692",
           "#B6E880",
           "#FF97FF",
           "#FECB52"
          ],
          "font": {
           "color": "#2a3f5f"
          },
          "geo": {
           "bgcolor": "white",
           "lakecolor": "white",
           "landcolor": "#E5ECF6",
           "showlakes": true,
           "showland": true,
           "subunitcolor": "white"
          },
          "hoverlabel": {
           "align": "left"
          },
          "hovermode": "closest",
          "mapbox": {
           "style": "light"
          },
          "paper_bgcolor": "white",
          "plot_bgcolor": "#E5ECF6",
          "polar": {
           "angularaxis": {
            "gridcolor": "white",
            "linecolor": "white",
            "ticks": ""
           },
           "bgcolor": "#E5ECF6",
           "radialaxis": {
            "gridcolor": "white",
            "linecolor": "white",
            "ticks": ""
           }
          },
          "scene": {
           "xaxis": {
            "backgroundcolor": "#E5ECF6",
            "gridcolor": "white",
            "gridwidth": 2,
            "linecolor": "white",
            "showbackground": true,
            "ticks": "",
            "zerolinecolor": "white"
           },
           "yaxis": {
            "backgroundcolor": "#E5ECF6",
            "gridcolor": "white",
            "gridwidth": 2,
            "linecolor": "white",
            "showbackground": true,
            "ticks": "",
            "zerolinecolor": "white"
           },
           "zaxis": {
            "backgroundcolor": "#E5ECF6",
            "gridcolor": "white",
            "gridwidth": 2,
            "linecolor": "white",
            "showbackground": true,
            "ticks": "",
            "zerolinecolor": "white"
           }
          },
          "shapedefaults": {
           "line": {
            "color": "#2a3f5f"
           }
          },
          "ternary": {
           "aaxis": {
            "gridcolor": "white",
            "linecolor": "white",
            "ticks": ""
           },
           "baxis": {
            "gridcolor": "white",
            "linecolor": "white",
            "ticks": ""
           },
           "bgcolor": "#E5ECF6",
           "caxis": {
            "gridcolor": "white",
            "linecolor": "white",
            "ticks": ""
           }
          },
          "title": {
           "x": 0.05
          },
          "xaxis": {
           "automargin": true,
           "gridcolor": "white",
           "linecolor": "white",
           "ticks": "",
           "title": {
            "standoff": 15
           },
           "zerolinecolor": "white",
           "zerolinewidth": 2
          },
          "yaxis": {
           "automargin": true,
           "gridcolor": "white",
           "linecolor": "white",
           "ticks": "",
           "title": {
            "standoff": 15
           },
           "zerolinecolor": "white",
           "zerolinewidth": 2
          }
         }
        },
        "title": {
         "text": "CMY1 Percentage Changes",
         "x": 0.5
        },
        "width": 1000,
        "xaxis": {
         "anchor": "y",
         "domain": [
          0,
          1
         ],
         "showticklabels": true,
         "tickangle": -45,
         "title": {
          "text": "Symbols"
         },
         "type": "category"
        },
        "yaxis": {
         "anchor": "x",
         "domain": [
          0,
          1
         ],
         "title": {
          "text": "Percentage"
         }
        }
       }
      }
     },
     "metadata": {},
     "output_type": "display_data"
    },
    {
     "name": "stdout",
     "output_type": "stream",
     "text": [
      "---- taEmails ---- :   ['cy627aws1@gmail.com', 'cy627aws2.gmaild.com', 'cy627aws3.gmail.com']\n"
     ]
    }
   ],
   "source": [
    "# Daily process\n",
    "# 1. Get process parms from DB\n",
    "procParms = GetTaReportParms('TA')\n",
    "# 1. update DB with yfdata\n",
    "# procParms.stkGrpLst = ['SP100'] #TESTING\n",
    "\n",
    "updStkGrpYfData = UpdStkGrpYfData('YfData')\n",
    "updStkGrpYfData.updateDB()\n",
    "\n",
    "# 2. Apply Technical Analysis to all the stocks in the TA DB\n",
    "\n",
    "applyTechAnalysis = ApplyTechAnalysis('YfData')\n",
    "applyTechAnalysis.applyTa()\n",
    "\n",
    "# 3. Create TA reports based on the parms in the TA db\n",
    "\n",
    "arkxEtfLstBuyingRpt = ArkxEtfLstBuyingRpt(procParms.stkGrpLst,procParms.chgDaylst)\n",
    "# arkxEtfLstBuyingRpt = ArkxEtfLstBuyingRpt(['ARKK','ARKF','ARKW','ARKQ','ARKX','ARKG','CMY1','DJIA','SP100'],[2,5,10])\n",
    "# arkxEtfLstBuyingRpt = ArkxEtfLstBuyingRpt(['ARKX'],[2,5,10])\n",
    "arkxEtfLstBuyingRpt.createArkxEtfBuyingRpt()"
   ]
  },
  {
   "cell_type": "code",
   "execution_count": 34,
   "metadata": {},
   "outputs": [],
   "source": [
    "# etfStockGrpBuyingReport = StockGrpBuyingReport('ARKK',[2,5,10])\n",
    "# etfStockGrpBuyingReport.createBuyingRpt()"
   ]
  },
  {
   "cell_type": "code",
   "execution_count": 35,
   "metadata": {},
   "outputs": [],
   "source": [
    "# djia = Recommender('djia')\n",
    "# djia.updateDB()\n",
    "# dfdjiaSignals =djia.recommend()\n",
    "# djiaEmails = CreateEmails('DJIA',dfdjiaSignals)\n",
    "# djiaEmails.sendEmails()"
   ]
  },
  {
   "cell_type": "code",
   "execution_count": 36,
   "metadata": {},
   "outputs": [],
   "source": [
    "# arkk = Recommender('arkk')\n",
    "# # arkk.updateDB()\n",
    "# dfarkkSignals =arkk.recommend()\n",
    "# print(dfarkkSignals)\n",
    "# tkersLst = dfarkkSignals.Symbol.to_list()\n",
    "# print(tkersLst)\n",
    "# DbQuoteData =DbQuoteData('arkk', tkersLst,2)\n",
    "# chgs = DbQuoteData.calc_percent_chgs()\n",
    "# # arkkEmails = CreateEmails('ARKK',dfarkkSignals)\n",
    "# # arkkEmails.sendEmails()"
   ]
  }
 ],
 "metadata": {
  "interpreter": {
   "hash": "c9d91972df8d5468c6823dba127abb1e1e031010dcd3d5a1bb4f13809a9a2bc9"
  },
  "kernelspec": {
   "display_name": "Python 3.8.8 64-bit ('base': conda)",
   "name": "python3"
  },
  "language_info": {
   "codemirror_mode": {
    "name": "ipython",
    "version": 3
   },
   "file_extension": ".py",
   "mimetype": "text/x-python",
   "name": "python",
   "nbconvert_exporter": "python",
   "pygments_lexer": "ipython3",
   "version": "3.8.8"
  }
 },
 "nbformat": 4,
 "nbformat_minor": 2
}
