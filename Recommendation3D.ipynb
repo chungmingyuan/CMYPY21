{
 "cells": [
  {
   "cell_type": "code",
   "execution_count": 89,
   "source": [
    "import os\n",
    "from dotenv import load_dotenv\n",
    "import sqlalchemy\n",
    "import pymysql\n",
    "import ta\n",
    "import pandas as pd\n",
    "import numpy as np\n",
    "import yfinance as yf\n",
    "pymysql.install_as_MySQLdb()\n",
    "import smtplib\n",
    "from pretty_html_table import build_table\n",
    "from email.mime.text import MIMEText\n",
    "from email.mime.multipart import MIMEMultipart\n",
    "from email.mime.image import MIMEImage\n",
    "import datetime as dt\n",
    "\n",
    "import pandas_market_calendars as mcal\n",
    "import plotly.express as px\n"
   ],
   "outputs": [],
   "metadata": {}
  },
  {
   "cell_type": "code",
   "execution_count": 90,
   "source": [
    "class Recommender:\n",
    "    def __init__(self,name):\n",
    "        self.name = name\n",
    "        self.conn = self.getDbConn()\n",
    "        \n",
    "    def getDbConn(self):\n",
    "        load_dotenv()\n",
    "        DB_ACCESS_KEY = os.getenv(\"DB_ACCESS_KEY\")\n",
    "        engine =\\\n",
    "            sqlalchemy.create_engine(DB_ACCESS_KEY+'/' \\\n",
    "                      +self.name)\n",
    "        return engine.connect()\n",
    "\n",
    "    def gettables(self):\n",
    "        query = f\"\"\"SELECT table_name FROM information_schema.tables\n",
    "        WHERE table_schema = '{self.name}'\"\"\"\n",
    "        df = pd.read_sql(query, self.conn)\n",
    "        df['Schema'] = self.name\n",
    "        return df\n",
    "\n",
    "    def maxdate(self):\n",
    "        req = self.name+'.'+f'`{self.gettables().TABLE_NAME[0]}`'\n",
    "        return pd.read_sql(f\"SELECT MAX(Date) FROM {req}\",self.conn)\n",
    "\n",
    "    def updateDB(self):\n",
    "        maxdate=self.maxdate()['MAX(Date)'][0]\n",
    "        print('DB MaxDate =', maxdate)\n",
    "        for symbol in self.gettables().TABLE_NAME:\n",
    "            data = yf.download(symbol, start=maxdate)\n",
    "            data = data[data.index > maxdate]\n",
    "            data = data.reset_index()\n",
    "            data.to_sql(symbol, self.conn, if_exists='append')\n",
    "        print(f'{self.name} successfully updated')   \n",
    "\n",
    "    def MACDdecision(self,df):\n",
    "        df['MACD_diff'] = ta.trend.macd_diff(df.Close)\n",
    "        df['Decision MACD'] = np.where((df.MACD_diff > 0) & (df.MACD_diff.shift(1) < 1), \n",
    "                                    True, False)\n",
    "\n",
    "    def Goldencrossdecision(self,df):\n",
    "        df['SMA20'] = ta.trend.sma_indicator(df.Close, window=20)\n",
    "        df['SMA50'] = ta.trend.sma_indicator(df.Close, window=50)\n",
    "        df['Signal'] = np.where(df['SMA20'] > df['SMA50'], True, False)\n",
    "        df['Decision GC'] = df.Signal.diff()\n",
    "\n",
    "    def RSI_SMAdecision(self,df):\n",
    "        df['RSI'] = ta.momentum.rsi(df.Close, window=10)\n",
    "        df['SMA200'] = ta.trend.sma_indicator(df.Close, window=200)\n",
    "        df['Decision RSI/SMA'] = np.where((df.Close > df.SMA200) & (df.RSI < 30),\n",
    "                                            True, False)\n",
    "    def getprices(self):\n",
    "        prices = []\n",
    "        for table, schema in zip(self.gettables().TABLE_NAME, self.gettables().Schema):\n",
    "            req = schema+'.'+f'`{table}`'\n",
    "            prices.append(pd.read_sql(f\"SELECT * \\\n",
    "                FROM (SELECT Date, Close FROM {req} ORDER BY Date desc Limit 201) SUB ORDER BY 1 ASC\",self.conn))\n",
    "        return prices\n",
    "\n",
    "    def applytechnicals(self):\n",
    "        prices = self.getprices()\n",
    "        # print(prices)\n",
    "        for frame in prices:\n",
    "            self.MACDdecision(frame)\n",
    "            self.Goldencrossdecision(frame)\n",
    "            self.RSI_SMAdecision(frame)\n",
    "        return prices \n",
    "\n",
    "    def recommend(self):\n",
    "        indicators = ['Decision MACD','Decision GC','Decision RSI/SMA']\n",
    "        sigColumns=['Name','Symbol','Decision MACD','Decision GC','Decision RSI/SMA']\n",
    "        dfSignals=pd.DataFrame(columns=sigColumns)\n",
    "        for symbol, frame in zip(self.gettables().TABLE_NAME,self.applytechnicals()):\n",
    "            if frame.empty is False:\n",
    "                macd, gc, rsi, sig ='', '', '', ''\n",
    "                for indicator in indicators:\n",
    "                    if frame[indicator].iloc[-1] == True: # only chk today's result in the last row\n",
    "                        if 'Decision MACD' == indicator:\n",
    "                            macd, sig = 'X', 'MACD'\n",
    "                        if 'Decision GC' == indicator:\n",
    "                            gc, sig = 'X', 'GC' \n",
    "                        if 'Decision RSI/SMA' == indicator:\n",
    "                            rsi, sig = 'X', 'RSI'\n",
    "                if sig != '':\n",
    "                    dfSignals = dfSignals.append(\n",
    "                        {\n",
    "                        'Name': self.name,\n",
    "                        'Symbol' : symbol.upper(),\n",
    "                        'Decision MACD' : macd,\n",
    "                        'Decision GC' : gc,\n",
    "                        'Decision RSI/SMA' : rsi,\n",
    "                        'Signal' : sig\n",
    "                        },ignore_index=True\n",
    "                    )\n",
    "        return dfSignals.set_index('Name')"
   ],
   "outputs": [],
   "metadata": {}
  },
  {
   "cell_type": "code",
   "execution_count": 91,
   "source": [
    "class CreateEmails:\n",
    "    smtp_server ='smtp.gmail.com'\n",
    "    port = 587\n",
    "    def __init__(self, name, dfSignals, pdf):\n",
    "        self.name = name\n",
    "        self.dfSignals =dfSignals\n",
    "        self.pdf = pdf\n",
    "        self.sender = os.getenv(\"SENDER_EMAIL\")\n",
    "        self.receivers = os.getenv(\"RECEIVER_EMAILS\")\n",
    "        self.password = os.getenv(\"PASSWORD\")\n",
    "        \n",
    "        \n",
    "    def sendEmails(self):    \n",
    "        message = MIMEMultipart()\n",
    "        message['Subject'] = f'{self.name} buying signals report'\n",
    "        message['From'] = self.sender\n",
    "        message['To'] = self.receivers\n",
    "        now = dt.datetime.now().strftime(\"%m/%d/%Y %H:%M:%S\")\n",
    "        header = f'<h2>{self.name} buying signals report created at {now}</h2>'\n",
    "        body = build_table(self.dfSignals, \"green_light\",text_align =\"center\")\n",
    "        footer = f'<h2>Good Luck!!!</h2>'\n",
    "        \n",
    "        img = MIMEImage(self.pdf, \"pdf\" )\n",
    "        img.add_header('Content-Disposition', 'attachment', filename=self.name+\".pdf\")\n",
    "        body_content = header + body + footer\n",
    "        message.attach(MIMEText(body_content, \"html\"))\n",
    "        message.attach(img)\n",
    "        msg_body = message.as_string()\n",
    "        server =smtplib.SMTP(self.smtp_server, self.port)\n",
    "        server.starttls()\n",
    "        server.login(self.sender,self.password)\n",
    "        server.sendmail(self.sender,self.receivers,msg_body)\n",
    "        #\n",
    "        server.quit()"
   ],
   "outputs": [],
   "metadata": {}
  },
  {
   "cell_type": "code",
   "execution_count": 92,
   "source": [
    "class DbQouteData:\n",
    "    def __init__(self, name, tickers_lst, days):\n",
    "        self.name = name\n",
    "        self.tickers_lst = tickers_lst\n",
    "        self.days = days\n",
    "        self.conn = self.getDbConn()\n",
    "                \n",
    "    def getDbConn(self):\n",
    "        load_dotenv()\n",
    "        DB_ACCESS_KEY = os.getenv(\"DB_ACCESS_KEY\")\n",
    "        engine =\\\n",
    "            sqlalchemy.create_engine(DB_ACCESS_KEY+'/' \\\n",
    "                      +self.name)\n",
    "        return engine.connect()\n",
    "    \n",
    "    # Step1: Calcualte the start and end dates based on the input days from the valid NYSC calendar\n",
    "    def get_start_end_dates(self):\n",
    "    # get the last valid NYSE bus dates for the last 40 calendar dates using market calendar\n",
    "        nyse = mcal.get_calendar('NYSE')\n",
    "        schedule_nyse = nyse.schedule(\n",
    "            (dt.datetime.today()-dt.timedelta(40)).strftime(\"%Y-%m-%d\"),\n",
    "            dt.datetime.today().strftime(\"%Y-%m-%d\"))\n",
    "    #check today's market closed or not\n",
    "        if dt.datetime.now(dt.timezone.utc).hour >= schedule_nyse.market_close[-1].hour:\n",
    "            market_closed_indicator = 0 # now is after 4PM ET- market closed-- we have today's data\n",
    "        else:\n",
    "            market_closed_indicator = 1  # else yesterday's data      \n",
    "        end = schedule_nyse.market_close[-1-market_closed_indicator].strftime(\"%Y-%m-%d\")\n",
    "        start = schedule_nyse.market_close[-self.days-market_closed_indicator].strftime(\"%Y-%m-%d\")\n",
    "        return start, end\n",
    "    def getDbCloseQuote(self, symbol,date):\n",
    "        req = self.name+'.'+f'`{symbol}`'\n",
    "        sql = f\"SELECT `Adj Close` FROM {req} where Date = '{date}'\"\n",
    "        result = self.conn.execute(sql)\n",
    "        adjCloseQ = 0.0\n",
    "        for row in result:\n",
    "            adjCloseQ = row['Adj Close']\n",
    "        return adjCloseQ\n",
    "    def calcChgs(self,symbol,start,end):\n",
    "        startQ= self.getDbCloseQuote(symbol,start)\n",
    "        endQ= self.getDbCloseQuote(symbol,end)\n",
    "        if (endQ == 0.0) :\n",
    "            return 0.0\n",
    "        else:\n",
    "            return (endQ-startQ)/startQ*100\n",
    "    # Step2: Get the quotes data from Database based on the input parm 'days'\n",
    "    def calc_percent_chgs(self):\n",
    "        start, end = self.get_start_end_dates() #call step1\n",
    "        print(f'get quotes start---{dt.datetime.now().strftime(\"%d/%m/%Y %H:%M:%S\")}')\n",
    "        start, end = self.get_start_end_dates() #call step1\n",
    "        print(f'Start Date={start}  End Date={end}')\n",
    "        chgs=[]\n",
    "        for symbol in self.tickers_lst:\n",
    "            chg = self.calcChgs(symbol,start, end)\n",
    "            chgs.append(chg)\n",
    "        return chgs\n",
    "    \n",
    "    "
   ],
   "outputs": [],
   "metadata": {}
  },
  {
   "cell_type": "code",
   "execution_count": 93,
   "source": [
    "class TksChgsByDays:\n",
    "    #days_lst = (2,5,10) # 1D/1W/2W\n",
    "    def __init__(self, name, tks, days):\n",
    "        self.name = name\n",
    "        self.tks = tks\n",
    "        self.days =days    \n",
    "    def get_chgs(self):\n",
    "        tksChgsByDays = []\n",
    "        for day in self.days:\n",
    "            dbQouteData =DbQouteData(self.name, self.tks,day)\n",
    "            tkerChgs = dbQouteData.calc_percent_chgs()\n",
    "            tksChgsByDays.append(tkerChgs) \n",
    "        return tksChgsByDays"
   ],
   "outputs": [],
   "metadata": {}
  },
  {
   "cell_type": "code",
   "execution_count": 94,
   "source": [
    "class PlotChgs:\n",
    "    def __init__(self, name, chgs):\n",
    "        self.name = name\n",
    "        self.chgs = chgs\n",
    "    def doPlot(self):\n",
    "        fig = px.bar(self.chgs,width=1000, height=400)\n",
    "        fig.update_layout(barmode = 'group', bargap = 0.2, bargroupgap = 0.0)\n",
    "        fig.update_layout(\n",
    "            title=self.name + \" Percentage Changes\",\n",
    "            title_x=0.5,\n",
    "            xaxis_tickangle=-45,\n",
    "            xaxis_showticklabels= True,\n",
    "            xaxis_type = 'category',\n",
    "            xaxis_title=\"Symbols\",\n",
    "            yaxis_title=\"Percentage\",\n",
    "            legend_title=\"Days\",\n",
    "            font=dict(\n",
    "                family=\"Courier New, monospace\",\n",
    "                size=18,\n",
    "                color=\"RebeccaPurple\"\n",
    "            )\n",
    "        )\n",
    "        fig.show()\n",
    "        pdf = fig.to_image(format=\"pdf\")  \n",
    "        return pdf"
   ],
   "outputs": [],
   "metadata": {}
  },
  {
   "cell_type": "code",
   "execution_count": 95,
   "source": [
    "class StockGrpBuyingReport:\n",
    "    def __init__(self,name, days):\n",
    "        self.name = name\n",
    "        self.days = days\n",
    "    def createBuyingRpt(self):\n",
    "    # udpate DB\n",
    "        stkGrp = Recommender(self.name)\n",
    "        stkGrp.updateDB()\n",
    "    # create report\n",
    "        dfStkGrpSignals =stkGrp.recommend()\n",
    "        # print(dfStkGrpSignals.head())\n",
    "    # create changes\n",
    "        stkGrpSymbolLst =dfStkGrpSignals.Symbol.to_list()\n",
    "        stkGrpChgsByDays = TksChgsByDays(self.name, stkGrpSymbolLst, self.days)\n",
    "        stkGrpTksChgsByDays = stkGrpChgsByDays.get_chgs()\n",
    "        # print(dfStkGrpSignals) \n",
    "        df = pd.DataFrame(stkGrpTksChgsByDays).transpose()\n",
    "        df['Symbol']= ('(' + dfStkGrpSignals.Signal +') ' + dfStkGrpSignals.Symbol).to_list() # remove signal col\n",
    "        df=df.set_index('Symbol',drop = True)\n",
    "        daysNames =[]\n",
    "        for day in self.days:\n",
    "            daysNames.append(str(day)+'days Chgs')\n",
    "        df.columns = daysNames\n",
    "        # print(df)\n",
    "        \n",
    "    # create plot\n",
    "        stkGrpchgsPlot=PlotChgs(self.name, df)\n",
    "        svg = stkGrpchgsPlot.doPlot()\n",
    "        \n",
    "    # create email\n",
    "        stkGrpEmails = CreateEmails(self.name,dfStkGrpSignals.drop(columns=['Signal']),svg) #remove signal col\n",
    "        stkGrpEmails.sendEmails()\n",
    "    \n",
    "class ArkxEtfLstBuyingRpt:\n",
    "    def __init__(self,etfLst, days):\n",
    "        self.etfLst = etfLst\n",
    "        self.days = days\n",
    "    def createArkxEtfBuyingRpt(self):\n",
    "        for etf in self.etfLst:\n",
    "            etfStockGrpBuyingReport = StockGrpBuyingReport(etf, self.days)\n",
    "            etfStockGrpBuyingReport.createBuyingRpt()"
   ],
   "outputs": [],
   "metadata": {}
  },
  {
   "cell_type": "code",
   "execution_count": 96,
   "source": [
    "# arkxEtfLstBuyingRpt = ArkxEtfLstBuyingRpt(['ARKK','ARKF','ARKW','ARKQ','ARKX','ARKG'],[2,5,10])\n",
    "arkxEtfLstBuyingRpt = ArkxEtfLstBuyingRpt(['CMY1'],[2,5,10])\n",
    "arkxEtfLstBuyingRpt.createArkxEtfBuyingRpt()"
   ],
   "outputs": [
    {
     "output_type": "stream",
     "name": "stdout",
     "text": [
      "DB MaxDate = 2021-09-02 00:00:00\n",
      "[*********************100%***********************]  1 of 1 completed\n",
      "[*********************100%***********************]  1 of 1 completed\n",
      "[*********************100%***********************]  1 of 1 completed\n",
      "[*********************100%***********************]  1 of 1 completed\n",
      "[*********************100%***********************]  1 of 1 completed\n",
      "CMY1 successfully updated\n",
      "[          Date      Close\n",
      "0   2020-11-16  27.580000\n",
      "1   2020-11-17  27.549999\n",
      "2   2020-11-18  26.980000\n",
      "3   2020-11-19  26.980000\n",
      "4   2020-11-20  26.809999\n",
      "..         ...        ...\n",
      "196 2021-08-27  42.490002\n",
      "197 2021-08-30  41.660000\n",
      "198 2021-08-31  41.750000\n",
      "199 2021-09-01  41.189999\n",
      "200 2021-09-02  41.401402\n",
      "\n",
      "[201 rows x 2 columns],           Date      Close\n",
      "0   2020-11-16  50.400002\n",
      "1   2020-11-17  50.730000\n",
      "2   2020-11-18  51.049999\n",
      "3   2020-11-19  52.139999\n",
      "4   2020-11-20  51.650002\n",
      "..         ...        ...\n",
      "196 2021-08-27  72.989998\n",
      "197 2021-08-30  71.669998\n",
      "198 2021-08-31  71.910004\n",
      "199 2021-09-01  71.309998\n",
      "200 2021-09-02  71.910004\n",
      "\n",
      "[201 rows x 2 columns],           Date       Close\n",
      "0   2020-11-16  117.300003\n",
      "1   2020-11-17  116.110001\n",
      "2   2020-11-18  115.250000\n",
      "3   2020-11-19  115.559998\n",
      "4   2020-11-20  114.570000\n",
      "..         ...         ...\n",
      "196 2021-08-27  163.050003\n",
      "197 2021-08-30  160.440002\n",
      "198 2021-08-31  159.949997\n",
      "199 2021-09-01  159.720001\n",
      "200 2021-09-02  161.500000\n",
      "\n",
      "[201 rows x 2 columns],           Date       Close\n",
      "0   2020-11-16  212.699997\n",
      "1   2020-11-17  210.710007\n",
      "2   2020-11-18  207.830002\n",
      "3   2020-11-19  207.570007\n",
      "4   2020-11-20  203.880005\n",
      "..         ...         ...\n",
      "196 2021-08-27  232.690002\n",
      "197 2021-08-30  231.229996\n",
      "198 2021-08-31  229.100006\n",
      "199 2021-09-01  230.119995\n",
      "200 2021-09-02  224.044998\n",
      "\n",
      "[201 rows x 2 columns],           Date      Close\n",
      "0   2020-11-16  24.900000\n",
      "1   2020-11-17  25.040001\n",
      "2   2020-11-18  25.059999\n",
      "3   2020-11-19  26.160000\n",
      "4   2020-11-20  25.480000\n",
      "..         ...        ...\n",
      "196 2021-08-27  49.810001\n",
      "197 2021-08-30  48.410000\n",
      "198 2021-08-31  45.700001\n",
      "199 2021-09-01  43.450001\n",
      "200 2021-09-02  44.834999\n",
      "\n",
      "[201 rows x 2 columns]]\n",
      "     Symbol Decision MACD Decision GC Decision RSI/SMA Signal\n",
      "Name                                                         \n",
      "CMY1    JPM             X                                MACD\n",
      "CMY1      V                                          X    RSI\n",
      "get quotes start---02/09/2021 10:48:10\n",
      "Start Date=2021-08-31  End Date=2021-09-01\n",
      "get quotes start---02/09/2021 10:48:10\n",
      "Start Date=2021-08-26  End Date=2021-09-01\n",
      "get quotes start---02/09/2021 10:48:10\n",
      "Start Date=2021-08-19  End Date=2021-09-01\n"
     ]
    },
    {
     "output_type": "display_data",
     "data": {
      "application/vnd.plotly.v1+json": {
       "config": {
        "plotlyServerURL": "https://plot.ly"
       },
       "data": [
        {
         "alignmentgroup": "True",
         "hovertemplate": "variable=2days Chgs<br>Symbol=%{x}<br>value=%{y}<extra></extra>",
         "legendgroup": "2days Chgs",
         "marker": {
          "color": "#636efa",
          "pattern": {
           "shape": ""
          }
         },
         "name": "2days Chgs",
         "offsetgroup": "2days Chgs",
         "orientation": "v",
         "showlegend": true,
         "textposition": "auto",
         "type": "bar",
         "x": [
          "(MACD) JPM",
          "(RSI) V"
         ],
         "xaxis": "x",
         "y": [
          -0.1437922675381396,
          0.4452156204705675
         ],
         "yaxis": "y"
        },
        {
         "alignmentgroup": "True",
         "hovertemplate": "variable=5days Chgs<br>Symbol=%{x}<br>value=%{y}<extra></extra>",
         "legendgroup": "5days Chgs",
         "marker": {
          "color": "#EF553B",
          "pattern": {
           "shape": ""
          }
         },
         "name": "5days Chgs",
         "offsetgroup": "5days Chgs",
         "orientation": "v",
         "showlegend": true,
         "textposition": "auto",
         "type": "bar",
         "x": [
          "(MACD) JPM",
          "(RSI) V"
         ],
         "xaxis": "x",
         "y": [
          -1.2550224292407264,
          -0.17352470408626683
         ],
         "yaxis": "y"
        },
        {
         "alignmentgroup": "True",
         "hovertemplate": "variable=10days Chgs<br>Symbol=%{x}<br>value=%{y}<extra></extra>",
         "legendgroup": "10days Chgs",
         "marker": {
          "color": "#00cc96",
          "pattern": {
           "shape": ""
          }
         },
         "name": "10days Chgs",
         "offsetgroup": "10days Chgs",
         "orientation": "v",
         "showlegend": true,
         "textposition": "auto",
         "type": "bar",
         "x": [
          "(MACD) JPM",
          "(RSI) V"
         ],
         "xaxis": "x",
         "y": [
          3.5260581309625048,
          -0.626165807820312
         ],
         "yaxis": "y"
        }
       ],
       "layout": {
        "bargap": 0.2,
        "bargroupgap": 0,
        "barmode": "group",
        "font": {
         "color": "RebeccaPurple",
         "family": "Courier New, monospace",
         "size": 18
        },
        "height": 400,
        "legend": {
         "title": {
          "text": "Days"
         },
         "tracegroupgap": 0
        },
        "margin": {
         "t": 60
        },
        "template": {
         "data": {
          "bar": [
           {
            "error_x": {
             "color": "#2a3f5f"
            },
            "error_y": {
             "color": "#2a3f5f"
            },
            "marker": {
             "line": {
              "color": "#E5ECF6",
              "width": 0.5
             },
             "pattern": {
              "fillmode": "overlay",
              "size": 10,
              "solidity": 0.2
             }
            },
            "type": "bar"
           }
          ],
          "barpolar": [
           {
            "marker": {
             "line": {
              "color": "#E5ECF6",
              "width": 0.5
             },
             "pattern": {
              "fillmode": "overlay",
              "size": 10,
              "solidity": 0.2
             }
            },
            "type": "barpolar"
           }
          ],
          "carpet": [
           {
            "aaxis": {
             "endlinecolor": "#2a3f5f",
             "gridcolor": "white",
             "linecolor": "white",
             "minorgridcolor": "white",
             "startlinecolor": "#2a3f5f"
            },
            "baxis": {
             "endlinecolor": "#2a3f5f",
             "gridcolor": "white",
             "linecolor": "white",
             "minorgridcolor": "white",
             "startlinecolor": "#2a3f5f"
            },
            "type": "carpet"
           }
          ],
          "choropleth": [
           {
            "colorbar": {
             "outlinewidth": 0,
             "ticks": ""
            },
            "type": "choropleth"
           }
          ],
          "contour": [
           {
            "colorbar": {
             "outlinewidth": 0,
             "ticks": ""
            },
            "colorscale": [
             [
              0,
              "#0d0887"
             ],
             [
              0.1111111111111111,
              "#46039f"
             ],
             [
              0.2222222222222222,
              "#7201a8"
             ],
             [
              0.3333333333333333,
              "#9c179e"
             ],
             [
              0.4444444444444444,
              "#bd3786"
             ],
             [
              0.5555555555555556,
              "#d8576b"
             ],
             [
              0.6666666666666666,
              "#ed7953"
             ],
             [
              0.7777777777777778,
              "#fb9f3a"
             ],
             [
              0.8888888888888888,
              "#fdca26"
             ],
             [
              1,
              "#f0f921"
             ]
            ],
            "type": "contour"
           }
          ],
          "contourcarpet": [
           {
            "colorbar": {
             "outlinewidth": 0,
             "ticks": ""
            },
            "type": "contourcarpet"
           }
          ],
          "heatmap": [
           {
            "colorbar": {
             "outlinewidth": 0,
             "ticks": ""
            },
            "colorscale": [
             [
              0,
              "#0d0887"
             ],
             [
              0.1111111111111111,
              "#46039f"
             ],
             [
              0.2222222222222222,
              "#7201a8"
             ],
             [
              0.3333333333333333,
              "#9c179e"
             ],
             [
              0.4444444444444444,
              "#bd3786"
             ],
             [
              0.5555555555555556,
              "#d8576b"
             ],
             [
              0.6666666666666666,
              "#ed7953"
             ],
             [
              0.7777777777777778,
              "#fb9f3a"
             ],
             [
              0.8888888888888888,
              "#fdca26"
             ],
             [
              1,
              "#f0f921"
             ]
            ],
            "type": "heatmap"
           }
          ],
          "heatmapgl": [
           {
            "colorbar": {
             "outlinewidth": 0,
             "ticks": ""
            },
            "colorscale": [
             [
              0,
              "#0d0887"
             ],
             [
              0.1111111111111111,
              "#46039f"
             ],
             [
              0.2222222222222222,
              "#7201a8"
             ],
             [
              0.3333333333333333,
              "#9c179e"
             ],
             [
              0.4444444444444444,
              "#bd3786"
             ],
             [
              0.5555555555555556,
              "#d8576b"
             ],
             [
              0.6666666666666666,
              "#ed7953"
             ],
             [
              0.7777777777777778,
              "#fb9f3a"
             ],
             [
              0.8888888888888888,
              "#fdca26"
             ],
             [
              1,
              "#f0f921"
             ]
            ],
            "type": "heatmapgl"
           }
          ],
          "histogram": [
           {
            "marker": {
             "pattern": {
              "fillmode": "overlay",
              "size": 10,
              "solidity": 0.2
             }
            },
            "type": "histogram"
           }
          ],
          "histogram2d": [
           {
            "colorbar": {
             "outlinewidth": 0,
             "ticks": ""
            },
            "colorscale": [
             [
              0,
              "#0d0887"
             ],
             [
              0.1111111111111111,
              "#46039f"
             ],
             [
              0.2222222222222222,
              "#7201a8"
             ],
             [
              0.3333333333333333,
              "#9c179e"
             ],
             [
              0.4444444444444444,
              "#bd3786"
             ],
             [
              0.5555555555555556,
              "#d8576b"
             ],
             [
              0.6666666666666666,
              "#ed7953"
             ],
             [
              0.7777777777777778,
              "#fb9f3a"
             ],
             [
              0.8888888888888888,
              "#fdca26"
             ],
             [
              1,
              "#f0f921"
             ]
            ],
            "type": "histogram2d"
           }
          ],
          "histogram2dcontour": [
           {
            "colorbar": {
             "outlinewidth": 0,
             "ticks": ""
            },
            "colorscale": [
             [
              0,
              "#0d0887"
             ],
             [
              0.1111111111111111,
              "#46039f"
             ],
             [
              0.2222222222222222,
              "#7201a8"
             ],
             [
              0.3333333333333333,
              "#9c179e"
             ],
             [
              0.4444444444444444,
              "#bd3786"
             ],
             [
              0.5555555555555556,
              "#d8576b"
             ],
             [
              0.6666666666666666,
              "#ed7953"
             ],
             [
              0.7777777777777778,
              "#fb9f3a"
             ],
             [
              0.8888888888888888,
              "#fdca26"
             ],
             [
              1,
              "#f0f921"
             ]
            ],
            "type": "histogram2dcontour"
           }
          ],
          "mesh3d": [
           {
            "colorbar": {
             "outlinewidth": 0,
             "ticks": ""
            },
            "type": "mesh3d"
           }
          ],
          "parcoords": [
           {
            "line": {
             "colorbar": {
              "outlinewidth": 0,
              "ticks": ""
             }
            },
            "type": "parcoords"
           }
          ],
          "pie": [
           {
            "automargin": true,
            "type": "pie"
           }
          ],
          "scatter": [
           {
            "marker": {
             "colorbar": {
              "outlinewidth": 0,
              "ticks": ""
             }
            },
            "type": "scatter"
           }
          ],
          "scatter3d": [
           {
            "line": {
             "colorbar": {
              "outlinewidth": 0,
              "ticks": ""
             }
            },
            "marker": {
             "colorbar": {
              "outlinewidth": 0,
              "ticks": ""
             }
            },
            "type": "scatter3d"
           }
          ],
          "scattercarpet": [
           {
            "marker": {
             "colorbar": {
              "outlinewidth": 0,
              "ticks": ""
             }
            },
            "type": "scattercarpet"
           }
          ],
          "scattergeo": [
           {
            "marker": {
             "colorbar": {
              "outlinewidth": 0,
              "ticks": ""
             }
            },
            "type": "scattergeo"
           }
          ],
          "scattergl": [
           {
            "marker": {
             "colorbar": {
              "outlinewidth": 0,
              "ticks": ""
             }
            },
            "type": "scattergl"
           }
          ],
          "scattermapbox": [
           {
            "marker": {
             "colorbar": {
              "outlinewidth": 0,
              "ticks": ""
             }
            },
            "type": "scattermapbox"
           }
          ],
          "scatterpolar": [
           {
            "marker": {
             "colorbar": {
              "outlinewidth": 0,
              "ticks": ""
             }
            },
            "type": "scatterpolar"
           }
          ],
          "scatterpolargl": [
           {
            "marker": {
             "colorbar": {
              "outlinewidth": 0,
              "ticks": ""
             }
            },
            "type": "scatterpolargl"
           }
          ],
          "scatterternary": [
           {
            "marker": {
             "colorbar": {
              "outlinewidth": 0,
              "ticks": ""
             }
            },
            "type": "scatterternary"
           }
          ],
          "surface": [
           {
            "colorbar": {
             "outlinewidth": 0,
             "ticks": ""
            },
            "colorscale": [
             [
              0,
              "#0d0887"
             ],
             [
              0.1111111111111111,
              "#46039f"
             ],
             [
              0.2222222222222222,
              "#7201a8"
             ],
             [
              0.3333333333333333,
              "#9c179e"
             ],
             [
              0.4444444444444444,
              "#bd3786"
             ],
             [
              0.5555555555555556,
              "#d8576b"
             ],
             [
              0.6666666666666666,
              "#ed7953"
             ],
             [
              0.7777777777777778,
              "#fb9f3a"
             ],
             [
              0.8888888888888888,
              "#fdca26"
             ],
             [
              1,
              "#f0f921"
             ]
            ],
            "type": "surface"
           }
          ],
          "table": [
           {
            "cells": {
             "fill": {
              "color": "#EBF0F8"
             },
             "line": {
              "color": "white"
             }
            },
            "header": {
             "fill": {
              "color": "#C8D4E3"
             },
             "line": {
              "color": "white"
             }
            },
            "type": "table"
           }
          ]
         },
         "layout": {
          "annotationdefaults": {
           "arrowcolor": "#2a3f5f",
           "arrowhead": 0,
           "arrowwidth": 1
          },
          "autotypenumbers": "strict",
          "coloraxis": {
           "colorbar": {
            "outlinewidth": 0,
            "ticks": ""
           }
          },
          "colorscale": {
           "diverging": [
            [
             0,
             "#8e0152"
            ],
            [
             0.1,
             "#c51b7d"
            ],
            [
             0.2,
             "#de77ae"
            ],
            [
             0.3,
             "#f1b6da"
            ],
            [
             0.4,
             "#fde0ef"
            ],
            [
             0.5,
             "#f7f7f7"
            ],
            [
             0.6,
             "#e6f5d0"
            ],
            [
             0.7,
             "#b8e186"
            ],
            [
             0.8,
             "#7fbc41"
            ],
            [
             0.9,
             "#4d9221"
            ],
            [
             1,
             "#276419"
            ]
           ],
           "sequential": [
            [
             0,
             "#0d0887"
            ],
            [
             0.1111111111111111,
             "#46039f"
            ],
            [
             0.2222222222222222,
             "#7201a8"
            ],
            [
             0.3333333333333333,
             "#9c179e"
            ],
            [
             0.4444444444444444,
             "#bd3786"
            ],
            [
             0.5555555555555556,
             "#d8576b"
            ],
            [
             0.6666666666666666,
             "#ed7953"
            ],
            [
             0.7777777777777778,
             "#fb9f3a"
            ],
            [
             0.8888888888888888,
             "#fdca26"
            ],
            [
             1,
             "#f0f921"
            ]
           ],
           "sequentialminus": [
            [
             0,
             "#0d0887"
            ],
            [
             0.1111111111111111,
             "#46039f"
            ],
            [
             0.2222222222222222,
             "#7201a8"
            ],
            [
             0.3333333333333333,
             "#9c179e"
            ],
            [
             0.4444444444444444,
             "#bd3786"
            ],
            [
             0.5555555555555556,
             "#d8576b"
            ],
            [
             0.6666666666666666,
             "#ed7953"
            ],
            [
             0.7777777777777778,
             "#fb9f3a"
            ],
            [
             0.8888888888888888,
             "#fdca26"
            ],
            [
             1,
             "#f0f921"
            ]
           ]
          },
          "colorway": [
           "#636efa",
           "#EF553B",
           "#00cc96",
           "#ab63fa",
           "#FFA15A",
           "#19d3f3",
           "#FF6692",
           "#B6E880",
           "#FF97FF",
           "#FECB52"
          ],
          "font": {
           "color": "#2a3f5f"
          },
          "geo": {
           "bgcolor": "white",
           "lakecolor": "white",
           "landcolor": "#E5ECF6",
           "showlakes": true,
           "showland": true,
           "subunitcolor": "white"
          },
          "hoverlabel": {
           "align": "left"
          },
          "hovermode": "closest",
          "mapbox": {
           "style": "light"
          },
          "paper_bgcolor": "white",
          "plot_bgcolor": "#E5ECF6",
          "polar": {
           "angularaxis": {
            "gridcolor": "white",
            "linecolor": "white",
            "ticks": ""
           },
           "bgcolor": "#E5ECF6",
           "radialaxis": {
            "gridcolor": "white",
            "linecolor": "white",
            "ticks": ""
           }
          },
          "scene": {
           "xaxis": {
            "backgroundcolor": "#E5ECF6",
            "gridcolor": "white",
            "gridwidth": 2,
            "linecolor": "white",
            "showbackground": true,
            "ticks": "",
            "zerolinecolor": "white"
           },
           "yaxis": {
            "backgroundcolor": "#E5ECF6",
            "gridcolor": "white",
            "gridwidth": 2,
            "linecolor": "white",
            "showbackground": true,
            "ticks": "",
            "zerolinecolor": "white"
           },
           "zaxis": {
            "backgroundcolor": "#E5ECF6",
            "gridcolor": "white",
            "gridwidth": 2,
            "linecolor": "white",
            "showbackground": true,
            "ticks": "",
            "zerolinecolor": "white"
           }
          },
          "shapedefaults": {
           "line": {
            "color": "#2a3f5f"
           }
          },
          "ternary": {
           "aaxis": {
            "gridcolor": "white",
            "linecolor": "white",
            "ticks": ""
           },
           "baxis": {
            "gridcolor": "white",
            "linecolor": "white",
            "ticks": ""
           },
           "bgcolor": "#E5ECF6",
           "caxis": {
            "gridcolor": "white",
            "linecolor": "white",
            "ticks": ""
           }
          },
          "title": {
           "x": 0.05
          },
          "xaxis": {
           "automargin": true,
           "gridcolor": "white",
           "linecolor": "white",
           "ticks": "",
           "title": {
            "standoff": 15
           },
           "zerolinecolor": "white",
           "zerolinewidth": 2
          },
          "yaxis": {
           "automargin": true,
           "gridcolor": "white",
           "linecolor": "white",
           "ticks": "",
           "title": {
            "standoff": 15
           },
           "zerolinecolor": "white",
           "zerolinewidth": 2
          }
         }
        },
        "title": {
         "text": "CMY1 Percentage Changes",
         "x": 0.5
        },
        "width": 1000,
        "xaxis": {
         "anchor": "y",
         "domain": [
          0,
          1
         ],
         "showticklabels": true,
         "tickangle": -45,
         "title": {
          "text": "Symbols"
         },
         "type": "category"
        },
        "yaxis": {
         "anchor": "x",
         "domain": [
          0,
          1
         ],
         "title": {
          "text": "Percentage"
         }
        }
       }
      }
     },
     "metadata": {}
    }
   ],
   "metadata": {}
  },
  {
   "cell_type": "code",
   "execution_count": 97,
   "source": [
    "# etfStockGrpBuyingReport = StockGrpBuyingReport('ARKK',[2,5,10])\n",
    "# etfStockGrpBuyingReport.createBuyingRpt()"
   ],
   "outputs": [],
   "metadata": {}
  },
  {
   "cell_type": "code",
   "execution_count": 98,
   "source": [
    "# djia = Recommender('djia')\n",
    "# djia.updateDB()\n",
    "# dfdjiaSignals =djia.recommend()\n",
    "# djiaEmails = CreateEmails('DJIA',dfdjiaSignals)\n",
    "# djiaEmails.sendEmails()"
   ],
   "outputs": [],
   "metadata": {}
  },
  {
   "cell_type": "code",
   "execution_count": 99,
   "source": [
    "# arkk = Recommender('arkk')\n",
    "# # arkk.updateDB()\n",
    "# dfarkkSignals =arkk.recommend()\n",
    "# print(dfarkkSignals)\n",
    "# tkersLst = dfarkkSignals.Symbol.to_list()\n",
    "# print(tkersLst)\n",
    "# dbQouteData =DbQouteData('arkk', tkersLst,2)\n",
    "# chgs = dbQouteData.calc_percent_chgs()\n",
    "# # arkkEmails = CreateEmails('ARKK',dfarkkSignals)\n",
    "# # arkkEmails.sendEmails()"
   ],
   "outputs": [],
   "metadata": {}
  }
 ],
 "metadata": {
  "interpreter": {
   "hash": "dca0ade3e726a953b501b15e8e990130d2b7799f14cfd9f4271676035ebe5511"
  },
  "kernelspec": {
   "name": "python3",
   "display_name": "Python 3.8.8 64-bit ('base': conda)"
  },
  "language_info": {
   "codemirror_mode": {
    "name": "ipython",
    "version": 3
   },
   "file_extension": ".py",
   "mimetype": "text/x-python",
   "name": "python",
   "nbconvert_exporter": "python",
   "pygments_lexer": "ipython3",
   "version": "3.8.8"
  }
 },
 "nbformat": 4,
 "nbformat_minor": 2
}